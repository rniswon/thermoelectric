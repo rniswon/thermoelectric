{
 "cells": [
  {
   "cell_type": "code",
   "execution_count": null,
   "id": "fe0ad42b",
   "metadata": {
    "scrolled": true
   },
   "outputs": [],
   "source": [
    "# aeg\n",
    "# 10/14/22\n",
    "\n",
    "# look at high temps at TE plants\n"
   ]
  },
  {
   "cell_type": "code",
   "execution_count": 1,
   "id": "034add6f",
   "metadata": {
    "scrolled": true
   },
   "outputs": [],
   "source": [
    "import sys\n",
    "import numpy as np\n",
    "import geopandas as gpd\n",
    "import matplotlib.pyplot as plt\n",
    "import matplotlib\n",
    "# from pyPRMS.ParameterFile import ParameterFile\n",
    "import os\n",
    "# from PIL import Image\n",
    "# import glob\n",
    "import pandas as pd\n",
    "from mpl_toolkits.axes_grid1 import make_axes_locatable"
   ]
  },
  {
   "cell_type": "code",
   "execution_count": 2,
   "id": "12091d60",
   "metadata": {
    "scrolled": true
   },
   "outputs": [],
   "source": [
    "#set up paths\n",
    "seg_tave_water_fn = \"C:/Users/galanter/OneDrive - DOI/1-Projects/TEWU/subset_2000.csv\"\n",
    "seg_map_dir = 'C:/Users/galanter/OneDrive - DOI/2-GIS/TE/segment_mapping_gf_v11'\n",
    "out_dir = \"C:Users/galanter/OneDrive - DOI/1-Projects/TEWU\"\n",
    "te_path = 'C:/WU/Thermoelectric/environmental/data'\n"
   ]
  },
  {
   "cell_type": "code",
   "execution_count": 3,
   "id": "f637a6af",
   "metadata": {
    "scrolled": true
   },
   "outputs": [
    {
     "name": "stdout",
     "output_type": "stream",
     "text": [
      "3.10.5 | packaged by conda-forge | (main, Jun 14 2022, 06:57:19) [MSC v.1929 64 bit (AMD64)]\n"
     ]
    }
   ],
   "source": [
    "print (sys.version)"
   ]
  },
  {
   "cell_type": "code",
   "execution_count": 4,
   "id": "7303723c",
   "metadata": {
    "scrolled": true
   },
   "outputs": [],
   "source": [
    "# read in files\n",
    "plant_list = pd.read_csv(os.path.join(te_path,'all_plants_all_years_1498.csv'))"
   ]
  },
  {
   "cell_type": "code",
   "execution_count": 5,
   "id": "03267070",
   "metadata": {},
   "outputs": [],
   "source": [
    "seg_map_df = gpd.read_file(os.path.join(seg_map_dir, \"segment_mapping_gf_v11.shp\"))\n",
    "seg_map_df = seg_map_df.astype({'nsegment_v': 'string'})\n",
    "\n",
    "#merge the geodataframe with the plant list\n",
    "plants_df_geo = seg_map_df.merge(plant_list, how = 'right', left_on = 'nsegment_v',\n",
    "                                 right_on = 'nsegment_v11_new')\n",
    "\n",
    "plants = plants_df_geo[['prms_id', 'eia_id']]\n",
    "plants = plants[plants['prms_id'].notna()]"
   ]
  },
  {
   "cell_type": "code",
   "execution_count": 6,
   "id": "062ea762",
   "metadata": {
    "scrolled": true
   },
   "outputs": [
    {
     "name": "stdout",
     "output_type": "stream",
     "text": [
      "reading C:/Users/galanter/OneDrive - DOI/1-Projects/TEWU/subset_2000.csv\n",
      "ndates = 8036 nfeatures = 58489\n",
      "(8036, 58489)\n"
     ]
    }
   ],
   "source": [
    "# Read the output csv file\n",
    "fn = seg_tave_water_fn\n",
    "print(\"reading\", fn)\n",
    "\n",
    "fp = open(fn) \n",
    "# header = fp.readline()\n",
    "# colnames = header.split(',')\n",
    "# colnames.pop(0)\n",
    "# print(colnames)\n",
    "\n",
    "ndates = 0\n",
    "line = fp.readline()\n",
    "toks = line.strip().split(',')\n",
    "nfeatures = len(toks) - 1\n",
    "\n",
    "while line:\n",
    "    line = fp.readline()\n",
    "    ndates += 1\n",
    "fp.close()\n",
    "\n",
    "print(\"ndates =\", ndates, \"nfeatures =\", nfeatures)\n",
    "# print(lncnt)\n",
    "sim_dates = np.zeros(ndates, dtype='datetime64[D]')\n",
    "sim_vals = np.zeros((ndates, nfeatures), dtype=float)\n",
    "\n",
    "with open(fn) as fp:\n",
    "    # Skip header\n",
    "#     header = fp.readline()\n",
    "    \n",
    "    ii = 0\n",
    "    Lines = fp.readlines()\n",
    "    for line in Lines:\n",
    "        foo = line.strip()\n",
    "        toks = foo.split(',')\n",
    "        sim_dates[ii] = toks[0]\n",
    "        \n",
    "        for jj in range(len(toks)-1):\n",
    "            sim_vals[ii,jj] = float(toks[jj+1])\n",
    "            \n",
    "        ii += 1\n",
    "        \n",
    "print(sim_vals.shape)"
   ]
  },
  {
   "cell_type": "code",
   "execution_count": 7,
   "id": "2458ff3d",
   "metadata": {},
   "outputs": [],
   "source": [
    "# eliminate excess columns\n",
    "prms_list = plants_df_geo['prms_id'].dropna().astype(int).to_list()\n",
    "prms_list.sort()\n"
   ]
  },
  {
   "cell_type": "code",
   "execution_count": 8,
   "id": "663ac8b0",
   "metadata": {},
   "outputs": [],
   "source": [
    "# make a dataframe of the sntemp data \n",
    "sntemp_data = sim_vals[:, prms_list]\n",
    "sntemp_df = pd.DataFrame(sntemp_data, columns = prms_list)\n",
    "# add the date column and filter for 2008- 2020\n",
    "sntemp_df['date'] = sim_dates.tolist()\n",
    "sntemp_df['month'] = sntemp_df['date']\n",
    "sntemp_df['date'] = pd.to_datetime(sntemp_df['date'], format = '%Y-%m-%d')\n",
    "#trim the fat\n",
    "sntemp_df = sntemp_df.loc[(sntemp_df['date']> '2007-12-31')]\n",
    "sntemp_df = sntemp_df.loc[(sntemp_df['date']< '2021-01-01')]"
   ]
  },
  {
   "cell_type": "code",
   "execution_count": null,
   "id": "5c6b708d",
   "metadata": {
    "scrolled": true
   },
   "outputs": [],
   "source": [
    "print(seg_map)\n",
    "segs = gpd.read_file(seg_map)\n",
    "print(segs.shape)"
   ]
  },
  {
   "cell_type": "code",
   "execution_count": null,
   "id": "b2490c1a",
   "metadata": {},
   "outputs": [],
   "source": []
  },
  {
   "cell_type": "code",
   "execution_count": null,
   "id": "fd877af2",
   "metadata": {
    "scrolled": true
   },
   "outputs": [],
   "source": [
    "domain = gpd.read_file(domain_map)"
   ]
  },
  {
   "cell_type": "code",
   "execution_count": null,
   "id": "be630a47",
   "metadata": {
    "scrolled": false
   },
   "outputs": [],
   "source": [
    "fig, axs = plt.subplots(1, 1, figsize=(20,10))\n",
    "domain.plot(ax=axs, color='#ffffff', edgecolor='#6a6a6a', linewidth=1)\n",
    "segs.plot(linewidth=0.3, ax=axs)"
   ]
  },
  {
   "cell_type": "code",
   "execution_count": null,
   "id": "ddd3201f",
   "metadata": {
    "scrolled": false
   },
   "outputs": [],
   "source": [
    "segs.head()"
   ]
  },
  {
   "cell_type": "code",
   "execution_count": null,
   "id": "08aef3a1",
   "metadata": {
    "scrolled": true
   },
   "outputs": [],
   "source": [
    "segs_sort = segs.sort_values('model_idx', ascending=True)"
   ]
  },
  {
   "cell_type": "code",
   "execution_count": null,
   "id": "b34aa81d",
   "metadata": {
    "scrolled": true
   },
   "outputs": [],
   "source": [
    "segs_sort.head()"
   ]
  },
  {
   "cell_type": "code",
   "execution_count": null,
   "id": "d7e56809",
   "metadata": {
    "scrolled": true
   },
   "outputs": [],
   "source": [
    "vmin = min(sim_vals.flatten())\n",
    "vmax = max(sim_vals.flatten())\n",
    "print(vmin, vmax)\n",
    "\n",
    "# For plotting, set any temp < 0.1 to 0.1 because of the log transform\n",
    "seg_tave_water_min = 0.1\n",
    "\n",
    "sim_vals[sim_vals < seg_tave_water_min] = seg_tave_water_min\n",
    "\n",
    "vmin = min(sim_vals.flatten())\n",
    "vmax = max(sim_vals.flatten())\n",
    "print(vmin, vmax)"
   ]
  },
  {
   "cell_type": "code",
   "execution_count": null,
   "id": "e1aca48c",
   "metadata": {
    "scrolled": false
   },
   "outputs": [],
   "source": [
    "dates = pd.date_range('2020-01-02', '2021-12-31')\n",
    "# dates = pd.date_range('2020-07-01', '2020-07-01')\n",
    "ndates = len(dates)\n",
    "\n",
    "# for idate in (range(0,ndates)):\n",
    "if True:\n",
    "    idate = 212\n",
    "# for idate in (range(0,1)):\n",
    "#     vmax = max(sim_vals.flatten())\n",
    "    val_min = 0.1\n",
    "    vals = sim_vals[idate, :]\n",
    "    \n",
    "    segs_sort[\"vals\"] = vals\n",
    "    \n",
    "    fig, ax = plt.subplots(1, 1, figsize=(20,10))\n",
    "    divider = make_axes_locatable(ax)\n",
    "    cax = divider.append_axes(\"right\", size=\"5%\", pad=0.1)\n",
    "\n",
    "    ax = segs_sort.plot(column='vals', ax=ax, cmap='jet', linewidth=0.5,\n",
    "        norm=matplotlib.colors.LogNorm(vmin=val_min, vmax=vmax), cax=cax,\n",
    "        legend=True,)\n",
    "        \n",
    "    domain.geometry.boundary.plot(ax=ax, color=None, edgecolor='#6a6a6a', linewidth= 0.5)\n",
    "    ax.set_axis_off()\n",
    "    ax.set_title(str(dates[idate])[0:10] + \" seg_tave_water (degrees C)\" + \" from NHM-AK v0.0.0\", fontdict={'fontsize': 18, 'fontweight': 'medium'})\n",
    "    plt.show()\n",
    "    \n",
    "    # Free memory\n",
    "    fig = ax.get_figure()\n",
    "    fig.clear()\n",
    "    plt.close(fig)"
   ]
  },
  {
   "cell_type": "code",
   "execution_count": null,
   "id": "91ee3cb1",
   "metadata": {},
   "outputs": [],
   "source": [
    "segs_sort.head()"
   ]
  },
  {
   "cell_type": "code",
   "execution_count": null,
   "id": "90367147",
   "metadata": {
    "scrolled": true
   },
   "outputs": [],
   "source": []
  },
  {
   "cell_type": "code",
   "execution_count": null,
   "id": "6232c954",
   "metadata": {},
   "outputs": [],
   "source": [
    "# sim_dates[ii]\n",
    "# sim_vals[ii,jj]"
   ]
  },
  {
   "cell_type": "code",
   "execution_count": null,
   "id": "1460eb1f",
   "metadata": {},
   "outputs": [],
   "source": [
    "print(sim_dates)"
   ]
  },
  {
   "cell_type": "code",
   "execution_count": null,
   "id": "3b1ab85e",
   "metadata": {},
   "outputs": [],
   "source": []
  },
  {
   "cell_type": "code",
   "execution_count": null,
   "id": "5fdcedf8",
   "metadata": {
    "scrolled": true
   },
   "outputs": [],
   "source": [
    "model_idx = 19006\n",
    "temp_vals = sim_vals[:,model_idx-1]\n",
    "\n",
    "plt.figure(figsize=(20,10))\n",
    "plt.xlabel('Date')\n",
    "plt.ylabel('Water Temperature, oC')\n",
    "plt.plot(sim_dates, temp_vals)"
   ]
  },
  {
   "cell_type": "code",
   "execution_count": null,
   "id": "1fe17acf",
   "metadata": {},
   "outputs": [],
   "source": []
  }
 ],
 "metadata": {
  "kernelspec": {
   "display_name": "Python 3 (ipykernel)",
   "language": "python",
   "name": "python3"
  },
  "language_info": {
   "codemirror_mode": {
    "name": "ipython",
    "version": 3
   },
   "file_extension": ".py",
   "mimetype": "text/x-python",
   "name": "python",
   "nbconvert_exporter": "python",
   "pygments_lexer": "ipython3",
   "version": "3.10.5"
  }
 },
 "nbformat": 4,
 "nbformat_minor": 5
}
