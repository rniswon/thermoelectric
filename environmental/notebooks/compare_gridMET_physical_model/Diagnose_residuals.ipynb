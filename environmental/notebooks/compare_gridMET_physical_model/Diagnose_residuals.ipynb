{
 "cells": [
  {
   "cell_type": "markdown",
   "metadata": {},
   "source": [
    "# Compare gridMET data and modeled input\n",
    "\n",
    "### What this notebook does: \n",
    "- Compare the 2015 gridMET data pulled at TE locations (using TE_fetcher_parser_nearest_neighbor_Daily_gridMET_data) to 2015 input data from Harris and Diehl (2019)\n",
    "\n",
    "### Why the comparison/ big picture goal: \n",
    "- Develop bias correction for gridMET data. Since 2015 input data from Harris and Diehl (2019) involved a lot of QA/QC and used climate stations, we will capitalize on that knowledge to better understand where the gridMET data might have issues. \n",
    "\n",
    "### Environment -- use 'ofp_env_upd2.yml' \n",
    "### will check more into contextily, maybe will update ofp_for_te, but for now kept separate"
   ]
  },
  {
   "cell_type": "code",
   "execution_count": 1,
   "metadata": {},
   "outputs": [
    {
     "name": "stdout",
     "output_type": "stream",
     "text": [
      "Populating the interactive namespace from numpy and matplotlib\n"
     ]
    }
   ],
   "source": [
    "# step 0- import the needed packages\n",
    "%matplotlib inline\n",
    "%pylab inline\n",
    "pylab.rcParams['figure.figsize'] = (10.0, 8.0)\n",
    "\n",
    "import geopandas as gpd\n",
    "import contextily as ctx\n",
    "import pandas as pd\n",
    "import os\n",
    "import numpy as np\n",
    "from shapely.geometry import Point, polygon\n",
    "from matplotlib.backends.backend_pdf import PdfPages"
   ]
  },
  {
   "cell_type": "code",
   "execution_count": 2,
   "metadata": {},
   "outputs": [],
   "source": [
    "# step 1- bring in df with lat longs of TE plants, gridMET data, 2015 model input data\n",
    "TEdir = r'C:\\WBEEP\\Thermoelectric-master\\Climate_data_fetcher'\n",
    "TE_shp = gpd.read_file(os.path.join(TEdir, '..\\GIS','2015_TE_Model_Estimates_lat.long_COMIDs.shp'))\n",
    "GM_data = pd.read_csv(os.path.join(TEdir, 'interpTE_plants_w_2015_daily_gridMET.csv'))\n",
    "input_2015 = pd.read_csv(os.path.join(TEdir, '..\\TE_Harris_Diehl_2015', '2015_TE_input_data_AEG.csv'))\n",
    "# Combined longterm pond net evap2.xlsx with 2015 input data"
   ]
  },
  {
   "cell_type": "code",
   "execution_count": 3,
   "metadata": {},
   "outputs": [],
   "source": [
    "# step 2- alter format of input_2015 for easier comparison to GM_data\n",
    "\n",
    "# remove duplicate plant EIAs and names, the duplicates are for different system types at the same location\n",
    "# but not relevant for comparing climate data.Remove columns relating to CD and WT- don't have those variables to compare to\n",
    "input_2015.drop_duplicates(subset = 'EIA_PLANT_ID', inplace=True)\n",
    "input_2015.drop(columns = ['COUNTY', 'STATE', 'NAME_OF_WATER_SOURCE','COOLING_TYPE', 'MODEL_TYPE', 'PERCENT_CD_ALLOCATION', \n",
    "                        'POND_AREA','CD_Jan', 'CD_Feb', 'CD_Mar', 'CD_Apr', 'CD_May', 'CD_Jun', 'CD_Jul', 'CD_Aug',\n",
    "                       'CD_Sep', 'CD_Oct', 'CD_Nov', 'CD_Dec','WT_Jan', 'WT_Feb', 'WT_Mar', 'WT_Apr', 'WT_May', 'WT_Jun', 'WT_Jul',\n",
    "                       'WT_Aug', 'WT_Sep', 'WT_Oct', 'WT_Nov', 'WT_Dec'], inplace=True)\n",
    "\n",
    "    "
   ]
  },
  {
   "cell_type": "code",
   "execution_count": 4,
   "metadata": {},
   "outputs": [],
   "source": [
    "# step 2.1 make rows into columns for input_2015 data\n",
    "plants = input_2015['EIA_PLANT_ID']\n",
    "cols = ['DB','WB','WS','EV']\n",
    "\n",
    "for i, EIA in enumerate(plants):\n",
    "    temp = input_2015[input_2015['EIA_PLANT_ID'] == EIA]\n",
    "    DB = temp.loc[:, 'DB_01':'DB_12']\n",
    "    WB = temp.loc[:, 'WB_01':'WB_12']\n",
    "    WS = temp.loc[:, 'WS_01':'WS_12']\n",
    "    EV = temp.loc[:, 'EV_01':'EV_12']\n",
    "    variables = [DB,WB,WS,EV]\n",
    "    \n",
    "    for j, var in enumerate(variables):\n",
    "        df = var.T.reset_index()        \n",
    "        df['index'] = df['index'].str[-2:]\n",
    "        df.columns = ['MONTH', cols[j]]\n",
    "        if j == 0:\n",
    "            df1 = df.copy(deep=True)\n",
    "        else: \n",
    "            df1 = pd.merge(df1, df, on = 'MONTH')\n",
    "    \n",
    "    df1['EIA_PLANT_'] =  EIA\n",
    "    \n",
    "    if i == 0:\n",
    "        df2 = df1.copy(deep=True)\n",
    "    else:\n",
    "        df2 = df2.append(df1)\n"
   ]
  },
  {
   "cell_type": "code",
   "execution_count": 5,
   "metadata": {},
   "outputs": [
    {
     "data": {
      "text/html": [
       "<div>\n",
       "<style scoped>\n",
       "    .dataframe tbody tr th:only-of-type {\n",
       "        vertical-align: middle;\n",
       "    }\n",
       "\n",
       "    .dataframe tbody tr th {\n",
       "        vertical-align: top;\n",
       "    }\n",
       "\n",
       "    .dataframe thead th {\n",
       "        text-align: right;\n",
       "    }\n",
       "</style>\n",
       "<table border=\"1\" class=\"dataframe\">\n",
       "  <thead>\n",
       "    <tr style=\"text-align: right;\">\n",
       "      <th></th>\n",
       "      <th>MONTH</th>\n",
       "      <th>DB</th>\n",
       "      <th>WB</th>\n",
       "      <th>WS</th>\n",
       "      <th>EV</th>\n",
       "      <th>EIA_PLANT_</th>\n",
       "    </tr>\n",
       "  </thead>\n",
       "  <tbody>\n",
       "    <tr>\n",
       "      <td>0</td>\n",
       "      <td>01</td>\n",
       "      <td>7.1</td>\n",
       "      <td>9.7</td>\n",
       "      <td>7.7</td>\n",
       "      <td>NaN</td>\n",
       "      <td>3</td>\n",
       "    </tr>\n",
       "    <tr>\n",
       "      <td>1</td>\n",
       "      <td>02</td>\n",
       "      <td>6.5</td>\n",
       "      <td>9.1</td>\n",
       "      <td>8.7</td>\n",
       "      <td>NaN</td>\n",
       "      <td>3</td>\n",
       "    </tr>\n",
       "    <tr>\n",
       "      <td>2</td>\n",
       "      <td>03</td>\n",
       "      <td>15.3</td>\n",
       "      <td>18.0</td>\n",
       "      <td>7.2</td>\n",
       "      <td>NaN</td>\n",
       "      <td>3</td>\n",
       "    </tr>\n",
       "    <tr>\n",
       "      <td>3</td>\n",
       "      <td>04</td>\n",
       "      <td>19.1</td>\n",
       "      <td>21.5</td>\n",
       "      <td>6.6</td>\n",
       "      <td>NaN</td>\n",
       "      <td>3</td>\n",
       "    </tr>\n",
       "    <tr>\n",
       "      <td>4</td>\n",
       "      <td>05</td>\n",
       "      <td>20.8</td>\n",
       "      <td>24.0</td>\n",
       "      <td>6.4</td>\n",
       "      <td>NaN</td>\n",
       "      <td>3</td>\n",
       "    </tr>\n",
       "  </tbody>\n",
       "</table>\n",
       "</div>"
      ],
      "text/plain": [
       "  MONTH    DB    WB   WS  EV  EIA_PLANT_\n",
       "0    01   7.1   9.7  7.7 NaN           3\n",
       "1    02   6.5   9.1  8.7 NaN           3\n",
       "2    03  15.3  18.0  7.2 NaN           3\n",
       "3    04  19.1  21.5  6.6 NaN           3\n",
       "4    05  20.8  24.0  6.4 NaN           3"
      ]
     },
     "execution_count": 5,
     "metadata": {},
     "output_type": "execute_result"
    }
   ],
   "source": [
    "df2.head()"
   ]
  },
  {
   "cell_type": "code",
   "execution_count": 6,
   "metadata": {},
   "outputs": [
    {
     "data": {
      "text/html": [
       "<div>\n",
       "<style scoped>\n",
       "    .dataframe tbody tr th:only-of-type {\n",
       "        vertical-align: middle;\n",
       "    }\n",
       "\n",
       "    .dataframe tbody tr th {\n",
       "        vertical-align: top;\n",
       "    }\n",
       "\n",
       "    .dataframe thead th {\n",
       "        text-align: right;\n",
       "    }\n",
       "</style>\n",
       "<table border=\"1\" class=\"dataframe\">\n",
       "  <thead>\n",
       "    <tr style=\"text-align: right;\">\n",
       "      <th></th>\n",
       "      <th>Unnamed: 0</th>\n",
       "      <th>EIA_P_DATE</th>\n",
       "      <th>air_tmp_avg_C</th>\n",
       "      <th>open_wtr_et_mm</th>\n",
       "      <th>wb_tmp_C</th>\n",
       "      <th>wnd_spd_m_s</th>\n",
       "    </tr>\n",
       "  </thead>\n",
       "  <tbody>\n",
       "    <tr>\n",
       "      <td>0</td>\n",
       "      <td>0</td>\n",
       "      <td>10003_2015-01-01</td>\n",
       "      <td>-8.872880</td>\n",
       "      <td>0.735000</td>\n",
       "      <td>-11.122612</td>\n",
       "      <td>1.758667</td>\n",
       "    </tr>\n",
       "    <tr>\n",
       "      <td>1</td>\n",
       "      <td>1</td>\n",
       "      <td>10003_2015-01-02</td>\n",
       "      <td>-3.619223</td>\n",
       "      <td>0.997136</td>\n",
       "      <td>-5.875960</td>\n",
       "      <td>2.600000</td>\n",
       "    </tr>\n",
       "    <tr>\n",
       "      <td>2</td>\n",
       "      <td>2</td>\n",
       "      <td>10003_2015-01-03</td>\n",
       "      <td>-7.759709</td>\n",
       "      <td>0.823536</td>\n",
       "      <td>-9.584805</td>\n",
       "      <td>3.350347</td>\n",
       "    </tr>\n",
       "    <tr>\n",
       "      <td>3</td>\n",
       "      <td>3</td>\n",
       "      <td>10003_2015-01-04</td>\n",
       "      <td>-6.184874</td>\n",
       "      <td>0.945000</td>\n",
       "      <td>-8.277121</td>\n",
       "      <td>2.800000</td>\n",
       "    </tr>\n",
       "    <tr>\n",
       "      <td>4</td>\n",
       "      <td>4</td>\n",
       "      <td>10003_2015-01-05</td>\n",
       "      <td>4.933631</td>\n",
       "      <td>2.674672</td>\n",
       "      <td>0.222053</td>\n",
       "      <td>4.765334</td>\n",
       "    </tr>\n",
       "    <tr>\n",
       "      <td>...</td>\n",
       "      <td>...</td>\n",
       "      <td>...</td>\n",
       "      <td>...</td>\n",
       "      <td>...</td>\n",
       "      <td>...</td>\n",
       "      <td>...</td>\n",
       "    </tr>\n",
       "    <tr>\n",
       "      <td>409525</td>\n",
       "      <td>409525</td>\n",
       "      <td>997_2015-12-27</td>\n",
       "      <td>2.797656</td>\n",
       "      <td>0.180086</td>\n",
       "      <td>2.067477</td>\n",
       "      <td>7.105083</td>\n",
       "    </tr>\n",
       "    <tr>\n",
       "      <td>409526</td>\n",
       "      <td>409526</td>\n",
       "      <td>997_2015-12-28</td>\n",
       "      <td>2.698279</td>\n",
       "      <td>1.680000</td>\n",
       "      <td>-0.114928</td>\n",
       "      <td>10.431935</td>\n",
       "    </tr>\n",
       "    <tr>\n",
       "      <td>409527</td>\n",
       "      <td>409527</td>\n",
       "      <td>997_2015-12-29</td>\n",
       "      <td>0.811083</td>\n",
       "      <td>0.525000</td>\n",
       "      <td>-0.383144</td>\n",
       "      <td>6.898362</td>\n",
       "    </tr>\n",
       "    <tr>\n",
       "      <td>409528</td>\n",
       "      <td>409528</td>\n",
       "      <td>997_2015-12-30</td>\n",
       "      <td>-0.774675</td>\n",
       "      <td>0.420000</td>\n",
       "      <td>-2.041145</td>\n",
       "      <td>2.671510</td>\n",
       "    </tr>\n",
       "    <tr>\n",
       "      <td>409529</td>\n",
       "      <td>409529</td>\n",
       "      <td>997_2015-12-31</td>\n",
       "      <td>-3.295279</td>\n",
       "      <td>0.315000</td>\n",
       "      <td>-5.124045</td>\n",
       "      <td>4.871510</td>\n",
       "    </tr>\n",
       "  </tbody>\n",
       "</table>\n",
       "<p>409530 rows × 6 columns</p>\n",
       "</div>"
      ],
      "text/plain": [
       "        Unnamed: 0        EIA_P_DATE  air_tmp_avg_C  open_wtr_et_mm  \\\n",
       "0                0  10003_2015-01-01      -8.872880        0.735000   \n",
       "1                1  10003_2015-01-02      -3.619223        0.997136   \n",
       "2                2  10003_2015-01-03      -7.759709        0.823536   \n",
       "3                3  10003_2015-01-04      -6.184874        0.945000   \n",
       "4                4  10003_2015-01-05       4.933631        2.674672   \n",
       "...            ...               ...            ...             ...   \n",
       "409525      409525    997_2015-12-27       2.797656        0.180086   \n",
       "409526      409526    997_2015-12-28       2.698279        1.680000   \n",
       "409527      409527    997_2015-12-29       0.811083        0.525000   \n",
       "409528      409528    997_2015-12-30      -0.774675        0.420000   \n",
       "409529      409529    997_2015-12-31      -3.295279        0.315000   \n",
       "\n",
       "         wb_tmp_C  wnd_spd_m_s  \n",
       "0      -11.122612     1.758667  \n",
       "1       -5.875960     2.600000  \n",
       "2       -9.584805     3.350347  \n",
       "3       -8.277121     2.800000  \n",
       "4        0.222053     4.765334  \n",
       "...           ...          ...  \n",
       "409525   2.067477     7.105083  \n",
       "409526  -0.114928    10.431935  \n",
       "409527  -0.383144     6.898362  \n",
       "409528  -2.041145     2.671510  \n",
       "409529  -5.124045     4.871510  \n",
       "\n",
       "[409530 rows x 6 columns]"
      ]
     },
     "execution_count": 6,
     "metadata": {},
     "output_type": "execute_result"
    }
   ],
   "source": [
    "GM_data"
   ]
  },
  {
   "cell_type": "code",
   "execution_count": 7,
   "metadata": {},
   "outputs": [],
   "source": [
    "# step 2.2 a little more data manipulation, ordering of columns, unit conv\n",
    "conv_mm=25.4 #inches to mm\n",
    "conv_ms = 1/60/60*1609.34\n",
    "#reorder columns\n",
    "p_mod_input =df2.copy(deep=True)\n",
    "p_mod_input = p_mod_input[['EIA_PLANT_','MONTH','DB', 'WB', 'WS', 'EV']]\n",
    "#conv Evap from inches to mm\n",
    "p_mod_input['EV'] = p_mod_input['EV']*conv_mm\n",
    "#conv WS from mph to m/s\n",
    "p_mod_input['WS'] = p_mod_input['WS']*conv_ms\n",
    "\n",
    "#rename cols\n",
    "cols = ['EIA_PLANT_','MONTH','DB_C', 'WB_C', 'WS_ms','EV_mm']\n",
    "p_mod_input.columns = cols"
   ]
  },
  {
   "cell_type": "code",
   "execution_count": 8,
   "metadata": {},
   "outputs": [],
   "source": [
    "# Step 3- calculate monthly means and medians from gridMET data\n",
    "#GM_data['YEAR'] = GM_data['day'].astype(str).str[0:4]\n",
    "#GM_data['MONTH'] = GM_data['day'].astype(str).str[5:7]\n",
    "\n",
    "# interp format\n",
    "GM_data['YEAR'] = GM_data['EIA_P_DATE'].astype(str).str[-10:-6]\n",
    "GM_data['MONTH'] = GM_data['EIA_P_DATE'].astype(str).str[-5:-3]\n",
    "GM_data['EIA_PLANT_'] = GM_data['EIA_P_DATE'].astype(str).str[0:-11]\n",
    "GM_data['EIA_PLANT_'] = GM_data['EIA_PLANT_'].astype('int64')"
   ]
  },
  {
   "cell_type": "code",
   "execution_count": 9,
   "metadata": {},
   "outputs": [],
   "source": [
    "GM_data.drop(columns = ['Unnamed: 0'], inplace=True) # also drops HI and AK plants, no gridMET data there to compare, so 1106 \n",
    "#plants instead of 1122"
   ]
  },
  {
   "cell_type": "code",
   "execution_count": 10,
   "metadata": {},
   "outputs": [],
   "source": [
    "# Step 3- calculate monthly means and medians from gridMET data\n",
    "#GM_data['YEAR'] = GM_data['day'].astype(str).str[0:4]\n",
    "#GM_data['MONTH'] = GM_data['day'].astype(str).str[5:7]\n",
    "\n",
    "month_means = pd.pivot_table(GM_data, index = ['EIA_PLANT_','MONTH'], aggfunc=np.mean)\n",
    "month_medians = pd.pivot_table(GM_data, index = ['EIA_PLANT_','MONTH'], aggfunc=np.median)\n",
    "month_means.reset_index(inplace=True)\n",
    "month_medians.reset_index(inplace=True)\n",
    "#GM_data.drop(columns = ['Unnamed: 0'], inplace=True) ##not sure why I cant do this before the aggfunc, but if I do\n",
    "# the number of plants reduces to 1106. Maybe there are some plants that are getting aggregated wrong. for now this is the \n",
    "# work aroudn to drop that column after\n"
   ]
  },
  {
   "cell_type": "code",
   "execution_count": 11,
   "metadata": {},
   "outputs": [
    {
     "data": {
      "text/html": [
       "<div>\n",
       "<style scoped>\n",
       "    .dataframe tbody tr th:only-of-type {\n",
       "        vertical-align: middle;\n",
       "    }\n",
       "\n",
       "    .dataframe tbody tr th {\n",
       "        vertical-align: top;\n",
       "    }\n",
       "\n",
       "    .dataframe thead th {\n",
       "        text-align: right;\n",
       "    }\n",
       "</style>\n",
       "<table border=\"1\" class=\"dataframe\">\n",
       "  <thead>\n",
       "    <tr style=\"text-align: right;\">\n",
       "      <th></th>\n",
       "      <th>EIA_PLANT_</th>\n",
       "      <th>MONTH</th>\n",
       "      <th>air_tmp_avg_C</th>\n",
       "      <th>open_wtr_et_mm</th>\n",
       "      <th>wb_tmp_C</th>\n",
       "      <th>wnd_spd_m_s</th>\n",
       "    </tr>\n",
       "  </thead>\n",
       "  <tbody>\n",
       "    <tr>\n",
       "      <td>0</td>\n",
       "      <td>3</td>\n",
       "      <td>01</td>\n",
       "      <td>8.420684</td>\n",
       "      <td>2.245942</td>\n",
       "      <td>5.040449</td>\n",
       "      <td>4.056752</td>\n",
       "    </tr>\n",
       "    <tr>\n",
       "      <td>1</td>\n",
       "      <td>3</td>\n",
       "      <td>02</td>\n",
       "      <td>7.559216</td>\n",
       "      <td>2.485715</td>\n",
       "      <td>4.222238</td>\n",
       "      <td>4.472853</td>\n",
       "    </tr>\n",
       "    <tr>\n",
       "      <td>2</td>\n",
       "      <td>3</td>\n",
       "      <td>03</td>\n",
       "      <td>16.939187</td>\n",
       "      <td>3.530295</td>\n",
       "      <td>12.979736</td>\n",
       "      <td>3.904093</td>\n",
       "    </tr>\n",
       "    <tr>\n",
       "      <td>3</td>\n",
       "      <td>3</td>\n",
       "      <td>04</td>\n",
       "      <td>20.560345</td>\n",
       "      <td>4.360121</td>\n",
       "      <td>16.793513</td>\n",
       "      <td>3.780933</td>\n",
       "    </tr>\n",
       "    <tr>\n",
       "      <td>4</td>\n",
       "      <td>3</td>\n",
       "      <td>05</td>\n",
       "      <td>23.277537</td>\n",
       "      <td>5.518137</td>\n",
       "      <td>19.388452</td>\n",
       "      <td>3.260868</td>\n",
       "    </tr>\n",
       "  </tbody>\n",
       "</table>\n",
       "</div>"
      ],
      "text/plain": [
       "   EIA_PLANT_ MONTH  air_tmp_avg_C  open_wtr_et_mm   wb_tmp_C  wnd_spd_m_s\n",
       "0           3    01       8.420684        2.245942   5.040449     4.056752\n",
       "1           3    02       7.559216        2.485715   4.222238     4.472853\n",
       "2           3    03      16.939187        3.530295  12.979736     3.904093\n",
       "3           3    04      20.560345        4.360121  16.793513     3.780933\n",
       "4           3    05      23.277537        5.518137  19.388452     3.260868"
      ]
     },
     "execution_count": 11,
     "metadata": {},
     "output_type": "execute_result"
    }
   ],
   "source": [
    "month_means.head()"
   ]
  },
  {
   "cell_type": "code",
   "execution_count": 12,
   "metadata": {},
   "outputs": [],
   "source": [
    "# Step 4: combine data for comparison\n",
    "# Adding a column called \"EIA_P_DATE\" which combines EIA PLANT and DATE \n",
    "month_means['EIA_P_DATE'] = month_means.apply(lambda row: str(row.EIA_PLANT_) + \"_2015-\" + str(row.MONTH), axis = 1)\n",
    "month_medians['EIA_P_DATE'] = month_medians.apply(lambda row: str(row.EIA_PLANT_) + \"_2015-\" + str(row.MONTH), axis = 1)\n",
    "p_mod_input['EIA_P_DATE'] = p_mod_input.apply(lambda row: str(row.EIA_PLANT_) + \"_2015-\" + str(row.MONTH), axis = 1)\n"
   ]
  },
  {
   "cell_type": "code",
   "execution_count": 13,
   "metadata": {},
   "outputs": [
    {
     "data": {
      "text/plain": [
       "(13272, 7)"
      ]
     },
     "execution_count": 13,
     "metadata": {},
     "output_type": "execute_result"
    }
   ],
   "source": [
    "month_means.shape"
   ]
  },
  {
   "cell_type": "code",
   "execution_count": 14,
   "metadata": {},
   "outputs": [
    {
     "data": {
      "text/plain": [
       "12.0"
      ]
     },
     "execution_count": 14,
     "metadata": {},
     "output_type": "execute_result"
    }
   ],
   "source": [
    "13272/1106"
   ]
  },
  {
   "cell_type": "code",
   "execution_count": 15,
   "metadata": {},
   "outputs": [],
   "source": [
    "#rename cols\n",
    "cols_mean =['EIA_PLANT_','MONTH','gm_DB_mean', 'gm_EV_mean', 'gm_WB_mean','gm_WS_mean','EIA_P_DATE']\n",
    "month_means.columns = cols_mean\n",
    "cols_median =['EIA_PLANT_','MONTH','gm_DB_med', 'gm_EV_med', 'gm_WB_med','gm_WS_med','EIA_P_DATE']\n",
    "month_medians.columns = cols_median\n",
    "\n",
    "#reorder cols\n",
    "month_means = month_means[['EIA_P_DATE','EIA_PLANT_','MONTH','gm_DB_mean', 'gm_WB_mean', 'gm_WS_mean', 'gm_EV_mean']]\n",
    "month_medians = month_medians[['EIA_P_DATE','EIA_PLANT_','MONTH','gm_DB_med', 'gm_WB_med', 'gm_WS_med', 'gm_EV_med']]\n",
    "p_mod_input = p_mod_input[['EIA_P_DATE','EIA_PLANT_','MONTH', 'DB_C','WB_C','WS_ms','EV_mm']]\n"
   ]
  },
  {
   "cell_type": "code",
   "execution_count": 16,
   "metadata": {},
   "outputs": [
    {
     "data": {
      "text/plain": [
       "True"
      ]
     },
     "execution_count": 16,
     "metadata": {},
     "output_type": "execute_result"
    }
   ],
   "source": [
    "len(month_means) == 1106*12\n",
    "len(month_medians) == 1106*12\n"
   ]
  },
  {
   "cell_type": "code",
   "execution_count": 17,
   "metadata": {},
   "outputs": [],
   "source": [
    "#merge the dfs on EIA_P_DATE\n",
    "mean_stats = pd.merge(month_means, p_mod_input, on = 'EIA_P_DATE')"
   ]
  },
  {
   "cell_type": "code",
   "execution_count": 18,
   "metadata": {},
   "outputs": [],
   "source": [
    "#compute the obs-sim column\n",
    "mean_stats['OBS_SIM_DB'] = mean_stats['DB_C'] - mean_stats['gm_DB_mean']\n",
    "mean_stats['OBS_SIM_WB'] = mean_stats['WB_C'] - mean_stats['gm_WB_mean']\n",
    "mean_stats['OBS_SIM_WS'] = mean_stats['WS_ms'] - mean_stats['gm_WS_mean']\n",
    "mean_stats['OBS_SIM_EV'] = mean_stats['EV_mm'] - mean_stats['gm_EV_mean']"
   ]
  },
  {
   "cell_type": "code",
   "execution_count": 19,
   "metadata": {},
   "outputs": [],
   "source": [
    "# compute the squared resid column\n",
    "mean_stats['DB_res_sq'] = (mean_stats['OBS_SIM_DB'])**2\n",
    "mean_stats['WB_res_sq'] = (mean_stats['OBS_SIM_WB'])**2\n",
    "mean_stats['WS_res_sq'] = (mean_stats['OBS_SIM_WS'])**2\n",
    "mean_stats['EV_res_sq'] = (mean_stats['OBS_SIM_EV'])**2"
   ]
  },
  {
   "cell_type": "code",
   "execution_count": 20,
   "metadata": {},
   "outputs": [
    {
     "data": {
      "text/html": [
       "<div>\n",
       "<style scoped>\n",
       "    .dataframe tbody tr th:only-of-type {\n",
       "        vertical-align: middle;\n",
       "    }\n",
       "\n",
       "    .dataframe tbody tr th {\n",
       "        vertical-align: top;\n",
       "    }\n",
       "\n",
       "    .dataframe thead th {\n",
       "        text-align: right;\n",
       "    }\n",
       "</style>\n",
       "<table border=\"1\" class=\"dataframe\">\n",
       "  <thead>\n",
       "    <tr style=\"text-align: right;\">\n",
       "      <th></th>\n",
       "      <th>EIA_P_DATE</th>\n",
       "      <th>EIA_PLANT__x</th>\n",
       "      <th>MONTH_x</th>\n",
       "      <th>gm_DB_mean</th>\n",
       "      <th>gm_WB_mean</th>\n",
       "      <th>gm_WS_mean</th>\n",
       "      <th>gm_EV_mean</th>\n",
       "      <th>EIA_PLANT__y</th>\n",
       "      <th>MONTH_y</th>\n",
       "      <th>DB_C</th>\n",
       "      <th>...</th>\n",
       "      <th>WS_ms</th>\n",
       "      <th>EV_mm</th>\n",
       "      <th>OBS_SIM_DB</th>\n",
       "      <th>OBS_SIM_WB</th>\n",
       "      <th>OBS_SIM_WS</th>\n",
       "      <th>OBS_SIM_EV</th>\n",
       "      <th>DB_res_sq</th>\n",
       "      <th>WB_res_sq</th>\n",
       "      <th>WS_res_sq</th>\n",
       "      <th>EV_res_sq</th>\n",
       "    </tr>\n",
       "  </thead>\n",
       "  <tbody>\n",
       "    <tr>\n",
       "      <td>0</td>\n",
       "      <td>3_2015-01</td>\n",
       "      <td>3</td>\n",
       "      <td>01</td>\n",
       "      <td>8.420684</td>\n",
       "      <td>5.040449</td>\n",
       "      <td>4.056752</td>\n",
       "      <td>2.245942</td>\n",
       "      <td>3</td>\n",
       "      <td>01</td>\n",
       "      <td>7.1</td>\n",
       "      <td>...</td>\n",
       "      <td>3.442199</td>\n",
       "      <td>NaN</td>\n",
       "      <td>-1.320684</td>\n",
       "      <td>4.659551</td>\n",
       "      <td>-0.614552</td>\n",
       "      <td>NaN</td>\n",
       "      <td>1.744207</td>\n",
       "      <td>21.711412</td>\n",
       "      <td>0.377675</td>\n",
       "      <td>NaN</td>\n",
       "    </tr>\n",
       "    <tr>\n",
       "      <td>1</td>\n",
       "      <td>3_2015-02</td>\n",
       "      <td>3</td>\n",
       "      <td>02</td>\n",
       "      <td>7.559216</td>\n",
       "      <td>4.222238</td>\n",
       "      <td>4.472853</td>\n",
       "      <td>2.485715</td>\n",
       "      <td>3</td>\n",
       "      <td>02</td>\n",
       "      <td>6.5</td>\n",
       "      <td>...</td>\n",
       "      <td>3.889238</td>\n",
       "      <td>NaN</td>\n",
       "      <td>-1.059216</td>\n",
       "      <td>4.877762</td>\n",
       "      <td>-0.583615</td>\n",
       "      <td>NaN</td>\n",
       "      <td>1.121939</td>\n",
       "      <td>23.792558</td>\n",
       "      <td>0.340606</td>\n",
       "      <td>NaN</td>\n",
       "    </tr>\n",
       "    <tr>\n",
       "      <td>2</td>\n",
       "      <td>3_2015-03</td>\n",
       "      <td>3</td>\n",
       "      <td>03</td>\n",
       "      <td>16.939187</td>\n",
       "      <td>12.979736</td>\n",
       "      <td>3.904093</td>\n",
       "      <td>3.530295</td>\n",
       "      <td>3</td>\n",
       "      <td>03</td>\n",
       "      <td>15.3</td>\n",
       "      <td>...</td>\n",
       "      <td>3.218680</td>\n",
       "      <td>NaN</td>\n",
       "      <td>-1.639187</td>\n",
       "      <td>5.020264</td>\n",
       "      <td>-0.685413</td>\n",
       "      <td>NaN</td>\n",
       "      <td>2.686934</td>\n",
       "      <td>25.203054</td>\n",
       "      <td>0.469791</td>\n",
       "      <td>NaN</td>\n",
       "    </tr>\n",
       "    <tr>\n",
       "      <td>3</td>\n",
       "      <td>3_2015-04</td>\n",
       "      <td>3</td>\n",
       "      <td>04</td>\n",
       "      <td>20.560345</td>\n",
       "      <td>16.793513</td>\n",
       "      <td>3.780933</td>\n",
       "      <td>4.360121</td>\n",
       "      <td>3</td>\n",
       "      <td>04</td>\n",
       "      <td>19.1</td>\n",
       "      <td>...</td>\n",
       "      <td>2.950457</td>\n",
       "      <td>NaN</td>\n",
       "      <td>-1.460345</td>\n",
       "      <td>4.706487</td>\n",
       "      <td>-0.830477</td>\n",
       "      <td>NaN</td>\n",
       "      <td>2.132608</td>\n",
       "      <td>22.151017</td>\n",
       "      <td>0.689692</td>\n",
       "      <td>NaN</td>\n",
       "    </tr>\n",
       "    <tr>\n",
       "      <td>4</td>\n",
       "      <td>3_2015-05</td>\n",
       "      <td>3</td>\n",
       "      <td>05</td>\n",
       "      <td>23.277537</td>\n",
       "      <td>19.388452</td>\n",
       "      <td>3.260868</td>\n",
       "      <td>5.518137</td>\n",
       "      <td>3</td>\n",
       "      <td>05</td>\n",
       "      <td>20.8</td>\n",
       "      <td>...</td>\n",
       "      <td>2.861049</td>\n",
       "      <td>NaN</td>\n",
       "      <td>-2.477537</td>\n",
       "      <td>4.611548</td>\n",
       "      <td>-0.399819</td>\n",
       "      <td>NaN</td>\n",
       "      <td>6.138191</td>\n",
       "      <td>21.266374</td>\n",
       "      <td>0.159855</td>\n",
       "      <td>NaN</td>\n",
       "    </tr>\n",
       "  </tbody>\n",
       "</table>\n",
       "<p>5 rows × 21 columns</p>\n",
       "</div>"
      ],
      "text/plain": [
       "  EIA_P_DATE  EIA_PLANT__x MONTH_x  gm_DB_mean  gm_WB_mean  gm_WS_mean  \\\n",
       "0  3_2015-01             3      01    8.420684    5.040449    4.056752   \n",
       "1  3_2015-02             3      02    7.559216    4.222238    4.472853   \n",
       "2  3_2015-03             3      03   16.939187   12.979736    3.904093   \n",
       "3  3_2015-04             3      04   20.560345   16.793513    3.780933   \n",
       "4  3_2015-05             3      05   23.277537   19.388452    3.260868   \n",
       "\n",
       "   gm_EV_mean  EIA_PLANT__y MONTH_y  DB_C  ...     WS_ms  EV_mm  OBS_SIM_DB  \\\n",
       "0    2.245942             3      01   7.1  ...  3.442199    NaN   -1.320684   \n",
       "1    2.485715             3      02   6.5  ...  3.889238    NaN   -1.059216   \n",
       "2    3.530295             3      03  15.3  ...  3.218680    NaN   -1.639187   \n",
       "3    4.360121             3      04  19.1  ...  2.950457    NaN   -1.460345   \n",
       "4    5.518137             3      05  20.8  ...  2.861049    NaN   -2.477537   \n",
       "\n",
       "   OBS_SIM_WB  OBS_SIM_WS  OBS_SIM_EV  DB_res_sq  WB_res_sq  WS_res_sq  \\\n",
       "0    4.659551   -0.614552         NaN   1.744207  21.711412   0.377675   \n",
       "1    4.877762   -0.583615         NaN   1.121939  23.792558   0.340606   \n",
       "2    5.020264   -0.685413         NaN   2.686934  25.203054   0.469791   \n",
       "3    4.706487   -0.830477         NaN   2.132608  22.151017   0.689692   \n",
       "4    4.611548   -0.399819         NaN   6.138191  21.266374   0.159855   \n",
       "\n",
       "   EV_res_sq  \n",
       "0        NaN  \n",
       "1        NaN  \n",
       "2        NaN  \n",
       "3        NaN  \n",
       "4        NaN  \n",
       "\n",
       "[5 rows x 21 columns]"
      ]
     },
     "execution_count": 20,
     "metadata": {},
     "output_type": "execute_result"
    }
   ],
   "source": [
    "mean_stats.head()"
   ]
  },
  {
   "cell_type": "code",
   "execution_count": 21,
   "metadata": {},
   "outputs": [],
   "source": [
    "# fix up the df \n",
    "mean_stats.drop(columns= ['EIA_PLANT__y', 'MONTH_y'], inplace = True)"
   ]
  },
  {
   "cell_type": "code",
   "execution_count": 22,
   "metadata": {},
   "outputs": [
    {
     "data": {
      "text/plain": [
       "Index(['EIA_P_DATE', 'EIA_PLANT__x', 'MONTH_x', 'gm_DB_mean', 'gm_WB_mean',\n",
       "       'gm_WS_mean', 'gm_EV_mean', 'DB_C', 'WB_C', 'WS_ms', 'EV_mm',\n",
       "       'OBS_SIM_DB', 'OBS_SIM_WB', 'OBS_SIM_WS', 'OBS_SIM_EV', 'DB_res_sq',\n",
       "       'WB_res_sq', 'WS_res_sq', 'EV_res_sq'],\n",
       "      dtype='object')"
      ]
     },
     "execution_count": 22,
     "metadata": {},
     "output_type": "execute_result"
    }
   ],
   "source": [
    "mean_stats.columns"
   ]
  },
  {
   "cell_type": "code",
   "execution_count": 23,
   "metadata": {},
   "outputs": [],
   "source": [
    "cols = ['EIA_P_DATE', 'EIA_PLANT_', 'MONTH', 'gm_DB_mean', 'gm_WB_mean',\n",
    "       'gm_WS_mean', 'gm_EV_mean', 'DB_C', 'WB_C',\n",
    "       'WS_ms', 'EV_mm', 'OBS_SIM_DB', 'OBS_SIM_WB',\n",
    "       'OBS_SIM_WS', 'OBS_SIM_EV', 'DB_res_sq',\n",
    "       'WB_res_sq', 'WS_res_sq', 'EV_res_sq']\n",
    "mean_stats.columns = cols"
   ]
  },
  {
   "cell_type": "code",
   "execution_count": 24,
   "metadata": {},
   "outputs": [],
   "source": [
    "# and add lat long for plotting\n",
    "mean_plot = pd.merge(mean_stats, TE_shp, on = 'EIA_PLANT_')"
   ]
  },
  {
   "cell_type": "code",
   "execution_count": 25,
   "metadata": {},
   "outputs": [
    {
     "data": {
      "text/html": [
       "<div>\n",
       "<style scoped>\n",
       "    .dataframe tbody tr th:only-of-type {\n",
       "        vertical-align: middle;\n",
       "    }\n",
       "\n",
       "    .dataframe tbody tr th {\n",
       "        vertical-align: top;\n",
       "    }\n",
       "\n",
       "    .dataframe thead th {\n",
       "        text-align: right;\n",
       "    }\n",
       "</style>\n",
       "<table border=\"1\" class=\"dataframe\">\n",
       "  <thead>\n",
       "    <tr style=\"text-align: right;\">\n",
       "      <th></th>\n",
       "      <th>EIA_P_DATE</th>\n",
       "      <th>EIA_PLANT_</th>\n",
       "      <th>MONTH</th>\n",
       "      <th>gm_DB_mean</th>\n",
       "      <th>gm_WB_mean</th>\n",
       "      <th>gm_WS_mean</th>\n",
       "      <th>gm_EV_mean</th>\n",
       "      <th>DB_C</th>\n",
       "      <th>WB_C</th>\n",
       "      <th>WS_ms</th>\n",
       "      <th>...</th>\n",
       "      <th>WATER_TYPE</th>\n",
       "      <th>WITHDRAWAL</th>\n",
       "      <th>CONSUMPTIO</th>\n",
       "      <th>MIN_WITHDR</th>\n",
       "      <th>MAX_WITHDR</th>\n",
       "      <th>MIN_CONSUM</th>\n",
       "      <th>MAX_CONSUM</th>\n",
       "      <th>NET_GENERA</th>\n",
       "      <th>why_no_CID</th>\n",
       "      <th>geometry</th>\n",
       "    </tr>\n",
       "  </thead>\n",
       "  <tbody>\n",
       "    <tr>\n",
       "      <td>0</td>\n",
       "      <td>3_2015-01</td>\n",
       "      <td>3</td>\n",
       "      <td>01</td>\n",
       "      <td>8.420684</td>\n",
       "      <td>5.040449</td>\n",
       "      <td>4.056752</td>\n",
       "      <td>2.245942</td>\n",
       "      <td>7.1</td>\n",
       "      <td>9.7</td>\n",
       "      <td>3.442199</td>\n",
       "      <td>...</td>\n",
       "      <td>FR</td>\n",
       "      <td>412.0</td>\n",
       "      <td>7.93</td>\n",
       "      <td>189.0</td>\n",
       "      <td>2990.0</td>\n",
       "      <td>6.54</td>\n",
       "      <td>9.13</td>\n",
       "      <td>11,387,562</td>\n",
       "      <td>None</td>\n",
       "      <td>POINT (-88.01089992 31.00696404)</td>\n",
       "    </tr>\n",
       "    <tr>\n",
       "      <td>1</td>\n",
       "      <td>3_2015-02</td>\n",
       "      <td>3</td>\n",
       "      <td>02</td>\n",
       "      <td>7.559216</td>\n",
       "      <td>4.222238</td>\n",
       "      <td>4.472853</td>\n",
       "      <td>2.485715</td>\n",
       "      <td>6.5</td>\n",
       "      <td>9.1</td>\n",
       "      <td>3.889238</td>\n",
       "      <td>...</td>\n",
       "      <td>FR</td>\n",
       "      <td>412.0</td>\n",
       "      <td>7.93</td>\n",
       "      <td>189.0</td>\n",
       "      <td>2990.0</td>\n",
       "      <td>6.54</td>\n",
       "      <td>9.13</td>\n",
       "      <td>11,387,562</td>\n",
       "      <td>None</td>\n",
       "      <td>POINT (-88.01089992 31.00696404)</td>\n",
       "    </tr>\n",
       "    <tr>\n",
       "      <td>2</td>\n",
       "      <td>3_2015-03</td>\n",
       "      <td>3</td>\n",
       "      <td>03</td>\n",
       "      <td>16.939187</td>\n",
       "      <td>12.979736</td>\n",
       "      <td>3.904093</td>\n",
       "      <td>3.530295</td>\n",
       "      <td>15.3</td>\n",
       "      <td>18.0</td>\n",
       "      <td>3.218680</td>\n",
       "      <td>...</td>\n",
       "      <td>FR</td>\n",
       "      <td>412.0</td>\n",
       "      <td>7.93</td>\n",
       "      <td>189.0</td>\n",
       "      <td>2990.0</td>\n",
       "      <td>6.54</td>\n",
       "      <td>9.13</td>\n",
       "      <td>11,387,562</td>\n",
       "      <td>None</td>\n",
       "      <td>POINT (-88.01089992 31.00696404)</td>\n",
       "    </tr>\n",
       "    <tr>\n",
       "      <td>3</td>\n",
       "      <td>3_2015-04</td>\n",
       "      <td>3</td>\n",
       "      <td>04</td>\n",
       "      <td>20.560345</td>\n",
       "      <td>16.793513</td>\n",
       "      <td>3.780933</td>\n",
       "      <td>4.360121</td>\n",
       "      <td>19.1</td>\n",
       "      <td>21.5</td>\n",
       "      <td>2.950457</td>\n",
       "      <td>...</td>\n",
       "      <td>FR</td>\n",
       "      <td>412.0</td>\n",
       "      <td>7.93</td>\n",
       "      <td>189.0</td>\n",
       "      <td>2990.0</td>\n",
       "      <td>6.54</td>\n",
       "      <td>9.13</td>\n",
       "      <td>11,387,562</td>\n",
       "      <td>None</td>\n",
       "      <td>POINT (-88.01089992 31.00696404)</td>\n",
       "    </tr>\n",
       "    <tr>\n",
       "      <td>4</td>\n",
       "      <td>3_2015-05</td>\n",
       "      <td>3</td>\n",
       "      <td>05</td>\n",
       "      <td>23.277537</td>\n",
       "      <td>19.388452</td>\n",
       "      <td>3.260868</td>\n",
       "      <td>5.518137</td>\n",
       "      <td>20.8</td>\n",
       "      <td>24.0</td>\n",
       "      <td>2.861049</td>\n",
       "      <td>...</td>\n",
       "      <td>FR</td>\n",
       "      <td>412.0</td>\n",
       "      <td>7.93</td>\n",
       "      <td>189.0</td>\n",
       "      <td>2990.0</td>\n",
       "      <td>6.54</td>\n",
       "      <td>9.13</td>\n",
       "      <td>11,387,562</td>\n",
       "      <td>None</td>\n",
       "      <td>POINT (-88.01089992 31.00696404)</td>\n",
       "    </tr>\n",
       "  </tbody>\n",
       "</table>\n",
       "<p>5 rows × 39 columns</p>\n",
       "</div>"
      ],
      "text/plain": [
       "  EIA_P_DATE  EIA_PLANT_ MONTH  gm_DB_mean  gm_WB_mean  gm_WS_mean  \\\n",
       "0  3_2015-01           3    01    8.420684    5.040449    4.056752   \n",
       "1  3_2015-02           3    02    7.559216    4.222238    4.472853   \n",
       "2  3_2015-03           3    03   16.939187   12.979736    3.904093   \n",
       "3  3_2015-04           3    04   20.560345   16.793513    3.780933   \n",
       "4  3_2015-05           3    05   23.277537   19.388452    3.260868   \n",
       "\n",
       "   gm_EV_mean  DB_C  WB_C     WS_ms  ...  WATER_TYPE  WITHDRAWAL  CONSUMPTIO  \\\n",
       "0    2.245942   7.1   9.7  3.442199  ...          FR       412.0        7.93   \n",
       "1    2.485715   6.5   9.1  3.889238  ...          FR       412.0        7.93   \n",
       "2    3.530295  15.3  18.0  3.218680  ...          FR       412.0        7.93   \n",
       "3    4.360121  19.1  21.5  2.950457  ...          FR       412.0        7.93   \n",
       "4    5.518137  20.8  24.0  2.861049  ...          FR       412.0        7.93   \n",
       "\n",
       "   MIN_WITHDR  MAX_WITHDR  MIN_CONSUM  MAX_CONSUM  NET_GENERA  why_no_CID  \\\n",
       "0       189.0      2990.0        6.54        9.13  11,387,562        None   \n",
       "1       189.0      2990.0        6.54        9.13  11,387,562        None   \n",
       "2       189.0      2990.0        6.54        9.13  11,387,562        None   \n",
       "3       189.0      2990.0        6.54        9.13  11,387,562        None   \n",
       "4       189.0      2990.0        6.54        9.13  11,387,562        None   \n",
       "\n",
       "                           geometry  \n",
       "0  POINT (-88.01089992 31.00696404)  \n",
       "1  POINT (-88.01089992 31.00696404)  \n",
       "2  POINT (-88.01089992 31.00696404)  \n",
       "3  POINT (-88.01089992 31.00696404)  \n",
       "4  POINT (-88.01089992 31.00696404)  \n",
       "\n",
       "[5 rows x 39 columns]"
      ]
     },
     "execution_count": 25,
     "metadata": {},
     "output_type": "execute_result"
    }
   ],
   "source": [
    "mean_plot.head()\n",
    "#mean_plot.fillna(-999)\n",
    "#maybe dont need this\n"
   ]
  },
  {
   "cell_type": "code",
   "execution_count": 26,
   "metadata": {},
   "outputs": [],
   "source": [
    "mean_plot.drop(columns = ['NAME_OF_WA','COMID', 'COOLING_TY','GENERATION', 'WATER_SOUR', 'WATER_TYPE', \n",
    "                         'WITHDRAWAL', 'CONSUMPTIO','MIN_WITHDR', 'MAX_WITHDR', 'MIN_CONSUM', 'MAX_CONSUM', \n",
    "                         'NET_GENERA','geometry'], inplace =True)"
   ]
  },
  {
   "cell_type": "code",
   "execution_count": null,
   "metadata": {},
   "outputs": [],
   "source": [
    "mean_plot.to_csv('mean_plot_df.csv')"
   ]
  },
  {
   "cell_type": "code",
   "execution_count": 27,
   "metadata": {},
   "outputs": [],
   "source": [
    "elev_df = pd.read_csv(os.path.join(TEdir, 'elev_df_interp.csv'))\n",
    "\n"
   ]
  },
  {
   "cell_type": "code",
   "execution_count": 28,
   "metadata": {},
   "outputs": [],
   "source": [
    "mean_plot = pd.merge(mean_plot, elev_df, left_on = 'EIA_PLANT_', right_on = 'EIA_PLANT_ID')"
   ]
  },
  {
   "cell_type": "code",
   "execution_count": 29,
   "metadata": {},
   "outputs": [
    {
     "data": {
      "text/plain": [
       "Index(['EIA_P_DATE', 'EIA_PLANT_', 'MONTH', 'gm_DB_mean', 'gm_WB_mean',\n",
       "       'gm_WS_mean', 'gm_EV_mean', 'DB_C', 'WB_C', 'WS_ms', 'EV_mm',\n",
       "       'OBS_SIM_DB', 'OBS_SIM_WB', 'OBS_SIM_WS', 'OBS_SIM_EV', 'DB_res_sq',\n",
       "       'WB_res_sq', 'WS_res_sq', 'EV_res_sq', 'PLANT_NAME_x', 'COUNTY',\n",
       "       'STATE', 'LATITUDE_x', 'LONGITUDE_x', 'why_no_CID', 'Unnamed: 0',\n",
       "       'EIA_PLANT_ID', 'PLANT_NAME_y', 'LATITUDE_y', 'LONGITUDE_y',\n",
       "       'ELEV_phys_mod', 'ELEV_gm', 'PM-gM'],\n",
       "      dtype='object')"
      ]
     },
     "execution_count": 29,
     "metadata": {},
     "output_type": "execute_result"
    }
   ],
   "source": [
    "mean_plot.columns"
   ]
  },
  {
   "cell_type": "code",
   "execution_count": 30,
   "metadata": {},
   "outputs": [
    {
     "data": {
      "text/plain": [
       "[<shapely.geometry.point.Point at 0x224f749b2b0>,\n",
       " <shapely.geometry.point.Point at 0x224f749b748>,\n",
       " <shapely.geometry.point.Point at 0x224f749b358>]"
      ]
     },
     "execution_count": 30,
     "metadata": {},
     "output_type": "execute_result"
    }
   ],
   "source": [
    "geometry = [Point(xy) for xy in zip(mean_plot['LONGITUDE_x'],mean_plot['LATITUDE_x'])]\n",
    "geometry[:3]\n",
    "\n"
   ]
  },
  {
   "cell_type": "code",
   "execution_count": 31,
   "metadata": {},
   "outputs": [
    {
     "data": {
      "text/html": [
       "<div>\n",
       "<style scoped>\n",
       "    .dataframe tbody tr th:only-of-type {\n",
       "        vertical-align: middle;\n",
       "    }\n",
       "\n",
       "    .dataframe tbody tr th {\n",
       "        vertical-align: top;\n",
       "    }\n",
       "\n",
       "    .dataframe thead th {\n",
       "        text-align: right;\n",
       "    }\n",
       "</style>\n",
       "<table border=\"1\" class=\"dataframe\">\n",
       "  <thead>\n",
       "    <tr style=\"text-align: right;\">\n",
       "      <th></th>\n",
       "      <th>EIA_P_DATE</th>\n",
       "      <th>EIA_PLANT_</th>\n",
       "      <th>MONTH</th>\n",
       "      <th>gm_DB_mean</th>\n",
       "      <th>gm_WB_mean</th>\n",
       "      <th>gm_WS_mean</th>\n",
       "      <th>gm_EV_mean</th>\n",
       "      <th>DB_C</th>\n",
       "      <th>WB_C</th>\n",
       "      <th>WS_ms</th>\n",
       "      <th>...</th>\n",
       "      <th>LONGITUDE_x</th>\n",
       "      <th>why_no_CID</th>\n",
       "      <th>Unnamed: 0</th>\n",
       "      <th>EIA_PLANT_ID</th>\n",
       "      <th>PLANT_NAME_y</th>\n",
       "      <th>LATITUDE_y</th>\n",
       "      <th>LONGITUDE_y</th>\n",
       "      <th>ELEV_phys_mod</th>\n",
       "      <th>ELEV_gm</th>\n",
       "      <th>PM-gM</th>\n",
       "    </tr>\n",
       "  </thead>\n",
       "  <tbody>\n",
       "    <tr>\n",
       "      <td>0</td>\n",
       "      <td>3_2015-01</td>\n",
       "      <td>3</td>\n",
       "      <td>01</td>\n",
       "      <td>8.420684</td>\n",
       "      <td>5.040449</td>\n",
       "      <td>4.056752</td>\n",
       "      <td>2.245942</td>\n",
       "      <td>7.1</td>\n",
       "      <td>9.7</td>\n",
       "      <td>3.442199</td>\n",
       "      <td>...</td>\n",
       "      <td>-88.010900</td>\n",
       "      <td>None</td>\n",
       "      <td>0</td>\n",
       "      <td>3</td>\n",
       "      <td>Barry</td>\n",
       "      <td>31.006964</td>\n",
       "      <td>-88.010900</td>\n",
       "      <td>4.5720</td>\n",
       "      <td>9.716158</td>\n",
       "      <td>-5.144158</td>\n",
       "    </tr>\n",
       "    <tr>\n",
       "      <td>1</td>\n",
       "      <td>3_2015-02</td>\n",
       "      <td>3</td>\n",
       "      <td>02</td>\n",
       "      <td>7.559216</td>\n",
       "      <td>4.222238</td>\n",
       "      <td>4.472853</td>\n",
       "      <td>2.485715</td>\n",
       "      <td>6.5</td>\n",
       "      <td>9.1</td>\n",
       "      <td>3.889238</td>\n",
       "      <td>...</td>\n",
       "      <td>-88.010900</td>\n",
       "      <td>None</td>\n",
       "      <td>0</td>\n",
       "      <td>3</td>\n",
       "      <td>Barry</td>\n",
       "      <td>31.006964</td>\n",
       "      <td>-88.010900</td>\n",
       "      <td>4.5720</td>\n",
       "      <td>9.716158</td>\n",
       "      <td>-5.144158</td>\n",
       "    </tr>\n",
       "    <tr>\n",
       "      <td>2</td>\n",
       "      <td>3_2015-03</td>\n",
       "      <td>3</td>\n",
       "      <td>03</td>\n",
       "      <td>16.939187</td>\n",
       "      <td>12.979736</td>\n",
       "      <td>3.904093</td>\n",
       "      <td>3.530295</td>\n",
       "      <td>15.3</td>\n",
       "      <td>18.0</td>\n",
       "      <td>3.218680</td>\n",
       "      <td>...</td>\n",
       "      <td>-88.010900</td>\n",
       "      <td>None</td>\n",
       "      <td>0</td>\n",
       "      <td>3</td>\n",
       "      <td>Barry</td>\n",
       "      <td>31.006964</td>\n",
       "      <td>-88.010900</td>\n",
       "      <td>4.5720</td>\n",
       "      <td>9.716158</td>\n",
       "      <td>-5.144158</td>\n",
       "    </tr>\n",
       "    <tr>\n",
       "      <td>3</td>\n",
       "      <td>3_2015-04</td>\n",
       "      <td>3</td>\n",
       "      <td>04</td>\n",
       "      <td>20.560345</td>\n",
       "      <td>16.793513</td>\n",
       "      <td>3.780933</td>\n",
       "      <td>4.360121</td>\n",
       "      <td>19.1</td>\n",
       "      <td>21.5</td>\n",
       "      <td>2.950457</td>\n",
       "      <td>...</td>\n",
       "      <td>-88.010900</td>\n",
       "      <td>None</td>\n",
       "      <td>0</td>\n",
       "      <td>3</td>\n",
       "      <td>Barry</td>\n",
       "      <td>31.006964</td>\n",
       "      <td>-88.010900</td>\n",
       "      <td>4.5720</td>\n",
       "      <td>9.716158</td>\n",
       "      <td>-5.144158</td>\n",
       "    </tr>\n",
       "    <tr>\n",
       "      <td>4</td>\n",
       "      <td>3_2015-05</td>\n",
       "      <td>3</td>\n",
       "      <td>05</td>\n",
       "      <td>23.277537</td>\n",
       "      <td>19.388452</td>\n",
       "      <td>3.260868</td>\n",
       "      <td>5.518137</td>\n",
       "      <td>20.8</td>\n",
       "      <td>24.0</td>\n",
       "      <td>2.861049</td>\n",
       "      <td>...</td>\n",
       "      <td>-88.010900</td>\n",
       "      <td>None</td>\n",
       "      <td>0</td>\n",
       "      <td>3</td>\n",
       "      <td>Barry</td>\n",
       "      <td>31.006964</td>\n",
       "      <td>-88.010900</td>\n",
       "      <td>4.5720</td>\n",
       "      <td>9.716158</td>\n",
       "      <td>-5.144158</td>\n",
       "    </tr>\n",
       "    <tr>\n",
       "      <td>...</td>\n",
       "      <td>...</td>\n",
       "      <td>...</td>\n",
       "      <td>...</td>\n",
       "      <td>...</td>\n",
       "      <td>...</td>\n",
       "      <td>...</td>\n",
       "      <td>...</td>\n",
       "      <td>...</td>\n",
       "      <td>...</td>\n",
       "      <td>...</td>\n",
       "      <td>...</td>\n",
       "      <td>...</td>\n",
       "      <td>...</td>\n",
       "      <td>...</td>\n",
       "      <td>...</td>\n",
       "      <td>...</td>\n",
       "      <td>...</td>\n",
       "      <td>...</td>\n",
       "      <td>...</td>\n",
       "      <td>...</td>\n",
       "      <td>...</td>\n",
       "    </tr>\n",
       "    <tr>\n",
       "      <td>13267</td>\n",
       "      <td>60100_2015-08</td>\n",
       "      <td>60100</td>\n",
       "      <td>08</td>\n",
       "      <td>26.847621</td>\n",
       "      <td>17.889834</td>\n",
       "      <td>1.732050</td>\n",
       "      <td>6.469384</td>\n",
       "      <td>17.5</td>\n",
       "      <td>27.7</td>\n",
       "      <td>3.397496</td>\n",
       "      <td>...</td>\n",
       "      <td>-119.419176</td>\n",
       "      <td>None</td>\n",
       "      <td>1105</td>\n",
       "      <td>60100</td>\n",
       "      <td>Dinuba Energy</td>\n",
       "      <td>36.571485</td>\n",
       "      <td>-119.419176</td>\n",
       "      <td>104.2416</td>\n",
       "      <td>104.375408</td>\n",
       "      <td>-0.133808</td>\n",
       "    </tr>\n",
       "    <tr>\n",
       "      <td>13268</td>\n",
       "      <td>60100_2015-09</td>\n",
       "      <td>60100</td>\n",
       "      <td>09</td>\n",
       "      <td>24.765248</td>\n",
       "      <td>15.797080</td>\n",
       "      <td>1.758932</td>\n",
       "      <td>5.075685</td>\n",
       "      <td>15.6</td>\n",
       "      <td>25.7</td>\n",
       "      <td>2.726937</td>\n",
       "      <td>...</td>\n",
       "      <td>-119.419176</td>\n",
       "      <td>None</td>\n",
       "      <td>1105</td>\n",
       "      <td>60100</td>\n",
       "      <td>Dinuba Energy</td>\n",
       "      <td>36.571485</td>\n",
       "      <td>-119.419176</td>\n",
       "      <td>104.2416</td>\n",
       "      <td>104.375408</td>\n",
       "      <td>-0.133808</td>\n",
       "    </tr>\n",
       "    <tr>\n",
       "      <td>13269</td>\n",
       "      <td>60100_2015-10</td>\n",
       "      <td>60100</td>\n",
       "      <td>10</td>\n",
       "      <td>20.919276</td>\n",
       "      <td>14.815301</td>\n",
       "      <td>1.904580</td>\n",
       "      <td>3.423831</td>\n",
       "      <td>15.3</td>\n",
       "      <td>21.7</td>\n",
       "      <td>2.190491</td>\n",
       "      <td>...</td>\n",
       "      <td>-119.419176</td>\n",
       "      <td>None</td>\n",
       "      <td>1105</td>\n",
       "      <td>60100</td>\n",
       "      <td>Dinuba Energy</td>\n",
       "      <td>36.571485</td>\n",
       "      <td>-119.419176</td>\n",
       "      <td>104.2416</td>\n",
       "      <td>104.375408</td>\n",
       "      <td>-0.133808</td>\n",
       "    </tr>\n",
       "    <tr>\n",
       "      <td>13270</td>\n",
       "      <td>60100_2015-11</td>\n",
       "      <td>60100</td>\n",
       "      <td>11</td>\n",
       "      <td>10.042879</td>\n",
       "      <td>6.612147</td>\n",
       "      <td>1.916735</td>\n",
       "      <td>1.583513</td>\n",
       "      <td>7.9</td>\n",
       "      <td>11.0</td>\n",
       "      <td>1.832859</td>\n",
       "      <td>...</td>\n",
       "      <td>-119.419176</td>\n",
       "      <td>None</td>\n",
       "      <td>1105</td>\n",
       "      <td>60100</td>\n",
       "      <td>Dinuba Energy</td>\n",
       "      <td>36.571485</td>\n",
       "      <td>-119.419176</td>\n",
       "      <td>104.2416</td>\n",
       "      <td>104.375408</td>\n",
       "      <td>-0.133808</td>\n",
       "    </tr>\n",
       "    <tr>\n",
       "      <td>13271</td>\n",
       "      <td>60100_2015-12</td>\n",
       "      <td>60100</td>\n",
       "      <td>12</td>\n",
       "      <td>6.991038</td>\n",
       "      <td>4.218756</td>\n",
       "      <td>2.056240</td>\n",
       "      <td>1.054417</td>\n",
       "      <td>5.9</td>\n",
       "      <td>7.8</td>\n",
       "      <td>2.011675</td>\n",
       "      <td>...</td>\n",
       "      <td>-119.419176</td>\n",
       "      <td>None</td>\n",
       "      <td>1105</td>\n",
       "      <td>60100</td>\n",
       "      <td>Dinuba Energy</td>\n",
       "      <td>36.571485</td>\n",
       "      <td>-119.419176</td>\n",
       "      <td>104.2416</td>\n",
       "      <td>104.375408</td>\n",
       "      <td>-0.133808</td>\n",
       "    </tr>\n",
       "  </tbody>\n",
       "</table>\n",
       "<p>13272 rows × 33 columns</p>\n",
       "</div>"
      ],
      "text/plain": [
       "          EIA_P_DATE  EIA_PLANT_ MONTH  gm_DB_mean  gm_WB_mean  gm_WS_mean  \\\n",
       "0          3_2015-01           3    01    8.420684    5.040449    4.056752   \n",
       "1          3_2015-02           3    02    7.559216    4.222238    4.472853   \n",
       "2          3_2015-03           3    03   16.939187   12.979736    3.904093   \n",
       "3          3_2015-04           3    04   20.560345   16.793513    3.780933   \n",
       "4          3_2015-05           3    05   23.277537   19.388452    3.260868   \n",
       "...              ...         ...   ...         ...         ...         ...   \n",
       "13267  60100_2015-08       60100    08   26.847621   17.889834    1.732050   \n",
       "13268  60100_2015-09       60100    09   24.765248   15.797080    1.758932   \n",
       "13269  60100_2015-10       60100    10   20.919276   14.815301    1.904580   \n",
       "13270  60100_2015-11       60100    11   10.042879    6.612147    1.916735   \n",
       "13271  60100_2015-12       60100    12    6.991038    4.218756    2.056240   \n",
       "\n",
       "       gm_EV_mean  DB_C  WB_C     WS_ms  ...  LONGITUDE_x  why_no_CID  \\\n",
       "0        2.245942   7.1   9.7  3.442199  ...   -88.010900        None   \n",
       "1        2.485715   6.5   9.1  3.889238  ...   -88.010900        None   \n",
       "2        3.530295  15.3  18.0  3.218680  ...   -88.010900        None   \n",
       "3        4.360121  19.1  21.5  2.950457  ...   -88.010900        None   \n",
       "4        5.518137  20.8  24.0  2.861049  ...   -88.010900        None   \n",
       "...           ...   ...   ...       ...  ...          ...         ...   \n",
       "13267    6.469384  17.5  27.7  3.397496  ...  -119.419176        None   \n",
       "13268    5.075685  15.6  25.7  2.726937  ...  -119.419176        None   \n",
       "13269    3.423831  15.3  21.7  2.190491  ...  -119.419176        None   \n",
       "13270    1.583513   7.9  11.0  1.832859  ...  -119.419176        None   \n",
       "13271    1.054417   5.9   7.8  2.011675  ...  -119.419176        None   \n",
       "\n",
       "       Unnamed: 0  EIA_PLANT_ID   PLANT_NAME_y  LATITUDE_y  LONGITUDE_y  \\\n",
       "0               0             3          Barry   31.006964   -88.010900   \n",
       "1               0             3          Barry   31.006964   -88.010900   \n",
       "2               0             3          Barry   31.006964   -88.010900   \n",
       "3               0             3          Barry   31.006964   -88.010900   \n",
       "4               0             3          Barry   31.006964   -88.010900   \n",
       "...           ...           ...            ...         ...          ...   \n",
       "13267        1105         60100  Dinuba Energy   36.571485  -119.419176   \n",
       "13268        1105         60100  Dinuba Energy   36.571485  -119.419176   \n",
       "13269        1105         60100  Dinuba Energy   36.571485  -119.419176   \n",
       "13270        1105         60100  Dinuba Energy   36.571485  -119.419176   \n",
       "13271        1105         60100  Dinuba Energy   36.571485  -119.419176   \n",
       "\n",
       "       ELEV_phys_mod     ELEV_gm     PM-gM  \n",
       "0             4.5720    9.716158 -5.144158  \n",
       "1             4.5720    9.716158 -5.144158  \n",
       "2             4.5720    9.716158 -5.144158  \n",
       "3             4.5720    9.716158 -5.144158  \n",
       "4             4.5720    9.716158 -5.144158  \n",
       "...              ...         ...       ...  \n",
       "13267       104.2416  104.375408 -0.133808  \n",
       "13268       104.2416  104.375408 -0.133808  \n",
       "13269       104.2416  104.375408 -0.133808  \n",
       "13270       104.2416  104.375408 -0.133808  \n",
       "13271       104.2416  104.375408 -0.133808  \n",
       "\n",
       "[13272 rows x 33 columns]"
      ]
     },
     "execution_count": 31,
     "metadata": {},
     "output_type": "execute_result"
    }
   ],
   "source": [
    "mean_plot"
   ]
  },
  {
   "cell_type": "code",
   "execution_count": 32,
   "metadata": {},
   "outputs": [],
   "source": [
    "crs = {'init': 'epsg:4326'}"
   ]
  },
  {
   "cell_type": "code",
   "execution_count": 33,
   "metadata": {},
   "outputs": [],
   "source": [
    "#turn it into a pandas geodataframe\n",
    "mean_df = gpd.GeoDataFrame(mean_plot, crs = crs, geometry= geometry)"
   ]
  },
  {
   "cell_type": "code",
   "execution_count": 34,
   "metadata": {},
   "outputs": [
    {
     "data": {
      "text/plain": [
       "Index(['EIA_P_DATE', 'EIA_PLANT_', 'MONTH', 'gm_DB_mean', 'gm_WB_mean',\n",
       "       'gm_WS_mean', 'gm_EV_mean', 'DB_C', 'WB_C', 'WS_ms', 'EV_mm',\n",
       "       'OBS_SIM_DB', 'OBS_SIM_WB', 'OBS_SIM_WS', 'OBS_SIM_EV', 'DB_res_sq',\n",
       "       'WB_res_sq', 'WS_res_sq', 'EV_res_sq', 'PLANT_NAME_x', 'COUNTY',\n",
       "       'STATE', 'LATITUDE_x', 'LONGITUDE_x', 'why_no_CID', 'Unnamed: 0',\n",
       "       'EIA_PLANT_ID', 'PLANT_NAME_y', 'LATITUDE_y', 'LONGITUDE_y',\n",
       "       'ELEV_phys_mod', 'ELEV_gm', 'PM-gM', 'geometry'],\n",
       "      dtype='object')"
      ]
     },
     "execution_count": 34,
     "metadata": {},
     "output_type": "execute_result"
    }
   ],
   "source": [
    "mean_df.columns"
   ]
  },
  {
   "cell_type": "code",
   "execution_count": 35,
   "metadata": {},
   "outputs": [
    {
     "data": {
      "text/html": [
       "<div>\n",
       "<style scoped>\n",
       "    .dataframe tbody tr th:only-of-type {\n",
       "        vertical-align: middle;\n",
       "    }\n",
       "\n",
       "    .dataframe tbody tr th {\n",
       "        vertical-align: top;\n",
       "    }\n",
       "\n",
       "    .dataframe thead th {\n",
       "        text-align: right;\n",
       "    }\n",
       "</style>\n",
       "<table border=\"1\" class=\"dataframe\">\n",
       "  <thead>\n",
       "    <tr style=\"text-align: right;\">\n",
       "      <th></th>\n",
       "      <th>EIA_P_DATE</th>\n",
       "      <th>EIA_PLANT_</th>\n",
       "      <th>MONTH</th>\n",
       "      <th>gm_DB_mean</th>\n",
       "      <th>gm_WB_mean</th>\n",
       "      <th>gm_WS_mean</th>\n",
       "      <th>gm_EV_mean</th>\n",
       "      <th>DB_C</th>\n",
       "      <th>WB_C</th>\n",
       "      <th>WS_ms</th>\n",
       "      <th>...</th>\n",
       "      <th>why_no_CID</th>\n",
       "      <th>Unnamed: 0</th>\n",
       "      <th>EIA_PLANT_ID</th>\n",
       "      <th>PLANT_NAME_y</th>\n",
       "      <th>LATITUDE_y</th>\n",
       "      <th>LONGITUDE_y</th>\n",
       "      <th>ELEV_phys_mod</th>\n",
       "      <th>ELEV_gm</th>\n",
       "      <th>PM-gM</th>\n",
       "      <th>geometry</th>\n",
       "    </tr>\n",
       "  </thead>\n",
       "  <tbody>\n",
       "    <tr>\n",
       "      <td>0</td>\n",
       "      <td>3_2015-01</td>\n",
       "      <td>3</td>\n",
       "      <td>01</td>\n",
       "      <td>8.420684</td>\n",
       "      <td>5.040449</td>\n",
       "      <td>4.056752</td>\n",
       "      <td>2.245942</td>\n",
       "      <td>7.1</td>\n",
       "      <td>9.7</td>\n",
       "      <td>3.442199</td>\n",
       "      <td>...</td>\n",
       "      <td>None</td>\n",
       "      <td>0</td>\n",
       "      <td>3</td>\n",
       "      <td>Barry</td>\n",
       "      <td>31.006964</td>\n",
       "      <td>-88.010900</td>\n",
       "      <td>4.5720</td>\n",
       "      <td>9.716158</td>\n",
       "      <td>-5.144158</td>\n",
       "      <td>POINT (-88.01089992 31.00696404)</td>\n",
       "    </tr>\n",
       "    <tr>\n",
       "      <td>1</td>\n",
       "      <td>3_2015-02</td>\n",
       "      <td>3</td>\n",
       "      <td>02</td>\n",
       "      <td>7.559216</td>\n",
       "      <td>4.222238</td>\n",
       "      <td>4.472853</td>\n",
       "      <td>2.485715</td>\n",
       "      <td>6.5</td>\n",
       "      <td>9.1</td>\n",
       "      <td>3.889238</td>\n",
       "      <td>...</td>\n",
       "      <td>None</td>\n",
       "      <td>0</td>\n",
       "      <td>3</td>\n",
       "      <td>Barry</td>\n",
       "      <td>31.006964</td>\n",
       "      <td>-88.010900</td>\n",
       "      <td>4.5720</td>\n",
       "      <td>9.716158</td>\n",
       "      <td>-5.144158</td>\n",
       "      <td>POINT (-88.01089992 31.00696404)</td>\n",
       "    </tr>\n",
       "    <tr>\n",
       "      <td>2</td>\n",
       "      <td>3_2015-03</td>\n",
       "      <td>3</td>\n",
       "      <td>03</td>\n",
       "      <td>16.939187</td>\n",
       "      <td>12.979736</td>\n",
       "      <td>3.904093</td>\n",
       "      <td>3.530295</td>\n",
       "      <td>15.3</td>\n",
       "      <td>18.0</td>\n",
       "      <td>3.218680</td>\n",
       "      <td>...</td>\n",
       "      <td>None</td>\n",
       "      <td>0</td>\n",
       "      <td>3</td>\n",
       "      <td>Barry</td>\n",
       "      <td>31.006964</td>\n",
       "      <td>-88.010900</td>\n",
       "      <td>4.5720</td>\n",
       "      <td>9.716158</td>\n",
       "      <td>-5.144158</td>\n",
       "      <td>POINT (-88.01089992 31.00696404)</td>\n",
       "    </tr>\n",
       "    <tr>\n",
       "      <td>3</td>\n",
       "      <td>3_2015-04</td>\n",
       "      <td>3</td>\n",
       "      <td>04</td>\n",
       "      <td>20.560345</td>\n",
       "      <td>16.793513</td>\n",
       "      <td>3.780933</td>\n",
       "      <td>4.360121</td>\n",
       "      <td>19.1</td>\n",
       "      <td>21.5</td>\n",
       "      <td>2.950457</td>\n",
       "      <td>...</td>\n",
       "      <td>None</td>\n",
       "      <td>0</td>\n",
       "      <td>3</td>\n",
       "      <td>Barry</td>\n",
       "      <td>31.006964</td>\n",
       "      <td>-88.010900</td>\n",
       "      <td>4.5720</td>\n",
       "      <td>9.716158</td>\n",
       "      <td>-5.144158</td>\n",
       "      <td>POINT (-88.01089992 31.00696404)</td>\n",
       "    </tr>\n",
       "    <tr>\n",
       "      <td>4</td>\n",
       "      <td>3_2015-05</td>\n",
       "      <td>3</td>\n",
       "      <td>05</td>\n",
       "      <td>23.277537</td>\n",
       "      <td>19.388452</td>\n",
       "      <td>3.260868</td>\n",
       "      <td>5.518137</td>\n",
       "      <td>20.8</td>\n",
       "      <td>24.0</td>\n",
       "      <td>2.861049</td>\n",
       "      <td>...</td>\n",
       "      <td>None</td>\n",
       "      <td>0</td>\n",
       "      <td>3</td>\n",
       "      <td>Barry</td>\n",
       "      <td>31.006964</td>\n",
       "      <td>-88.010900</td>\n",
       "      <td>4.5720</td>\n",
       "      <td>9.716158</td>\n",
       "      <td>-5.144158</td>\n",
       "      <td>POINT (-88.01089992 31.00696404)</td>\n",
       "    </tr>\n",
       "    <tr>\n",
       "      <td>...</td>\n",
       "      <td>...</td>\n",
       "      <td>...</td>\n",
       "      <td>...</td>\n",
       "      <td>...</td>\n",
       "      <td>...</td>\n",
       "      <td>...</td>\n",
       "      <td>...</td>\n",
       "      <td>...</td>\n",
       "      <td>...</td>\n",
       "      <td>...</td>\n",
       "      <td>...</td>\n",
       "      <td>...</td>\n",
       "      <td>...</td>\n",
       "      <td>...</td>\n",
       "      <td>...</td>\n",
       "      <td>...</td>\n",
       "      <td>...</td>\n",
       "      <td>...</td>\n",
       "      <td>...</td>\n",
       "      <td>...</td>\n",
       "      <td>...</td>\n",
       "    </tr>\n",
       "    <tr>\n",
       "      <td>13267</td>\n",
       "      <td>60100_2015-08</td>\n",
       "      <td>60100</td>\n",
       "      <td>08</td>\n",
       "      <td>26.847621</td>\n",
       "      <td>17.889834</td>\n",
       "      <td>1.732050</td>\n",
       "      <td>6.469384</td>\n",
       "      <td>17.5</td>\n",
       "      <td>27.7</td>\n",
       "      <td>3.397496</td>\n",
       "      <td>...</td>\n",
       "      <td>None</td>\n",
       "      <td>1105</td>\n",
       "      <td>60100</td>\n",
       "      <td>Dinuba Energy</td>\n",
       "      <td>36.571485</td>\n",
       "      <td>-119.419176</td>\n",
       "      <td>104.2416</td>\n",
       "      <td>104.375408</td>\n",
       "      <td>-0.133808</td>\n",
       "      <td>POINT (-119.419176 36.571485)</td>\n",
       "    </tr>\n",
       "    <tr>\n",
       "      <td>13268</td>\n",
       "      <td>60100_2015-09</td>\n",
       "      <td>60100</td>\n",
       "      <td>09</td>\n",
       "      <td>24.765248</td>\n",
       "      <td>15.797080</td>\n",
       "      <td>1.758932</td>\n",
       "      <td>5.075685</td>\n",
       "      <td>15.6</td>\n",
       "      <td>25.7</td>\n",
       "      <td>2.726937</td>\n",
       "      <td>...</td>\n",
       "      <td>None</td>\n",
       "      <td>1105</td>\n",
       "      <td>60100</td>\n",
       "      <td>Dinuba Energy</td>\n",
       "      <td>36.571485</td>\n",
       "      <td>-119.419176</td>\n",
       "      <td>104.2416</td>\n",
       "      <td>104.375408</td>\n",
       "      <td>-0.133808</td>\n",
       "      <td>POINT (-119.419176 36.571485)</td>\n",
       "    </tr>\n",
       "    <tr>\n",
       "      <td>13269</td>\n",
       "      <td>60100_2015-10</td>\n",
       "      <td>60100</td>\n",
       "      <td>10</td>\n",
       "      <td>20.919276</td>\n",
       "      <td>14.815301</td>\n",
       "      <td>1.904580</td>\n",
       "      <td>3.423831</td>\n",
       "      <td>15.3</td>\n",
       "      <td>21.7</td>\n",
       "      <td>2.190491</td>\n",
       "      <td>...</td>\n",
       "      <td>None</td>\n",
       "      <td>1105</td>\n",
       "      <td>60100</td>\n",
       "      <td>Dinuba Energy</td>\n",
       "      <td>36.571485</td>\n",
       "      <td>-119.419176</td>\n",
       "      <td>104.2416</td>\n",
       "      <td>104.375408</td>\n",
       "      <td>-0.133808</td>\n",
       "      <td>POINT (-119.419176 36.571485)</td>\n",
       "    </tr>\n",
       "    <tr>\n",
       "      <td>13270</td>\n",
       "      <td>60100_2015-11</td>\n",
       "      <td>60100</td>\n",
       "      <td>11</td>\n",
       "      <td>10.042879</td>\n",
       "      <td>6.612147</td>\n",
       "      <td>1.916735</td>\n",
       "      <td>1.583513</td>\n",
       "      <td>7.9</td>\n",
       "      <td>11.0</td>\n",
       "      <td>1.832859</td>\n",
       "      <td>...</td>\n",
       "      <td>None</td>\n",
       "      <td>1105</td>\n",
       "      <td>60100</td>\n",
       "      <td>Dinuba Energy</td>\n",
       "      <td>36.571485</td>\n",
       "      <td>-119.419176</td>\n",
       "      <td>104.2416</td>\n",
       "      <td>104.375408</td>\n",
       "      <td>-0.133808</td>\n",
       "      <td>POINT (-119.419176 36.571485)</td>\n",
       "    </tr>\n",
       "    <tr>\n",
       "      <td>13271</td>\n",
       "      <td>60100_2015-12</td>\n",
       "      <td>60100</td>\n",
       "      <td>12</td>\n",
       "      <td>6.991038</td>\n",
       "      <td>4.218756</td>\n",
       "      <td>2.056240</td>\n",
       "      <td>1.054417</td>\n",
       "      <td>5.9</td>\n",
       "      <td>7.8</td>\n",
       "      <td>2.011675</td>\n",
       "      <td>...</td>\n",
       "      <td>None</td>\n",
       "      <td>1105</td>\n",
       "      <td>60100</td>\n",
       "      <td>Dinuba Energy</td>\n",
       "      <td>36.571485</td>\n",
       "      <td>-119.419176</td>\n",
       "      <td>104.2416</td>\n",
       "      <td>104.375408</td>\n",
       "      <td>-0.133808</td>\n",
       "      <td>POINT (-119.419176 36.571485)</td>\n",
       "    </tr>\n",
       "  </tbody>\n",
       "</table>\n",
       "<p>13272 rows × 34 columns</p>\n",
       "</div>"
      ],
      "text/plain": [
       "          EIA_P_DATE  EIA_PLANT_ MONTH  gm_DB_mean  gm_WB_mean  gm_WS_mean  \\\n",
       "0          3_2015-01           3    01    8.420684    5.040449    4.056752   \n",
       "1          3_2015-02           3    02    7.559216    4.222238    4.472853   \n",
       "2          3_2015-03           3    03   16.939187   12.979736    3.904093   \n",
       "3          3_2015-04           3    04   20.560345   16.793513    3.780933   \n",
       "4          3_2015-05           3    05   23.277537   19.388452    3.260868   \n",
       "...              ...         ...   ...         ...         ...         ...   \n",
       "13267  60100_2015-08       60100    08   26.847621   17.889834    1.732050   \n",
       "13268  60100_2015-09       60100    09   24.765248   15.797080    1.758932   \n",
       "13269  60100_2015-10       60100    10   20.919276   14.815301    1.904580   \n",
       "13270  60100_2015-11       60100    11   10.042879    6.612147    1.916735   \n",
       "13271  60100_2015-12       60100    12    6.991038    4.218756    2.056240   \n",
       "\n",
       "       gm_EV_mean  DB_C  WB_C     WS_ms  ...  why_no_CID  Unnamed: 0  \\\n",
       "0        2.245942   7.1   9.7  3.442199  ...        None           0   \n",
       "1        2.485715   6.5   9.1  3.889238  ...        None           0   \n",
       "2        3.530295  15.3  18.0  3.218680  ...        None           0   \n",
       "3        4.360121  19.1  21.5  2.950457  ...        None           0   \n",
       "4        5.518137  20.8  24.0  2.861049  ...        None           0   \n",
       "...           ...   ...   ...       ...  ...         ...         ...   \n",
       "13267    6.469384  17.5  27.7  3.397496  ...        None        1105   \n",
       "13268    5.075685  15.6  25.7  2.726937  ...        None        1105   \n",
       "13269    3.423831  15.3  21.7  2.190491  ...        None        1105   \n",
       "13270    1.583513   7.9  11.0  1.832859  ...        None        1105   \n",
       "13271    1.054417   5.9   7.8  2.011675  ...        None        1105   \n",
       "\n",
       "       EIA_PLANT_ID   PLANT_NAME_y  LATITUDE_y  LONGITUDE_y  ELEV_phys_mod  \\\n",
       "0                 3          Barry   31.006964   -88.010900         4.5720   \n",
       "1                 3          Barry   31.006964   -88.010900         4.5720   \n",
       "2                 3          Barry   31.006964   -88.010900         4.5720   \n",
       "3                 3          Barry   31.006964   -88.010900         4.5720   \n",
       "4                 3          Barry   31.006964   -88.010900         4.5720   \n",
       "...             ...            ...         ...          ...            ...   \n",
       "13267         60100  Dinuba Energy   36.571485  -119.419176       104.2416   \n",
       "13268         60100  Dinuba Energy   36.571485  -119.419176       104.2416   \n",
       "13269         60100  Dinuba Energy   36.571485  -119.419176       104.2416   \n",
       "13270         60100  Dinuba Energy   36.571485  -119.419176       104.2416   \n",
       "13271         60100  Dinuba Energy   36.571485  -119.419176       104.2416   \n",
       "\n",
       "          ELEV_gm     PM-gM                          geometry  \n",
       "0        9.716158 -5.144158  POINT (-88.01089992 31.00696404)  \n",
       "1        9.716158 -5.144158  POINT (-88.01089992 31.00696404)  \n",
       "2        9.716158 -5.144158  POINT (-88.01089992 31.00696404)  \n",
       "3        9.716158 -5.144158  POINT (-88.01089992 31.00696404)  \n",
       "4        9.716158 -5.144158  POINT (-88.01089992 31.00696404)  \n",
       "...           ...       ...                               ...  \n",
       "13267  104.375408 -0.133808     POINT (-119.419176 36.571485)  \n",
       "13268  104.375408 -0.133808     POINT (-119.419176 36.571485)  \n",
       "13269  104.375408 -0.133808     POINT (-119.419176 36.571485)  \n",
       "13270  104.375408 -0.133808     POINT (-119.419176 36.571485)  \n",
       "13271  104.375408 -0.133808     POINT (-119.419176 36.571485)  \n",
       "\n",
       "[13272 rows x 34 columns]"
      ]
     },
     "execution_count": 35,
     "metadata": {},
     "output_type": "execute_result"
    }
   ],
   "source": [
    "mean_df\n"
   ]
  },
  {
   "cell_type": "code",
   "execution_count": 37,
   "metadata": {},
   "outputs": [],
   "source": [
    "np.linspace(1,12,12)\n",
    "months = ['01','02','03','04', '05', '06', '07', '08', '09', '10', '11', '12']"
   ]
  },
  {
   "cell_type": "code",
   "execution_count": 38,
   "metadata": {},
   "outputs": [],
   "source": [
    "rmse_dict = {'month': months,'DB': months, 'WB': months, 'WS': months, 'EV': months}\n"
   ]
  },
  {
   "cell_type": "code",
   "execution_count": 39,
   "metadata": {},
   "outputs": [],
   "source": [
    "rmse_df = pd.DataFrame(data = rmse_dict)"
   ]
  },
  {
   "cell_type": "code",
   "execution_count": 40,
   "metadata": {},
   "outputs": [
    {
     "data": {
      "text/html": [
       "<div>\n",
       "<style scoped>\n",
       "    .dataframe tbody tr th:only-of-type {\n",
       "        vertical-align: middle;\n",
       "    }\n",
       "\n",
       "    .dataframe tbody tr th {\n",
       "        vertical-align: top;\n",
       "    }\n",
       "\n",
       "    .dataframe thead th {\n",
       "        text-align: right;\n",
       "    }\n",
       "</style>\n",
       "<table border=\"1\" class=\"dataframe\">\n",
       "  <thead>\n",
       "    <tr style=\"text-align: right;\">\n",
       "      <th></th>\n",
       "      <th>month</th>\n",
       "      <th>DB</th>\n",
       "      <th>WB</th>\n",
       "      <th>WS</th>\n",
       "      <th>EV</th>\n",
       "    </tr>\n",
       "  </thead>\n",
       "  <tbody>\n",
       "    <tr>\n",
       "      <td>0</td>\n",
       "      <td>01</td>\n",
       "      <td>01</td>\n",
       "      <td>01</td>\n",
       "      <td>01</td>\n",
       "      <td>01</td>\n",
       "    </tr>\n",
       "    <tr>\n",
       "      <td>1</td>\n",
       "      <td>02</td>\n",
       "      <td>02</td>\n",
       "      <td>02</td>\n",
       "      <td>02</td>\n",
       "      <td>02</td>\n",
       "    </tr>\n",
       "    <tr>\n",
       "      <td>2</td>\n",
       "      <td>03</td>\n",
       "      <td>03</td>\n",
       "      <td>03</td>\n",
       "      <td>03</td>\n",
       "      <td>03</td>\n",
       "    </tr>\n",
       "    <tr>\n",
       "      <td>3</td>\n",
       "      <td>04</td>\n",
       "      <td>04</td>\n",
       "      <td>04</td>\n",
       "      <td>04</td>\n",
       "      <td>04</td>\n",
       "    </tr>\n",
       "    <tr>\n",
       "      <td>4</td>\n",
       "      <td>05</td>\n",
       "      <td>05</td>\n",
       "      <td>05</td>\n",
       "      <td>05</td>\n",
       "      <td>05</td>\n",
       "    </tr>\n",
       "    <tr>\n",
       "      <td>5</td>\n",
       "      <td>06</td>\n",
       "      <td>06</td>\n",
       "      <td>06</td>\n",
       "      <td>06</td>\n",
       "      <td>06</td>\n",
       "    </tr>\n",
       "    <tr>\n",
       "      <td>6</td>\n",
       "      <td>07</td>\n",
       "      <td>07</td>\n",
       "      <td>07</td>\n",
       "      <td>07</td>\n",
       "      <td>07</td>\n",
       "    </tr>\n",
       "    <tr>\n",
       "      <td>7</td>\n",
       "      <td>08</td>\n",
       "      <td>08</td>\n",
       "      <td>08</td>\n",
       "      <td>08</td>\n",
       "      <td>08</td>\n",
       "    </tr>\n",
       "    <tr>\n",
       "      <td>8</td>\n",
       "      <td>09</td>\n",
       "      <td>09</td>\n",
       "      <td>09</td>\n",
       "      <td>09</td>\n",
       "      <td>09</td>\n",
       "    </tr>\n",
       "    <tr>\n",
       "      <td>9</td>\n",
       "      <td>10</td>\n",
       "      <td>10</td>\n",
       "      <td>10</td>\n",
       "      <td>10</td>\n",
       "      <td>10</td>\n",
       "    </tr>\n",
       "    <tr>\n",
       "      <td>10</td>\n",
       "      <td>11</td>\n",
       "      <td>11</td>\n",
       "      <td>11</td>\n",
       "      <td>11</td>\n",
       "      <td>11</td>\n",
       "    </tr>\n",
       "    <tr>\n",
       "      <td>11</td>\n",
       "      <td>12</td>\n",
       "      <td>12</td>\n",
       "      <td>12</td>\n",
       "      <td>12</td>\n",
       "      <td>12</td>\n",
       "    </tr>\n",
       "  </tbody>\n",
       "</table>\n",
       "</div>"
      ],
      "text/plain": [
       "   month  DB  WB  WS  EV\n",
       "0     01  01  01  01  01\n",
       "1     02  02  02  02  02\n",
       "2     03  03  03  03  03\n",
       "3     04  04  04  04  04\n",
       "4     05  05  05  05  05\n",
       "5     06  06  06  06  06\n",
       "6     07  07  07  07  07\n",
       "7     08  08  08  08  08\n",
       "8     09  09  09  09  09\n",
       "9     10  10  10  10  10\n",
       "10    11  11  11  11  11\n",
       "11    12  12  12  12  12"
      ]
     },
     "execution_count": 40,
     "metadata": {},
     "output_type": "execute_result"
    }
   ],
   "source": [
    "rmse_df\n"
   ]
  },
  {
   "cell_type": "code",
   "execution_count": 41,
   "metadata": {},
   "outputs": [],
   "source": [
    "rmse_df.to_csv('rmse_df.csv')"
   ]
  },
  {
   "cell_type": "code",
   "execution_count": 45,
   "metadata": {},
   "outputs": [
    {
     "data": {
      "text/plain": [
       "11        0.022718\n",
       "23        0.986051\n",
       "35        0.363851\n",
       "47        1.064122\n",
       "59        1.711327\n",
       "           ...    \n",
       "13223     4.894179\n",
       "13235     0.069515\n",
       "13247    71.588295\n",
       "13259    71.585937\n",
       "13271     1.190363\n",
       "Name: DB_res_sq, Length: 1106, dtype: float64"
      ]
     },
     "execution_count": 45,
     "metadata": {},
     "output_type": "execute_result"
    }
   ],
   "source": [
    "monthly_df['DB_res_sq']\n",
    "\n"
   ]
  },
  {
   "cell_type": "code",
   "execution_count": 46,
   "metadata": {},
   "outputs": [
    {
     "data": {
      "text/plain": [
       "4.788975541235927"
      ]
     },
     "execution_count": 46,
     "metadata": {},
     "output_type": "execute_result"
    }
   ],
   "source": [
    "np.mean(monthly_df[col_2])"
   ]
  },
  {
   "cell_type": "code",
   "execution_count": 48,
   "metadata": {},
   "outputs": [
    {
     "data": {
      "text/plain": [
       "4.788975541235927"
      ]
     },
     "execution_count": 48,
     "metadata": {},
     "output_type": "execute_result"
    }
   ],
   "source": [
    "np.mean(monthly_df[col_2])"
   ]
  },
  {
   "cell_type": "code",
   "execution_count": 49,
   "metadata": {},
   "outputs": [
    {
     "data": {
      "text/plain": [
       "5296.6069486069255"
      ]
     },
     "execution_count": 49,
     "metadata": {},
     "output_type": "execute_result"
    }
   ],
   "source": [
    "np.sum(monthly_df[col_2])"
   ]
  },
  {
   "cell_type": "code",
   "execution_count": 50,
   "metadata": {},
   "outputs": [
    {
     "data": {
      "text/plain": [
       "11        0.022718\n",
       "23        0.986051\n",
       "35        0.363851\n",
       "47        1.064122\n",
       "59        1.711327\n",
       "           ...    \n",
       "13223     4.894179\n",
       "13235     0.069515\n",
       "13247    71.588295\n",
       "13259    71.585937\n",
       "13271     1.190363\n",
       "Name: DB_res_sq, Length: 1106, dtype: float64"
      ]
     },
     "execution_count": 50,
     "metadata": {},
     "output_type": "execute_result"
    }
   ],
   "source": [
    "monthly_df[col_2]"
   ]
  },
  {
   "cell_type": "code",
   "execution_count": 51,
   "metadata": {},
   "outputs": [
    {
     "data": {
      "text/plain": [
       "2.1883728067301345"
      ]
     },
     "execution_count": 51,
     "metadata": {},
     "output_type": "execute_result"
    }
   ],
   "source": [
    "np.sqrt(np.mean(monthly_df[col_2]))"
   ]
  },
  {
   "cell_type": "code",
   "execution_count": 52,
   "metadata": {},
   "outputs": [
    {
     "data": {
      "text/plain": [
       "72.77779158924051"
      ]
     },
     "execution_count": 52,
     "metadata": {},
     "output_type": "execute_result"
    }
   ],
   "source": [
    "np.sqrt(np.mean(np.sum(monthly_df[col_2])))"
   ]
  },
  {
   "cell_type": "code",
   "execution_count": 42,
   "metadata": {},
   "outputs": [
    {
     "name": "stderr",
     "output_type": "stream",
     "text": [
      "C:\\Users\\galanter\\AppData\\Local\\Continuum\\anaconda3\\envs\\ofp_for_te2\\lib\\site-packages\\ipykernel_launcher.py:22: RuntimeWarning: More than 20 figures have been opened. Figures created through the pyplot interface (`matplotlib.pyplot.figure`) are retained until explicitly closed and may consume too much memory. (To control this warning, see the rcParam `figure.max_open_warning`).\n",
      "C:\\Users\\galanter\\AppData\\Local\\Continuum\\anaconda3\\envs\\ofp_for_te2\\lib\\site-packages\\ipykernel_launcher.py:37: RuntimeWarning: More than 20 figures have been opened. Figures created through the pyplot interface (`matplotlib.pyplot.figure`) are retained until explicitly closed and may consume too much memory. (To control this warning, see the rcParam `figure.max_open_warning`).\n",
      "C:\\Users\\galanter\\AppData\\Local\\Continuum\\anaconda3\\envs\\ofp_for_te2\\lib\\site-packages\\ipykernel_launcher.py:55: RuntimeWarning: More than 20 figures have been opened. Figures created through the pyplot interface (`matplotlib.pyplot.figure`) are retained until explicitly closed and may consume too much memory. (To control this warning, see the rcParam `figure.max_open_warning`).\n"
     ]
    },
    {
     "data": {
      "text/plain": [
       "<Figure size 576x576 with 0 Axes>"
      ]
     },
     "metadata": {},
     "output_type": "display_data"
    },
    {
     "data": {
      "text/plain": [
       "<Figure size 576x576 with 0 Axes>"
      ]
     },
     "metadata": {},
     "output_type": "display_data"
    },
    {
     "data": {
      "text/plain": [
       "<Figure size 576x576 with 0 Axes>"
      ]
     },
     "metadata": {},
     "output_type": "display_data"
    },
    {
     "data": {
      "text/plain": [
       "<Figure size 576x576 with 0 Axes>"
      ]
     },
     "metadata": {},
     "output_type": "display_data"
    },
    {
     "data": {
      "text/plain": [
       "<Figure size 576x576 with 0 Axes>"
      ]
     },
     "metadata": {},
     "output_type": "display_data"
    },
    {
     "data": {
      "text/plain": [
       "<Figure size 576x576 with 0 Axes>"
      ]
     },
     "metadata": {},
     "output_type": "display_data"
    },
    {
     "data": {
      "text/plain": [
       "<Figure size 576x576 with 0 Axes>"
      ]
     },
     "metadata": {},
     "output_type": "display_data"
    },
    {
     "data": {
      "text/plain": [
       "<Figure size 576x576 with 0 Axes>"
      ]
     },
     "metadata": {},
     "output_type": "display_data"
    },
    {
     "data": {
      "text/plain": [
       "<Figure size 576x576 with 0 Axes>"
      ]
     },
     "metadata": {},
     "output_type": "display_data"
    },
    {
     "data": {
      "text/plain": [
       "<Figure size 576x576 with 0 Axes>"
      ]
     },
     "metadata": {},
     "output_type": "display_data"
    },
    {
     "data": {
      "text/plain": [
       "<Figure size 576x576 with 0 Axes>"
      ]
     },
     "metadata": {},
     "output_type": "display_data"
    },
    {
     "data": {
      "text/plain": [
       "<Figure size 576x576 with 0 Axes>"
      ]
     },
     "metadata": {},
     "output_type": "display_data"
    },
    {
     "data": {
      "text/plain": [
       "<Figure size 576x576 with 0 Axes>"
      ]
     },
     "metadata": {},
     "output_type": "display_data"
    },
    {
     "data": {
      "text/plain": [
       "<Figure size 576x576 with 0 Axes>"
      ]
     },
     "metadata": {},
     "output_type": "display_data"
    },
    {
     "data": {
      "text/plain": [
       "<Figure size 576x576 with 0 Axes>"
      ]
     },
     "metadata": {},
     "output_type": "display_data"
    },
    {
     "data": {
      "text/plain": [
       "<Figure size 576x576 with 0 Axes>"
      ]
     },
     "metadata": {},
     "output_type": "display_data"
    },
    {
     "data": {
      "text/plain": [
       "<Figure size 576x576 with 0 Axes>"
      ]
     },
     "metadata": {},
     "output_type": "display_data"
    },
    {
     "data": {
      "text/plain": [
       "<Figure size 576x576 with 0 Axes>"
      ]
     },
     "metadata": {},
     "output_type": "display_data"
    },
    {
     "data": {
      "text/plain": [
       "<Figure size 576x576 with 0 Axes>"
      ]
     },
     "metadata": {},
     "output_type": "display_data"
    },
    {
     "data": {
      "text/plain": [
       "<Figure size 576x576 with 0 Axes>"
      ]
     },
     "metadata": {},
     "output_type": "display_data"
    },
    {
     "data": {
      "text/plain": [
       "<Figure size 576x576 with 0 Axes>"
      ]
     },
     "metadata": {},
     "output_type": "display_data"
    },
    {
     "data": {
      "text/plain": [
       "<Figure size 576x576 with 0 Axes>"
      ]
     },
     "metadata": {},
     "output_type": "display_data"
    },
    {
     "data": {
      "text/plain": [
       "<Figure size 576x576 with 0 Axes>"
      ]
     },
     "metadata": {},
     "output_type": "display_data"
    },
    {
     "data": {
      "text/plain": [
       "<Figure size 576x576 with 0 Axes>"
      ]
     },
     "metadata": {},
     "output_type": "display_data"
    },
    {
     "data": {
      "text/plain": [
       "<Figure size 576x576 with 0 Axes>"
      ]
     },
     "metadata": {},
     "output_type": "display_data"
    }
   ],
   "source": [
    "## for testing\n",
    "#months = ['01']\n",
    "params = ['DB']\n",
    "units = ['deg_C']\n",
    "# not enough memory to get through all of them, need to separate and do EV separate\n",
    "#params = ['DB','WB','WS','EV']\n",
    "\n",
    "#units = ['deg_C','deg_C','m_s','mm']\n",
    "\n",
    "for p, param in enumerate(params):\n",
    "    with PdfPages(param + units[p] +'.pdf') as pdf:\n",
    "        for i, val in enumerate(months):\n",
    "            if param == 'EV':\n",
    "                monthly_df = mean_df[mean_df['MONTH']==val]\n",
    "                monthly_df = monthly_df.dropna()\n",
    "            else:\n",
    "                monthly_df = mean_df[mean_df['MONTH']==val]\n",
    "                \n",
    "            #output shapefile\n",
    "            monthly_df.to_file(os.path.join(TEdir,'..','GIS','Residuals', param, param+val+'.shp'))\n",
    "            \n",
    "            fig,(ax1,ax2) = plt.subplots(nrows = 2, figsize = (8,8))\n",
    "            col_1 = 'OBS_SIM_'+ param                             \n",
    "            col_2 = param + '_res_sq'\n",
    "            RMSE = np.sqrt(np.mean(np.sum(monthly_df[col_2])))\n",
    "            rmse_df.loc[i,param] = RMSE\n",
    "            ax1.set_title('OBS-SIM_'+ val +'_' + param +'_'+ units[p] )           \n",
    "            monthly_df.plot(ax = ax1, column = col_1, legend = True, cmap = 'gist_rainbow')\n",
    "            ctx.add_basemap(ax1, crs = crs, source = ctx.providers.OpenTopoMap)\n",
    "            \n",
    "            ax2.set_title('OBS-SIM'+ '_' + val+ '_'+ param + '_'+units[p]+ ', RMSE = ' + str(np.round(RMSE,2)))\n",
    "            ax2.hist(monthly_df[col_1])\n",
    "            pdf.savefig()\n",
    "            plt.clf()\n",
    "            \n",
    "#             #x = np.linspace(0,monthly_df[col_1].max())\n",
    "            plt.figure(figsize = (8,8))\n",
    "#             ax1 = f.add_subplot(211, aspect = 'equal')\n",
    "#             ax1 = f.add_subplot(212, aspect = 'equal')\n",
    "#             fig, (ax1, ax2) = plt.subplots(nrows = 2, figsize = (8,8))\n",
    "            plt.title('Elev residuals vs ' + col_1 + ' residuals-' + 'month_'+ val)\n",
    "            plt.scatter(monthly_df['PM-gM'], monthly_df[col_1])\n",
    "#            ax1.scatter((monthly_df['PM - gM']/np.mean(monthly_df['PM - gM'])), \n",
    "                          #(monthly_df[col_1]/np.mean(monthly_df[col_1])))\n",
    "            plt.xlabel('elev_residuals_PM-gM')\n",
    "            plt.ylabel(col_1)\n",
    "            \n",
    "#             ax2.set_title('zero in on large diff elevs')\n",
    "#             large_diffs = monthly_df[np.absolute(monthly_df['PM - gM'])>10]\n",
    "#             ax2.scatter(large_diffs['PM - gM'], large_diffs[col_1])\n",
    "            \n",
    "            pdf.savefig()\n",
    "            plt.clf()\n",
    "            \n",
    "        plt.figure(figsize = (8,8))    \n",
    "        plt.plot(rmse_df['month'],rmse_df[param])\n",
    "        plt.title('RMSE_' + str(param))\n",
    "        plt.xlabel('month')\n",
    "        plt.ylabel('RMSE')\n",
    "        pdf.savefig()\n",
    "        plt.clf()"
   ]
  },
  {
   "cell_type": "code",
   "execution_count": null,
   "metadata": {},
   "outputs": [],
   "source": [
    "## for testing\n",
    "#months = ['01']\n",
    "params = ['WB']\n",
    "units = ['deg_C']\n",
    "# not enough memory to get through all of them, need to separate and do EV separate\n",
    "#params = ['DB','WB','WS','EV']\n",
    "\n",
    "#units = ['deg_C','deg_C','m_s','mm']\n",
    "\n",
    "for p, param in enumerate(params):\n",
    "    with PdfPages(param + units[p] +'orig_abs'+'.pdf') as pdf:\n",
    "        for i, val in enumerate(months):\n",
    "                monthly_df = mean_df[mean_df['MONTH']==val]\n",
    "                \n",
    "            #output shapefile\n",
    "            #monthly_df.to_file(os.path.join(TEdir,'..','GIS','Residuals', param, param+val+'.shp'))\n",
    "            \n",
    "                fig, ax1 = plt.subplots(nrows = 1, figsize = (8,8))\n",
    "                col_1 = 'gm_'+ param + '_mean'                             \n",
    "                col_2 = param + '_C'\n",
    "\n",
    "                ax1.set_title('abs_'+ val +'_' + param +'_'+ units[p] )           \n",
    "                monthly_df.plot(ax = ax1, column = col_1, legend = True, cmap = 'gist_rainbow')\n",
    "                ctx.add_basemap(ax1, crs = crs, source = ctx.providers.OpenTopoMap)\n",
    "                pdf.savefig()\n",
    "                plt.clf()"
   ]
  },
  {
   "cell_type": "code",
   "execution_count": null,
   "metadata": {},
   "outputs": [],
   "source": [
    "large_diffs = monthly_df[np.absolute(monthly_df['PM - gM'])>10]"
   ]
  },
  {
   "cell_type": "code",
   "execution_count": null,
   "metadata": {},
   "outputs": [],
   "source": [
    "rmse_df"
   ]
  },
  {
   "cell_type": "code",
   "execution_count": null,
   "metadata": {},
   "outputs": [],
   "source": [
    "monthly_df.to_file(os.path.join(TEdir,'..','GIS','Residuals', param, param+val+'.shp'))"
   ]
  },
  {
   "cell_type": "code",
   "execution_count": null,
   "metadata": {},
   "outputs": [],
   "source": [
    "fig, (ax1, ax2) = plt.subplots(nrows = 2, figsize = (8,8), sharex = True, sharey= True)\n",
    "ax1.set_title('RMSE_'+ val + '_' + param + '_'+ units[p])\n",
    "col_0 = 'RMSE_'+ param\n",
    "monthly_df.plot(ax = ax1, column = col_0, legend = True)\n",
    "ctx.add_basemap(ax1, crs = crs, source = ctx.providers.OpenTopoMap)\n",
    "ax2.set_title('OBS-SIM_'+ val +'_' + param +'_'+ units[p])\n",
    "col_1 = 'OBS_SIM_'+ param\n",
    "monthly_df.plot(ax = ax2, column = col_1, legend = True)\n",
    "ctx.add_basemap(ax2, crs = crs, source = ctx.providers.OpenTopoMap)"
   ]
  },
  {
   "cell_type": "code",
   "execution_count": null,
   "metadata": {},
   "outputs": [],
   "source": [
    "ctx.providers.keys()"
   ]
  },
  {
   "cell_type": "code",
   "execution_count": null,
   "metadata": {},
   "outputs": [],
   "source": [
    "monthly_df = monthly_df.dropna(inplace =True)"
   ]
  },
  {
   "cell_type": "code",
   "execution_count": null,
   "metadata": {},
   "outputs": [],
   "source": [
    "with PdfPages('January.pdf') as pdf:\n",
    "    fig, (ax1, ax2) = plt.subplots(nrows = 2, sharex = True, sharey= True)\n",
    "    ax1.set_title('RMSE')\n",
    "    monthly_df.plot(ax = ax1, column = 'RMSE_DB', legend = True)\n",
    "    ax2.set_title('OBS-SIM')\n",
    "    monthly_df.plot(ax = ax2, column = 'OBS_SIM_DB', legend = True)\n",
    "\n",
    "    pdf.savefig()"
   ]
  },
  {
   "cell_type": "code",
   "execution_count": null,
   "metadata": {},
   "outputs": [],
   "source": [
    "fig, (ax1, ax2) = plt.subplots(nrows = 2)\n",
    "ax1.set_title('RMSE')\n",
    "ax1.hist(jan_df['RMSE_DB'])\n",
    "ax2.set_title('OBS-SIM')\n",
    "ax2.hist(jan_df['OBS_SIM'])\n"
   ]
  },
  {
   "cell_type": "code",
   "execution_count": null,
   "metadata": {},
   "outputs": [],
   "source": [
    "for_plot_jan.to_csv('RMSE_Jan.csv')"
   ]
  },
  {
   "cell_type": "code",
   "execution_count": null,
   "metadata": {},
   "outputs": [],
   "source": [
    "for_plot_feb = for_plot[for_plot['MONTH']=='02']"
   ]
  },
  {
   "cell_type": "code",
   "execution_count": null,
   "metadata": {},
   "outputs": [],
   "source": [
    "for_plot_jan.to_csv('RMSE_Jan.csv')"
   ]
  },
  {
   "cell_type": "code",
   "execution_count": null,
   "metadata": {},
   "outputs": [],
   "source": [
    "range_pm = np.max(for_plot_jan['DB_C'])-np.min(for_plot_jan['DB_C'])\n",
    "range_gm = np.max(for_plot_jan['gm_DB_mean'])-np.min(for_plot_jan['gm_DB_mean'])"
   ]
  },
  {
   "cell_type": "code",
   "execution_count": null,
   "metadata": {},
   "outputs": [],
   "source": [
    "range_gm"
   ]
  },
  {
   "cell_type": "code",
   "execution_count": null,
   "metadata": {},
   "outputs": [],
   "source": [
    "# Identify and analyze these fits. Are the trends regional? correlations with elevation? "
   ]
  },
  {
   "cell_type": "code",
   "execution_count": null,
   "metadata": {},
   "outputs": [],
   "source": [
    "# Calculate a bias correction for the gridMET data\n",
    "# underlying assumption is that the 2015 input data is \"true\". Any caveats here? Although 2015 input data was rigorously\n",
    "# examined, there are more temporal data with gridMET, for which there might be some value. "
   ]
  },
  {
   "cell_type": "code",
   "execution_count": null,
   "metadata": {},
   "outputs": [],
   "source": []
  }
 ],
 "metadata": {
  "kernelspec": {
   "display_name": "Python 3",
   "language": "python",
   "name": "python3"
  },
  "language_info": {
   "codemirror_mode": {
    "name": "ipython",
    "version": 3
   },
   "file_extension": ".py",
   "mimetype": "text/x-python",
   "name": "python",
   "nbconvert_exporter": "python",
   "pygments_lexer": "ipython3",
   "version": "3.6.9"
  }
 },
 "nbformat": 4,
 "nbformat_minor": 2
}
