{
 "cells": [
  {
   "cell_type": "markdown",
   "metadata": {},
   "source": [
    "# Compare gridMET data and modeled input\n",
    "\n",
    "### What this notebook does: \n",
    "- Compare the 2015 gridMET data pulled at TE locations (using TE_fetcher_parser_nearest_neighbor_Daily_gridMET_data) to 2015 input data from Harris and Diehl (2019)\n",
    "\n",
    "### Why the comparison/ big picture goal: \n",
    "- Develop bias correction for gridMET data. Since 2015 input data from Harris and Diehl (2019) involved a lot of QA/QC and used climate stations, we will capitalize on that knowledge to better understand where the gridMET data might have issues. \n",
    "\n",
    "### Environment -- use 'ofp_for_te_.yml' "
   ]
  },
  {
   "cell_type": "code",
   "execution_count": 1,
   "metadata": {},
   "outputs": [
    {
     "name": "stdout",
     "output_type": "stream",
     "text": [
      "Populating the interactive namespace from numpy and matplotlib\n"
     ]
    }
   ],
   "source": [
    "# step 0- import the needed packages\n",
    "%matplotlib inline\n",
    "%pylab inline\n",
    "pylab.rcParams['figure.figsize'] = (10.0, 8.0)\n",
    "\n",
    "import geopandas as gpd\n",
    "import pandas as pd\n",
    "import os\n",
    "import numpy as np\n",
    "from shapely.geometry import Point, polygon\n",
    "from matplotlib.backends.backend_pdf import PdfPages"
   ]
  },
  {
   "cell_type": "code",
   "execution_count": 2,
   "metadata": {},
   "outputs": [],
   "source": [
    "# step 1- bring in df with lat longs of TE plants, gridMET data, 2015 model input data\n",
    "TEdir = r'C:\\WBEEP\\Thermoelectric-master\\Climate_data_fetcher'\n",
    "TE_shp = gpd.read_file(os.path.join(TEdir, '..\\GIS','2015_TE_Model_Estimates_lat.long_COMIDs.shp'))\n",
    "GM_data = pd.read_csv(os.path.join(TEdir, 'TE_plants_w_2015_daily_gridMET.csv'))\n",
    "input_2015 = pd.read_csv(os.path.join(TEdir, '..\\TE_Harris_Diehl_2015', '2015_TE_input_data_AEG.csv'))\n",
    "# Combined longterm pond net evap2.xlsx with 2015 input data"
   ]
  },
  {
   "cell_type": "code",
   "execution_count": 33,
   "metadata": {},
   "outputs": [
    {
     "data": {
      "text/plain": [
       "<matplotlib.axes._subplots.AxesSubplot at 0x1860085fe10>"
      ]
     },
     "execution_count": 33,
     "metadata": {},
     "output_type": "execute_result"
    },
    {
     "data": {
      "image/png": "[encoded data removed]",
      "text/plain": [
       "<Figure size 432x288 with 1 Axes>"
      ]
     },
     "metadata": {
      "needs_background": "light"
     },
     "output_type": "display_data"
    }
   ],
   "source": [
    "TE_shp.plot()"
   ]
  },
  {
   "cell_type": "code",
   "execution_count": 3,
   "metadata": {},
   "outputs": [],
   "source": [
    "# step 2- alter format of input_2015 for easier comparison to GM_data\n",
    "\n",
    "# remove duplicate plant EIAs and names, the duplicates are for different system types at the same location\n",
    "# but not relevant for comparing climate data.Remove columns relating to CD and WT- don't have those variables to compare to\n",
    "input_2015.drop_duplicates(subset = 'EIA_PLANT_ID', inplace=True)\n",
    "input_2015.drop(columns = ['COUNTY', 'STATE', 'NAME_OF_WATER_SOURCE','COOLING_TYPE', 'MODEL_TYPE', 'PERCENT_CD_ALLOCATION', \n",
    "                        'ELEVATION','POND_AREA','CD_Jan', 'CD_Feb', 'CD_Mar', 'CD_Apr', 'CD_May', 'CD_Jun', 'CD_Jul', 'CD_Aug',\n",
    "                       'CD_Sep', 'CD_Oct', 'CD_Nov', 'CD_Dec','WT_Jan', 'WT_Feb', 'WT_Mar', 'WT_Apr', 'WT_May', 'WT_Jun', 'WT_Jul',\n",
    "                       'WT_Aug', 'WT_Sep', 'WT_Oct', 'WT_Nov', 'WT_Dec'], inplace=True)\n",
    "\n",
    "    "
   ]
  },
  {
   "cell_type": "code",
   "execution_count": 4,
   "metadata": {},
   "outputs": [],
   "source": [
    "# step 2.1 a little more data manipulation, make rows into columns basically.\n",
    "plants = input_2015['EIA_PLANT_ID']\n",
    "cols = ['DB','WB','WS','EV']\n",
    "\n",
    "for i, EIA in enumerate(plants):\n",
    "    temp = input_2015[input_2015['EIA_PLANT_ID'] == EIA]\n",
    "    DB = temp.loc[:, 'DB_01':'DB_12']\n",
    "    WB = temp.loc[:, 'WB_01':'WB_12']\n",
    "    WS = temp.loc[:, 'WS_01':'WS_12']\n",
    "    EV = temp.loc[:, 'EV_01':'EV_12']\n",
    "    variables = [DB,WB,WS,EV]\n",
    "    \n",
    "    for j, var in enumerate(variables):\n",
    "        df = var.T.reset_index()        \n",
    "        df['index'] = df['index'].str[-2:]\n",
    "        df.columns = ['MONTH', cols[j]]\n",
    "        if j == 0:\n",
    "            df1 = df.copy(deep=True)\n",
    "        else: \n",
    "            df1 = pd.merge(df1, df, on = 'MONTH')\n",
    "    \n",
    "    df1['EIA_PLANT_'] =  EIA\n",
    "    \n",
    "    if i == 0:\n",
    "        df2 = df1.copy(deep=True)\n",
    "    else:\n",
    "        df2 = df2.append(df1)\n"
   ]
  },
  {
   "cell_type": "code",
   "execution_count": 5,
   "metadata": {},
   "outputs": [],
   "source": [
    "# step 2.2 a little more data manipulation, ordering of columns, unit conv\n",
    "conv_mm=25.4 #inches to mm\n",
    "conv_ms = 1/60/60*1609.34\n",
    "#reorder columns\n",
    "p_mod_input =df2.copy(deep=True)\n",
    "p_mod_input = p_mod_input[['EIA_PLANT_','MONTH','DB', 'WB', 'WS', 'EV']]\n",
    "#conv Evap from inches to mm\n",
    "p_mod_input['EV'] = p_mod_input['EV']*conv_mm\n",
    "#conv WS from mph to m/s\n",
    "p_mod_input['WS'] = p_mod_input['WS']*conv_ms\n",
    "\n",
    "#rename cols\n",
    "cols = ['EIA_PLANT_','MONTH','DB_C', 'WB_C', 'WS_ms','EV_mm']\n",
    "p_mod_input.columns = cols"
   ]
  },
  {
   "cell_type": "code",
   "execution_count": 6,
   "metadata": {},
   "outputs": [],
   "source": [
    "# Step 3- calculate monthly means and medians from gridMET data\n",
    "GM_data['YEAR'] = GM_data['day'].astype(str).str[0:4]\n",
    "GM_data['MONTH'] = GM_data['day'].astype(str).str[5:7]"
   ]
  },
  {
   "cell_type": "code",
   "execution_count": 7,
   "metadata": {},
   "outputs": [],
   "source": [
    "GM_data.drop(columns = ['Unnamed: 0'], inplace=True) # also drops HI and AK plants, no gridMET data there to compare, so 1106 \n",
    "#plants instead of 1122"
   ]
  },
  {
   "cell_type": "code",
   "execution_count": 9,
   "metadata": {},
   "outputs": [],
   "source": [
    "# Step 3- calculate monthly means and medians from gridMET data\n",
    "#GM_data['YEAR'] = GM_data['day'].astype(str).str[0:4]\n",
    "#GM_data['MONTH'] = GM_data['day'].astype(str).str[5:7]\n",
    "\n",
    "month_means = pd.pivot_table(GM_data, index = ['EIA_PLANT_','MONTH'], aggfunc=np.mean)\n",
    "month_medians = pd.pivot_table(GM_data, index = ['EIA_PLANT_','MONTH'], aggfunc=np.median)\n",
    "month_means.reset_index(inplace=True)\n",
    "month_medians.reset_index(inplace=True)\n",
    "#GM_data.drop(columns = ['Unnamed: 0'], inplace=True) ##not sure why I cant do this before the aggfunc, but if I do\n",
    "# the number of plants reduces to 1106. Maybe there are some plants that are getting aggregated wrong. for now this is the \n",
    "# work aroudn to drop that column after\n"
   ]
  },
  {
   "cell_type": "code",
   "execution_count": 10,
   "metadata": {},
   "outputs": [
    {
     "data": {
      "text/html": [
       "<div>\n",
       "<style scoped>\n",
       "    .dataframe tbody tr th:only-of-type {\n",
       "        vertical-align: middle;\n",
       "    }\n",
       "\n",
       "    .dataframe tbody tr th {\n",
       "        vertical-align: top;\n",
       "    }\n",
       "\n",
       "    .dataframe thead th {\n",
       "        text-align: right;\n",
       "    }\n",
       "</style>\n",
       "<table border=\"1\" class=\"dataframe\">\n",
       "  <thead>\n",
       "    <tr style=\"text-align: right;\">\n",
       "      <th></th>\n",
       "      <th>EIA_PLANT_</th>\n",
       "      <th>MONTH</th>\n",
       "      <th>air_tmp_C_avg</th>\n",
       "      <th>open_wtr_et_mm</th>\n",
       "      <th>wb_tmp_C</th>\n",
       "      <th>wnd_spd_m_s</th>\n",
       "    </tr>\n",
       "  </thead>\n",
       "  <tbody>\n",
       "    <tr>\n",
       "      <td>0</td>\n",
       "      <td>3</td>\n",
       "      <td>01</td>\n",
       "      <td>8.361297</td>\n",
       "      <td>2.259193</td>\n",
       "      <td>4.988474</td>\n",
       "      <td>4.051613</td>\n",
       "    </tr>\n",
       "    <tr>\n",
       "      <td>1</td>\n",
       "      <td>3</td>\n",
       "      <td>02</td>\n",
       "      <td>7.560718</td>\n",
       "      <td>2.512500</td>\n",
       "      <td>4.207253</td>\n",
       "      <td>4.464286</td>\n",
       "    </tr>\n",
       "    <tr>\n",
       "      <td>2</td>\n",
       "      <td>3</td>\n",
       "      <td>03</td>\n",
       "      <td>16.924196</td>\n",
       "      <td>3.553064</td>\n",
       "      <td>12.954469</td>\n",
       "      <td>3.890323</td>\n",
       "    </tr>\n",
       "    <tr>\n",
       "      <td>3</td>\n",
       "      <td>3</td>\n",
       "      <td>04</td>\n",
       "      <td>20.540006</td>\n",
       "      <td>4.396000</td>\n",
       "      <td>16.756763</td>\n",
       "      <td>3.776667</td>\n",
       "    </tr>\n",
       "    <tr>\n",
       "      <td>4</td>\n",
       "      <td>3</td>\n",
       "      <td>05</td>\n",
       "      <td>23.209678</td>\n",
       "      <td>5.510806</td>\n",
       "      <td>19.329525</td>\n",
       "      <td>3.254839</td>\n",
       "    </tr>\n",
       "  </tbody>\n",
       "</table>\n",
       "</div>"
      ],
      "text/plain": [
       "   EIA_PLANT_ MONTH  air_tmp_C_avg  open_wtr_et_mm   wb_tmp_C  wnd_spd_m_s\n",
       "0           3    01       8.361297        2.259193   4.988474     4.051613\n",
       "1           3    02       7.560718        2.512500   4.207253     4.464286\n",
       "2           3    03      16.924196        3.553064  12.954469     3.890323\n",
       "3           3    04      20.540006        4.396000  16.756763     3.776667\n",
       "4           3    05      23.209678        5.510806  19.329525     3.254839"
      ]
     },
     "execution_count": 10,
     "metadata": {},
     "output_type": "execute_result"
    }
   ],
   "source": [
    "month_means.head()"
   ]
  },
  {
   "cell_type": "code",
   "execution_count": 11,
   "metadata": {},
   "outputs": [],
   "source": [
    "# Adding a column called \"EIA_P_DATE\" which combines EIA PLANT and DATE \n",
    "month_means['EIA_P_DATE'] = month_means.apply(lambda row: str(row.EIA_PLANT_) + \"_2015-\" + str(row.MONTH), axis = 1)\n",
    "month_medians['EIA_P_DATE'] = month_medians.apply(lambda row: str(row.EIA_PLANT_) + \"_2015-\" + str(row.MONTH), axis = 1)\n",
    "p_mod_input['EIA_P_DATE'] = p_mod_input.apply(lambda row: str(row.EIA_PLANT_) + \"_2015-\" + str(row.MONTH), axis = 1)\n"
   ]
  },
  {
   "cell_type": "code",
   "execution_count": null,
   "metadata": {},
   "outputs": [],
   "source": []
  },
  {
   "cell_type": "code",
   "execution_count": 12,
   "metadata": {},
   "outputs": [
    {
     "data": {
      "text/plain": [
       "(13272, 7)"
      ]
     },
     "execution_count": 12,
     "metadata": {},
     "output_type": "execute_result"
    }
   ],
   "source": [
    "month_means.shape"
   ]
  },
  {
   "cell_type": "code",
   "execution_count": 13,
   "metadata": {},
   "outputs": [
    {
     "data": {
      "text/plain": [
       "12.0"
      ]
     },
     "execution_count": 13,
     "metadata": {},
     "output_type": "execute_result"
    }
   ],
   "source": [
    "13272/1106"
   ]
  },
  {
   "cell_type": "code",
   "execution_count": 14,
   "metadata": {},
   "outputs": [],
   "source": [
    "#rename cols\n",
    "cols_mean =['EIA_PLANT_','MONTH','gm_DB_mean', 'gm_EV_mean', 'gm_WB_mean','gm_WS_mean','EIA_P_DATE']\n",
    "month_means.columns = cols_mean\n",
    "cols_median =['EIA_PLANT_','MONTH','gm_DB_med', 'gm_EV_med', 'gm_WB_med','gm_WS_med','EIA_P_DATE']\n",
    "month_medians.columns = cols_median\n",
    "\n",
    "#reorder cols\n",
    "month_means = month_means[['EIA_P_DATE','EIA_PLANT_','MONTH','gm_DB_mean', 'gm_WB_mean', 'gm_WS_mean', 'gm_EV_mean']]\n",
    "month_medians = month_medians[['EIA_P_DATE','EIA_PLANT_','MONTH','gm_DB_med', 'gm_WB_med', 'gm_WS_med', 'gm_EV_med']]\n",
    "p_mod_input = p_mod_input[['EIA_P_DATE','EIA_PLANT_','MONTH', 'DB_C','WB_C','WS_ms','EV_mm']]\n"
   ]
  },
  {
   "cell_type": "code",
   "execution_count": 16,
   "metadata": {},
   "outputs": [
    {
     "data": {
      "text/plain": [
       "True"
      ]
     },
     "execution_count": 16,
     "metadata": {},
     "output_type": "execute_result"
    }
   ],
   "source": [
    "len(month_means) == 1106*12\n",
    "len(month_medians) == 1106*12\n"
   ]
  },
  {
   "cell_type": "code",
   "execution_count": 17,
   "metadata": {},
   "outputs": [],
   "source": [
    "#merge the dfs on EIA_P_DATE\n",
    "mean_stats = pd.merge(month_means, p_mod_input, on = 'EIA_P_DATE')"
   ]
  },
  {
   "cell_type": "code",
   "execution_count": 18,
   "metadata": {},
   "outputs": [],
   "source": [
    "# Calculate the RMSE between monthly values\n",
    "# future- use sklearn mean_squared_error, for now not messing with the env, just using numpy\n",
    "def rmse(predictions, targets):\n",
    "    return np.sqrt(((predictions - targets)**2).mean())"
   ]
  },
  {
   "cell_type": "code",
   "execution_count": null,
   "metadata": {},
   "outputs": [],
   "source": []
  },
  {
   "cell_type": "code",
   "execution_count": 19,
   "metadata": {},
   "outputs": [
    {
     "data": {
      "text/html": [
       "<div>\n",
       "<style scoped>\n",
       "    .dataframe tbody tr th:only-of-type {\n",
       "        vertical-align: middle;\n",
       "    }\n",
       "\n",
       "    .dataframe tbody tr th {\n",
       "        vertical-align: top;\n",
       "    }\n",
       "\n",
       "    .dataframe thead th {\n",
       "        text-align: right;\n",
       "    }\n",
       "</style>\n",
       "<table border=\"1\" class=\"dataframe\">\n",
       "  <thead>\n",
       "    <tr style=\"text-align: right;\">\n",
       "      <th></th>\n",
       "      <th>EIA_P_DATE</th>\n",
       "      <th>EIA_PLANT__x</th>\n",
       "      <th>MONTH_x</th>\n",
       "      <th>gm_DB_mean</th>\n",
       "      <th>gm_WB_mean</th>\n",
       "      <th>gm_WS_mean</th>\n",
       "      <th>gm_EV_mean</th>\n",
       "      <th>EIA_PLANT__y</th>\n",
       "      <th>MONTH_y</th>\n",
       "      <th>DB_C</th>\n",
       "      <th>WB_C</th>\n",
       "      <th>WS_ms</th>\n",
       "      <th>EV_mm</th>\n",
       "    </tr>\n",
       "  </thead>\n",
       "  <tbody>\n",
       "    <tr>\n",
       "      <td>0</td>\n",
       "      <td>3_2015-01</td>\n",
       "      <td>3</td>\n",
       "      <td>01</td>\n",
       "      <td>8.361297</td>\n",
       "      <td>4.988474</td>\n",
       "      <td>4.051613</td>\n",
       "      <td>2.259193</td>\n",
       "      <td>3</td>\n",
       "      <td>01</td>\n",
       "      <td>7.1</td>\n",
       "      <td>9.7</td>\n",
       "      <td>3.442199</td>\n",
       "      <td>NaN</td>\n",
       "    </tr>\n",
       "    <tr>\n",
       "      <td>1</td>\n",
       "      <td>3_2015-02</td>\n",
       "      <td>3</td>\n",
       "      <td>02</td>\n",
       "      <td>7.560718</td>\n",
       "      <td>4.207253</td>\n",
       "      <td>4.464286</td>\n",
       "      <td>2.512500</td>\n",
       "      <td>3</td>\n",
       "      <td>02</td>\n",
       "      <td>6.5</td>\n",
       "      <td>9.1</td>\n",
       "      <td>3.889238</td>\n",
       "      <td>NaN</td>\n",
       "    </tr>\n",
       "    <tr>\n",
       "      <td>2</td>\n",
       "      <td>3_2015-03</td>\n",
       "      <td>3</td>\n",
       "      <td>03</td>\n",
       "      <td>16.924196</td>\n",
       "      <td>12.954469</td>\n",
       "      <td>3.890323</td>\n",
       "      <td>3.553064</td>\n",
       "      <td>3</td>\n",
       "      <td>03</td>\n",
       "      <td>15.3</td>\n",
       "      <td>18.0</td>\n",
       "      <td>3.218680</td>\n",
       "      <td>NaN</td>\n",
       "    </tr>\n",
       "    <tr>\n",
       "      <td>3</td>\n",
       "      <td>3_2015-04</td>\n",
       "      <td>3</td>\n",
       "      <td>04</td>\n",
       "      <td>20.540006</td>\n",
       "      <td>16.756763</td>\n",
       "      <td>3.776667</td>\n",
       "      <td>4.396000</td>\n",
       "      <td>3</td>\n",
       "      <td>04</td>\n",
       "      <td>19.1</td>\n",
       "      <td>21.5</td>\n",
       "      <td>2.950457</td>\n",
       "      <td>NaN</td>\n",
       "    </tr>\n",
       "    <tr>\n",
       "      <td>4</td>\n",
       "      <td>3_2015-05</td>\n",
       "      <td>3</td>\n",
       "      <td>05</td>\n",
       "      <td>23.209678</td>\n",
       "      <td>19.329525</td>\n",
       "      <td>3.254839</td>\n",
       "      <td>5.510806</td>\n",
       "      <td>3</td>\n",
       "      <td>05</td>\n",
       "      <td>20.8</td>\n",
       "      <td>24.0</td>\n",
       "      <td>2.861049</td>\n",
       "      <td>NaN</td>\n",
       "    </tr>\n",
       "  </tbody>\n",
       "</table>\n",
       "</div>"
      ],
      "text/plain": [
       "  EIA_P_DATE  EIA_PLANT__x MONTH_x  gm_DB_mean  gm_WB_mean  gm_WS_mean  \\\n",
       "0  3_2015-01             3      01    8.361297    4.988474    4.051613   \n",
       "1  3_2015-02             3      02    7.560718    4.207253    4.464286   \n",
       "2  3_2015-03             3      03   16.924196   12.954469    3.890323   \n",
       "3  3_2015-04             3      04   20.540006   16.756763    3.776667   \n",
       "4  3_2015-05             3      05   23.209678   19.329525    3.254839   \n",
       "\n",
       "   gm_EV_mean  EIA_PLANT__y MONTH_y  DB_C  WB_C     WS_ms  EV_mm  \n",
       "0    2.259193             3      01   7.1   9.7  3.442199    NaN  \n",
       "1    2.512500             3      02   6.5   9.1  3.889238    NaN  \n",
       "2    3.553064             3      03  15.3  18.0  3.218680    NaN  \n",
       "3    4.396000             3      04  19.1  21.5  2.950457    NaN  \n",
       "4    5.510806             3      05  20.8  24.0  2.861049    NaN  "
      ]
     },
     "execution_count": 19,
     "metadata": {},
     "output_type": "execute_result"
    }
   ],
   "source": [
    "mean_stats.head()"
   ]
  },
  {
   "cell_type": "code",
   "execution_count": null,
   "metadata": {},
   "outputs": [],
   "source": []
  },
  {
   "cell_type": "code",
   "execution_count": 20,
   "metadata": {},
   "outputs": [],
   "source": [
    "# calculate the rmse between predictions (gridMET data) and targets (climate station corrected data). Maybe there is a better \n",
    "# vectorized way to do this, takes a few mins\n",
    "for i in range(len(mean_stats)):\n",
    "    mean_stats.loc[i, 'RMSE_DB'] = rmse(mean_stats.loc[i,'gm_DB_mean'], mean_stats.loc[i,'DB_C'])\n",
    "    mean_stats.loc[i, 'RMSE_WB'] = rmse(mean_stats.loc[i,'gm_WB_mean'], mean_stats.loc[i,'WB_C'])\n",
    "    mean_stats.loc[i, 'RMSE_WS'] = rmse(mean_stats.loc[i,'gm_WS_mean'], mean_stats.loc[i,'WS_ms'])\n",
    "    mean_stats.loc[i, 'RMSE_EV'] = rmse(mean_stats.loc[i,'gm_EV_mean'], mean_stats.loc[i,'EV_mm'])\n"
   ]
  },
  {
   "cell_type": "code",
   "execution_count": 100,
   "metadata": {},
   "outputs": [],
   "source": [
    "#compute the obs-sim column\n",
    "mean_stats['OBS_SIM_DB'] = mean_stats['DB_C'] - mean_stats['gm_DB_mean']\n",
    "mean_stats['OBS_SIM_WB'] = mean_stats['WB_C'] - mean_stats['gm_WB_mean']\n",
    "mean_stats['OBS_SIM_WS'] = mean_stats['WS_ms'] - mean_stats['gm_WS_mean']\n",
    "mean_stats['OBS_SIM_EV'] = mean_stats['EV_mm'] - mean_stats['gm_EV_mean']"
   ]
  },
  {
   "cell_type": "code",
   "execution_count": 24,
   "metadata": {},
   "outputs": [],
   "source": [
    "# fix up the df \n",
    "mean_stats.drop(columns= ['EIA_PLANT__y', 'MONTH_y'], inplace = True)"
   ]
  },
  {
   "cell_type": "code",
   "execution_count": 102,
   "metadata": {},
   "outputs": [
    {
     "data": {
      "text/plain": [
       "Index(['EIA_P_DATE', 'EIA_PLANT_', 'MONTH', 'gm_DB_mean', 'gm_WB_mean',\n",
       "       'gm_WS_mean', 'gm_EV_mean', 'DB_C', 'WB_C', 'WS_ms', 'EV_mm', 'RMSE_DB',\n",
       "       'RMSE_WB', 'RMSE_WS', 'RMSE_EV', 'OBS_SIM_DB', 'OBS_SIM_WB',\n",
       "       'OBS_SIM_WS', 'OBS_SIM_EV'],\n",
       "      dtype='object')"
      ]
     },
     "execution_count": 102,
     "metadata": {},
     "output_type": "execute_result"
    }
   ],
   "source": [
    "mean_stats.columns"
   ]
  },
  {
   "cell_type": "code",
   "execution_count": 104,
   "metadata": {},
   "outputs": [],
   "source": [
    "cols = ['EIA_P_DATE', 'EIA_PLANT_', 'MONTH', 'gm_DB_mean', 'gm_WB_mean',\n",
    "       'gm_WS_mean', 'gm_EV_mean', 'DB_C', 'WB_C',\n",
    "       'WS_ms', 'EV_mm', 'RMSE_DB', 'RMSE_WB', 'RMSE_WS', 'RMSE_EV', 'OBS_SIM_DB', 'OBS_SIM_WB',\n",
    "       'OBS_SIM_WS', 'OBS_SIM_EV']\n",
    "mean_stats.columns = cols"
   ]
  },
  {
   "cell_type": "code",
   "execution_count": 105,
   "metadata": {},
   "outputs": [],
   "source": [
    "# and add lat long for plotting\n",
    "mean_plot = pd.merge(mean_stats, TE_shp, on = 'EIA_PLANT_')"
   ]
  },
  {
   "cell_type": "code",
   "execution_count": 106,
   "metadata": {},
   "outputs": [],
   "source": [
    "mean_plot.drop(columns = ['NAME_OF_WA','COMID', 'COOLING_TY','GENERATION', 'WATER_SOUR', 'WATER_TYPE', \n",
    "                         'WITHDRAWAL', 'CONSUMPTIO','MIN_WITHDR', 'MAX_WITHDR', 'MIN_CONSUM', 'MAX_CONSUM', \n",
    "                         'NET_GENERA','geometry'], inplace =True)"
   ]
  },
  {
   "cell_type": "code",
   "execution_count": 111,
   "metadata": {},
   "outputs": [
    {
     "ename": "SyntaxError",
     "evalue": "can't assign to operator (<ipython-input-111-b70182a09ddf>, line 3)",
     "output_type": "error",
     "traceback": [
      "\u001b[1;36m  File \u001b[1;32m\"<ipython-input-111-b70182a09ddf>\"\u001b[1;36m, line \u001b[1;32m3\u001b[0m\n\u001b[1;33m    'mean_plot_'+str(val) = mean_plot[mean_plot['MONTH']==val]\u001b[0m\n\u001b[1;37m    ^\u001b[0m\n\u001b[1;31mSyntaxError\u001b[0m\u001b[1;31m:\u001b[0m can't assign to operator\n"
     ]
    }
   ],
   "source": []
  },
  {
   "cell_type": "code",
   "execution_count": 109,
   "metadata": {},
   "outputs": [
    {
     "data": {
      "text/plain": [
       "['01', '02', '03', '04', '05', '06', '07', '08', '09', '10', '11', '12']"
      ]
     },
     "execution_count": 109,
     "metadata": {},
     "output_type": "execute_result"
    }
   ],
   "source": [
    "months"
   ]
  },
  {
   "cell_type": "code",
   "execution_count": 99,
   "metadata": {},
   "outputs": [
    {
     "data": {
      "text/html": [
       "<div>\n",
       "<style scoped>\n",
       "    .dataframe tbody tr th:only-of-type {\n",
       "        vertical-align: middle;\n",
       "    }\n",
       "\n",
       "    .dataframe tbody tr th {\n",
       "        vertical-align: top;\n",
       "    }\n",
       "\n",
       "    .dataframe thead th {\n",
       "        text-align: right;\n",
       "    }\n",
       "</style>\n",
       "<table border=\"1\" class=\"dataframe\">\n",
       "  <thead>\n",
       "    <tr style=\"text-align: right;\">\n",
       "      <th></th>\n",
       "      <th>EIA_P_DATE</th>\n",
       "      <th>EIA_PLANT_</th>\n",
       "      <th>MONTH</th>\n",
       "      <th>gm_DB_mean</th>\n",
       "      <th>gm_WB_mean</th>\n",
       "      <th>gm_WS_mean</th>\n",
       "      <th>gm_EV_mean</th>\n",
       "      <th>DB_C</th>\n",
       "      <th>WB_C</th>\n",
       "      <th>WS_ms</th>\n",
       "      <th>...</th>\n",
       "      <th>RMSE_DB</th>\n",
       "      <th>RMSE_WB</th>\n",
       "      <th>RMSE_WS</th>\n",
       "      <th>RMSE_EV</th>\n",
       "      <th>OBS_SIM_DB</th>\n",
       "      <th>PLANT_NAME</th>\n",
       "      <th>COUNTY</th>\n",
       "      <th>STATE</th>\n",
       "      <th>LATITUDE</th>\n",
       "      <th>LONGITUDE</th>\n",
       "    </tr>\n",
       "  </thead>\n",
       "  <tbody>\n",
       "    <tr>\n",
       "      <td>0</td>\n",
       "      <td>3_2015-01</td>\n",
       "      <td>3</td>\n",
       "      <td>01</td>\n",
       "      <td>8.361297</td>\n",
       "      <td>4.988474</td>\n",
       "      <td>4.051613</td>\n",
       "      <td>2.259193</td>\n",
       "      <td>7.1</td>\n",
       "      <td>9.7</td>\n",
       "      <td>3.442199</td>\n",
       "      <td>...</td>\n",
       "      <td>1.261297</td>\n",
       "      <td>4.711526</td>\n",
       "      <td>0.609414</td>\n",
       "      <td>NaN</td>\n",
       "      <td>-1.261297</td>\n",
       "      <td>Barry</td>\n",
       "      <td>Mobile</td>\n",
       "      <td>AL</td>\n",
       "      <td>31.006964</td>\n",
       "      <td>-88.010900</td>\n",
       "    </tr>\n",
       "    <tr>\n",
       "      <td>12</td>\n",
       "      <td>7_2015-01</td>\n",
       "      <td>7</td>\n",
       "      <td>01</td>\n",
       "      <td>5.254847</td>\n",
       "      <td>1.955339</td>\n",
       "      <td>4.009677</td>\n",
       "      <td>1.883226</td>\n",
       "      <td>2.8</td>\n",
       "      <td>5.4</td>\n",
       "      <td>2.503418</td>\n",
       "      <td>...</td>\n",
       "      <td>2.454847</td>\n",
       "      <td>3.444661</td>\n",
       "      <td>1.506260</td>\n",
       "      <td>NaN</td>\n",
       "      <td>-2.454847</td>\n",
       "      <td>Gadsden</td>\n",
       "      <td>Etowah</td>\n",
       "      <td>AL</td>\n",
       "      <td>34.013611</td>\n",
       "      <td>-85.970278</td>\n",
       "    </tr>\n",
       "    <tr>\n",
       "      <td>24</td>\n",
       "      <td>8_2015-01</td>\n",
       "      <td>8</td>\n",
       "      <td>01</td>\n",
       "      <td>5.045168</td>\n",
       "      <td>1.943996</td>\n",
       "      <td>4.129032</td>\n",
       "      <td>1.930645</td>\n",
       "      <td>3.3</td>\n",
       "      <td>6.1</td>\n",
       "      <td>2.637529</td>\n",
       "      <td>...</td>\n",
       "      <td>1.745168</td>\n",
       "      <td>4.156004</td>\n",
       "      <td>1.491503</td>\n",
       "      <td>NaN</td>\n",
       "      <td>-1.745168</td>\n",
       "      <td>Gorgas</td>\n",
       "      <td>Walker</td>\n",
       "      <td>AL</td>\n",
       "      <td>33.644694</td>\n",
       "      <td>-87.199743</td>\n",
       "    </tr>\n",
       "    <tr>\n",
       "      <td>36</td>\n",
       "      <td>10_2015-01</td>\n",
       "      <td>10</td>\n",
       "      <td>01</td>\n",
       "      <td>6.306458</td>\n",
       "      <td>3.151530</td>\n",
       "      <td>3.793548</td>\n",
       "      <td>1.954355</td>\n",
       "      <td>4.4</td>\n",
       "      <td>7.2</td>\n",
       "      <td>2.637529</td>\n",
       "      <td>...</td>\n",
       "      <td>1.906458</td>\n",
       "      <td>4.048470</td>\n",
       "      <td>1.156019</td>\n",
       "      <td>NaN</td>\n",
       "      <td>-1.906458</td>\n",
       "      <td>Greene County</td>\n",
       "      <td>Greene</td>\n",
       "      <td>AL</td>\n",
       "      <td>32.601935</td>\n",
       "      <td>-87.782006</td>\n",
       "    </tr>\n",
       "    <tr>\n",
       "      <td>48</td>\n",
       "      <td>26_2015-01</td>\n",
       "      <td>26</td>\n",
       "      <td>01</td>\n",
       "      <td>6.219356</td>\n",
       "      <td>2.932816</td>\n",
       "      <td>4.161290</td>\n",
       "      <td>2.052581</td>\n",
       "      <td>3.5</td>\n",
       "      <td>6.3</td>\n",
       "      <td>2.458714</td>\n",
       "      <td>...</td>\n",
       "      <td>2.719356</td>\n",
       "      <td>3.367184</td>\n",
       "      <td>1.702576</td>\n",
       "      <td>NaN</td>\n",
       "      <td>-2.719356</td>\n",
       "      <td>E C Gaston</td>\n",
       "      <td>Shelby</td>\n",
       "      <td>AL</td>\n",
       "      <td>33.244058</td>\n",
       "      <td>-86.457463</td>\n",
       "    </tr>\n",
       "  </tbody>\n",
       "</table>\n",
       "<p>5 rows × 21 columns</p>\n",
       "</div>"
      ],
      "text/plain": [
       "    EIA_P_DATE  EIA_PLANT_ MONTH  gm_DB_mean  gm_WB_mean  gm_WS_mean  \\\n",
       "0    3_2015-01           3    01    8.361297    4.988474    4.051613   \n",
       "12   7_2015-01           7    01    5.254847    1.955339    4.009677   \n",
       "24   8_2015-01           8    01    5.045168    1.943996    4.129032   \n",
       "36  10_2015-01          10    01    6.306458    3.151530    3.793548   \n",
       "48  26_2015-01          26    01    6.219356    2.932816    4.161290   \n",
       "\n",
       "    gm_EV_mean  DB_C  WB_C     WS_ms  ...   RMSE_DB   RMSE_WB   RMSE_WS  \\\n",
       "0     2.259193   7.1   9.7  3.442199  ...  1.261297  4.711526  0.609414   \n",
       "12    1.883226   2.8   5.4  2.503418  ...  2.454847  3.444661  1.506260   \n",
       "24    1.930645   3.3   6.1  2.637529  ...  1.745168  4.156004  1.491503   \n",
       "36    1.954355   4.4   7.2  2.637529  ...  1.906458  4.048470  1.156019   \n",
       "48    2.052581   3.5   6.3  2.458714  ...  2.719356  3.367184  1.702576   \n",
       "\n",
       "    RMSE_EV  OBS_SIM_DB     PLANT_NAME  COUNTY STATE   LATITUDE  LONGITUDE  \n",
       "0       NaN   -1.261297          Barry  Mobile    AL  31.006964 -88.010900  \n",
       "12      NaN   -2.454847        Gadsden  Etowah    AL  34.013611 -85.970278  \n",
       "24      NaN   -1.745168         Gorgas  Walker    AL  33.644694 -87.199743  \n",
       "36      NaN   -1.906458  Greene County  Greene    AL  32.601935 -87.782006  \n",
       "48      NaN   -2.719356     E C Gaston  Shelby    AL  33.244058 -86.457463  \n",
       "\n",
       "[5 rows x 21 columns]"
      ]
     },
     "execution_count": 99,
     "metadata": {},
     "output_type": "execute_result"
    }
   ],
   "source": [
    "mean_plot_jan.head()"
   ]
  },
  {
   "cell_type": "code",
   "execution_count": 39,
   "metadata": {},
   "outputs": [],
   "source": []
  },
  {
   "cell_type": "code",
   "execution_count": 40,
   "metadata": {},
   "outputs": [
    {
     "data": {
      "text/plain": [
       "[<shapely.geometry.point.Point at 0x186009e2f28>,\n",
       " <shapely.geometry.point.Point at 0x186009e2860>,\n",
       " <shapely.geometry.point.Point at 0x186009d67f0>]"
      ]
     },
     "execution_count": 40,
     "metadata": {},
     "output_type": "execute_result"
    }
   ],
   "source": [
    "geometry = [Point(xy) for xy in zip(mean_plot_jan['LONGITUDE'],mean_plot_jan['LATITUDE'])]\n",
    "geometry[:3]\n",
    "\n"
   ]
  },
  {
   "cell_type": "code",
   "execution_count": 43,
   "metadata": {},
   "outputs": [],
   "source": [
    "crs = {'init': 'epsg:4326'}"
   ]
  },
  {
   "cell_type": "code",
   "execution_count": 46,
   "metadata": {},
   "outputs": [],
   "source": [
    "jan_df = gpd.GeoDataFrame(mean_plot_jan, crs = crs, geometry= geometry)"
   ]
  },
  {
   "cell_type": "code",
   "execution_count": 53,
   "metadata": {},
   "outputs": [
    {
     "data": {
      "text/plain": [
       "10.816136438709677"
      ]
     },
     "execution_count": 53,
     "metadata": {},
     "output_type": "execute_result"
    }
   ],
   "source": [
    "mn = np.min(jan_df['RMSE_DB'])\n",
    "mx = np.max(jan_df['RMSE_DB'])\n",
    "\n",
    "mx"
   ]
  },
  {
   "cell_type": "code",
   "execution_count": null,
   "metadata": {},
   "outputs": [],
   "source": [
    "for_plot = for_plot.fillna(-999)"
   ]
  },
  {
   "cell_type": "code",
   "execution_count": 61,
   "metadata": {},
   "outputs": [
    {
     "data": {
      "text/plain": [
       "<matplotlib.axes._subplots.AxesSubplot at 0x18677d787b8>"
      ]
     },
     "execution_count": 61,
     "metadata": {},
     "output_type": "execute_result"
    },
    {
     "data": {
      "image/png": "[encoded data removed]",
      "text/plain": [
       "<Figure size 432x288 with 1 Axes>"
      ]
     },
     "metadata": {
      "needs_background": "light"
     },
     "output_type": "display_data"
    }
   ],
   "source": [
    "jan_df.plot()"
   ]
  },
  {
   "cell_type": "code",
   "execution_count": null,
   "metadata": {},
   "outputs": [],
   "source": [
    "months = ['01','02','03','04', '05', '06', '07', '08', '09', '10', '11', '12']\n",
    "for i, val in enumerate(months):\n",
    "    monthly_df = mean_plot[mean_plot['MONTH']==val]"
   ]
  },
  {
   "cell_type": "code",
   "execution_count": 74,
   "metadata": {},
   "outputs": [
    {
     "data": {
      "text/plain": [
       "<matplotlib.axes._subplots.AxesSubplot at 0x18602b775c0>"
      ]
     },
     "execution_count": 74,
     "metadata": {},
     "output_type": "execute_result"
    },
    {
     "data": {
      "image/png": "[encoded data removed]",
      "text/plain": [
       "<Figure size 1080x1080 with 2 Axes>"
      ]
     },
     "metadata": {
      "needs_background": "light"
     },
     "output_type": "display_data"
    }
   ],
   "source": [
    "fig, ax = plt.subplots(figsize = (15,15))\n",
    "jan_df.plot(column = 'RMSE_DB', ax = ax, legend=True, markersize=10)\n"
   ]
  },
  {
   "cell_type": "code",
   "execution_count": 94,
   "metadata": {},
   "outputs": [
    {
     "data": {
      "image/png": "[encoded data removed]",
      "text/plain": [
       "<Figure size 432x288 with 4 Axes>"
      ]
     },
     "metadata": {
      "needs_background": "light"
     },
     "output_type": "display_data"
    }
   ],
   "source": [
    "with PdfPages('January.pdf') as pdf:\n",
    "\n",
    "    for i, val in enumerate()\n",
    "    fig, (ax1, ax2) = plt.subplots(nrows = 2, sharex = True, sharey= True)\n",
    "    ax1.set_title('RMSE')\n",
    "    jan_df.plot(ax = ax1, column = 'RMSE_DB', legend = True)\n",
    "    ax2.set_title('OBS-SIM')\n",
    "    jan_df.plot(ax = ax2, column = 'OBS_SIM', legend = True)\n",
    "\n",
    "    pdf.savefig()"
   ]
  },
  {
   "cell_type": "code",
   "execution_count": 91,
   "metadata": {},
   "outputs": [
    {
     "data": {
      "text/plain": [
       "(array([  2.,   7.,   9.,  28.,  41., 362., 457., 172.,  23.,   5.]),\n",
       " array([-10.81613644,  -9.36855538,  -7.92097432,  -6.47339326,\n",
       "         -5.02581221,  -3.57823115,  -2.13065009,  -0.68306903,\n",
       "          0.76451203,   2.21209308,   3.65967414]),\n",
       " <a list of 10 Patch objects>)"
      ]
     },
     "execution_count": 91,
     "metadata": {},
     "output_type": "execute_result"
    },
    {
     "data": {
      "image/png": "[encoded data removed]",
      "text/plain": [
       "<Figure size 432x288 with 2 Axes>"
      ]
     },
     "metadata": {
      "needs_background": "light"
     },
     "output_type": "display_data"
    }
   ],
   "source": [
    "fig, (ax1, ax2) = plt.subplots(nrows = 2)\n",
    "ax1.set_title('RMSE')\n",
    "ax1.hist(jan_df['RMSE_DB'])\n",
    "ax2.set_title('OBS-SIM')\n",
    "ax2.hist(jan_df['OBS_SIM'])\n"
   ]
  },
  {
   "cell_type": "code",
   "execution_count": null,
   "metadata": {},
   "outputs": [],
   "source": [
    "for_plot_jan.to_csv('RMSE_Jan.csv')"
   ]
  },
  {
   "cell_type": "code",
   "execution_count": null,
   "metadata": {},
   "outputs": [],
   "source": [
    "for_plot_feb = for_plot[for_plot['MONTH']=='02']"
   ]
  },
  {
   "cell_type": "code",
   "execution_count": null,
   "metadata": {},
   "outputs": [],
   "source": [
    "for_plot_jan.to_csv('RMSE_Jan.csv')"
   ]
  },
  {
   "cell_type": "code",
   "execution_count": null,
   "metadata": {},
   "outputs": [],
   "source": [
    "range_pm = np.max(for_plot_jan['DB_C'])-np.min(for_plot_jan['DB_C'])\n",
    "range_gm = np.max(for_plot_jan['gm_DB_mean'])-np.min(for_plot_jan['gm_DB_mean'])"
   ]
  },
  {
   "cell_type": "code",
   "execution_count": null,
   "metadata": {},
   "outputs": [],
   "source": [
    "range_gm"
   ]
  },
  {
   "cell_type": "code",
   "execution_count": null,
   "metadata": {},
   "outputs": [],
   "source": [
    "# Identify and analyze these fits. Are the trends regional? correlations with elevation? "
   ]
  },
  {
   "cell_type": "code",
   "execution_count": null,
   "metadata": {},
   "outputs": [],
   "source": [
    "# Calculate a bias correction for the gridMET data\n",
    "# underlying assumption is that the 2015 input data is \"true\". Any caveats here? Although 2015 input data was rigorously\n",
    "# examined, there are more temporal data with gridMET, for which there might be some value. "
   ]
  },
  {
   "cell_type": "code",
   "execution_count": null,
   "metadata": {},
   "outputs": [],
   "source": []
  }
 ],
 "metadata": {
  "kernelspec": {
   "display_name": "Python 3",
   "language": "python",
   "name": "python3"
  },
  "language_info": {
   "codemirror_mode": {
    "name": "ipython",
    "version": 3
   },
   "file_extension": ".py",
   "mimetype": "text/x-python",
   "name": "python",
   "nbconvert_exporter": "python",
   "pygments_lexer": "ipython3",
   "version": "3.6.9"
  }
 },
 "nbformat": 4,
 "nbformat_minor": 2
}
