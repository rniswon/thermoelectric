{
 "cells": [
  {
   "cell_type": "markdown",
   "metadata": {},
   "source": [
    "# Compare gridMET data and modeled input\n",
    "\n",
    "### What this notebook does: \n",
    "- Compare the 2015 gridMET data pulled at TE locations (using TE_fetcher_parser_nearest_neighbor_Daily_gridMET_data) to 2015 input data from Harris and Diehl (2019)\n",
    "- Integrate the interp data set and the NN dataset\n",
    "\n",
    "### Why the comparison/ big picture goal: \n",
    "- Develop bias correction for gridMET data. Since 2015 input data from Harris and Diehl (2019) involved a lot of QA/QC and used climate stations, we will capitalize on that knowledge to better understand where the gridMET data might have issues. \n",
    "\n",
    "### Environment -- use 'ofp_env_upd2.yml' -- aka ofp_for_te2\n",
    "### will check more into contextily, maybe will update ofp_for_te, but for now kept separate"
   ]
  },
  {
   "cell_type": "code",
   "execution_count": 1,
   "metadata": {},
   "outputs": [
    {
     "name": "stdout",
     "output_type": "stream",
     "text": [
      "Populating the interactive namespace from numpy and matplotlib\n"
     ]
    }
   ],
   "source": [
    "# step 0- import the needed packages\n",
    "%matplotlib inline\n",
    "%pylab inline\n",
    "pylab.rcParams['figure.figsize'] = (10.0, 8.0)\n",
    "\n",
    "import geopandas as gpd\n",
    "import contextily as ctx\n",
    "import pandas as pd\n",
    "import os\n",
    "import numpy as np\n",
    "from shapely.geometry import Point, polygon\n",
    "from matplotlib.backends.backend_pdf import PdfPages"
   ]
  },
  {
   "cell_type": "code",
   "execution_count": 2,
   "metadata": {},
   "outputs": [],
   "source": [
    "# step 1- bring in df with lat longs of TE plants, gridMET data, 2015 model input data\n",
    "TEdir = r'C:\\WBEEP\\Thermoelectric-master\\Climate_data_fetcher'\n",
    "TE_shp = gpd.read_file(os.path.join(TEdir, '..\\GIS','2015_TE_Model_Estimates_lat.long_COMIDs.shp'))\n",
    "GM_data = pd.read_csv(os.path.join(TEdir, 'interpTE_plants_w_2015_daily_gridMET.csv'))\n",
    "#interp_data =pd.read_csv(os.path.join(TEdir, 'interp_TE_plants_w_2010_daily_gridMET.csv'))\n",
    "input_2015 = pd.read_csv(os.path.join(TEdir, '..\\TE_Harris_Diehl_2015', '2015_TE_input_data_AEG_switch.csv'))\n",
    "# Combined longterm pond net evap2.xlsx with 2015 input data"
   ]
  },
  {
   "cell_type": "code",
   "execution_count": null,
   "metadata": {},
   "outputs": [],
   "source": [
    "interp_data"
   ]
  },
  {
   "cell_type": "code",
   "execution_count": null,
   "metadata": {},
   "outputs": [],
   "source": [
    "GM_data"
   ]
  },
  {
   "cell_type": "code",
   "execution_count": null,
   "metadata": {},
   "outputs": [],
   "source": [
    "# Compare the interp data and the NN data to the input data"
   ]
  },
  {
   "cell_type": "code",
   "execution_count": 3,
   "metadata": {},
   "outputs": [],
   "source": [
    "# step 2- alter format of input_2015 for easier comparison to GM_data\n",
    "\n",
    "# remove duplicate plant EIAs and names, the duplicates are for different system types at the same location\n",
    "# but not relevant for comparing climate data.Remove columns relating to CD and WT- don't have those variables to compare to\n",
    "input_2015.drop_duplicates(subset = 'EIA_PLANT_ID', inplace=True)\n",
    "input_2015.drop(columns = ['COUNTY', 'STATE', 'NAME_OF_WATER_SOURCE','COOLING_TYPE', 'MODEL_TYPE', 'PERCENT_CD_ALLOCATION', \n",
    "                        'POND_AREA','CD_Jan', 'CD_Feb', 'CD_Mar', 'CD_Apr', 'CD_May', 'CD_Jun', 'CD_Jul', 'CD_Aug',\n",
    "                       'CD_Sep', 'CD_Oct', 'CD_Nov', 'CD_Dec','WT_Jan', 'WT_Feb', 'WT_Mar', 'WT_Apr', 'WT_May', 'WT_Jun', 'WT_Jul',\n",
    "                       'WT_Aug', 'WT_Sep', 'WT_Oct', 'WT_Nov', 'WT_Dec'], inplace=True)\n",
    "\n",
    "    "
   ]
  },
  {
   "cell_type": "code",
   "execution_count": 4,
   "metadata": {},
   "outputs": [
    {
     "data": {
      "text/plain": [
       "1122"
      ]
     },
     "execution_count": 4,
     "metadata": {},
     "output_type": "execute_result"
    }
   ],
   "source": [
    "len(input_2015)\n"
   ]
  },
  {
   "cell_type": "code",
   "execution_count": 5,
   "metadata": {},
   "outputs": [],
   "source": [
    "# step 2.1 make rows into columns for input_2015 data\n",
    "plants = input_2015['EIA_PLANT_ID']\n",
    "cols = ['DB','WB','WS','EV']\n",
    "\n",
    "for i, EIA in enumerate(plants):\n",
    "    temp = input_2015[input_2015['EIA_PLANT_ID'] == EIA]\n",
    "    DB = temp.loc[:, 'DB_01':'DB_12']\n",
    "    WB = temp.loc[:, 'WB_01':'WB_12']\n",
    "    WS = temp.loc[:, 'WS_01':'WS_12']\n",
    "    EV = temp.loc[:, 'EV_01':'EV_12']\n",
    "    variables = [DB,WB,WS,EV]\n",
    "    \n",
    "    for j, var in enumerate(variables):\n",
    "        df = var.T.reset_index()        \n",
    "        df['index'] = df['index'].str[-2:]\n",
    "        df.columns = ['MONTH', cols[j]]\n",
    "        if j == 0:\n",
    "            df1 = df.copy(deep=True)\n",
    "        else: \n",
    "            df1 = pd.merge(df1, df, on = 'MONTH')\n",
    "    \n",
    "    df1['EIA_PLANT_'] =  EIA\n",
    "    \n",
    "    if i == 0:\n",
    "        df2 = df1.copy(deep=True)\n",
    "    else:\n",
    "        df2 = df2.append(df1)\n"
   ]
  },
  {
   "cell_type": "code",
   "execution_count": null,
   "metadata": {},
   "outputs": [],
   "source": [
    "df2\n"
   ]
  },
  {
   "cell_type": "code",
   "execution_count": 6,
   "metadata": {},
   "outputs": [],
   "source": [
    "# step 2.2 a little more data manipulation, ordering of columns, unit conv\n",
    "conv_mm=25.4 #inches to mm\n",
    "conv_ms = 1/60/60*1609.34\n",
    "#reorder columns\n",
    "p_mod_input =df2.copy(deep=True)\n",
    "p_mod_input = p_mod_input[['EIA_PLANT_','MONTH','DB', 'WB', 'WS', 'EV']]\n",
    "#conv Evap from inches to mm\n",
    "p_mod_input['EV'] = p_mod_input['EV']*conv_mm\n",
    "#conv WS from mph to m/s\n",
    "p_mod_input['WS'] = p_mod_input['WS']*conv_ms\n",
    "\n",
    "#rename cols\n",
    "cols = ['EIA_PLANT_','MONTH','DB_C', 'WB_C', 'WS_ms','EV_mm']\n",
    "p_mod_input.columns = cols"
   ]
  },
  {
   "cell_type": "code",
   "execution_count": 11,
   "metadata": {},
   "outputs": [],
   "source": [
    "a = GM_data.iloc[0,1]"
   ]
  },
  {
   "cell_type": "code",
   "execution_count": 18,
   "metadata": {},
   "outputs": [],
   "source": [
    "# with the new interp data structure, use this line\n",
    "#GM_data.columns\n",
    "GM_data['YEAR'] = GM_data['EIA_P_DATE'].astype(str).str[-10:-6]\n",
    "GM_data['MONTH'] = GM_data['EIA_P_DATE'].astype(str).str[-5:-3]\n",
    "GM_data['EIA_PLANT_'] = GM_data['EIA_P_DATE'].astype(str).str[0:-10]"
   ]
  },
  {
   "cell_type": "code",
   "execution_count": 7,
   "metadata": {},
   "outputs": [
    {
     "ename": "KeyError",
     "evalue": "'day'",
     "output_type": "error",
     "traceback": [
      "\u001b[1;31m---------------------------------------------------------------------------\u001b[0m",
      "\u001b[1;31mKeyError\u001b[0m                                  Traceback (most recent call last)",
      "\u001b[1;32m~\\AppData\\Local\\Continuum\\anaconda3\\envs\\ofp_for_te2\\lib\\site-packages\\pandas\\core\\indexes\\base.py\u001b[0m in \u001b[0;36mget_loc\u001b[1;34m(self, key, method, tolerance)\u001b[0m\n\u001b[0;32m   2896\u001b[0m             \u001b[1;32mtry\u001b[0m\u001b[1;33m:\u001b[0m\u001b[1;33m\u001b[0m\u001b[1;33m\u001b[0m\u001b[0m\n\u001b[1;32m-> 2897\u001b[1;33m                 \u001b[1;32mreturn\u001b[0m \u001b[0mself\u001b[0m\u001b[1;33m.\u001b[0m\u001b[0m_engine\u001b[0m\u001b[1;33m.\u001b[0m\u001b[0mget_loc\u001b[0m\u001b[1;33m(\u001b[0m\u001b[0mkey\u001b[0m\u001b[1;33m)\u001b[0m\u001b[1;33m\u001b[0m\u001b[1;33m\u001b[0m\u001b[0m\n\u001b[0m\u001b[0;32m   2898\u001b[0m             \u001b[1;32mexcept\u001b[0m \u001b[0mKeyError\u001b[0m\u001b[1;33m:\u001b[0m\u001b[1;33m\u001b[0m\u001b[1;33m\u001b[0m\u001b[0m\n",
      "\u001b[1;32mpandas\\_libs\\index.pyx\u001b[0m in \u001b[0;36mpandas._libs.index.IndexEngine.get_loc\u001b[1;34m()\u001b[0m\n",
      "\u001b[1;32mpandas\\_libs\\index.pyx\u001b[0m in \u001b[0;36mpandas._libs.index.IndexEngine.get_loc\u001b[1;34m()\u001b[0m\n",
      "\u001b[1;32mpandas\\_libs\\hashtable_class_helper.pxi\u001b[0m in \u001b[0;36mpandas._libs.hashtable.PyObjectHashTable.get_item\u001b[1;34m()\u001b[0m\n",
      "\u001b[1;32mpandas\\_libs\\hashtable_class_helper.pxi\u001b[0m in \u001b[0;36mpandas._libs.hashtable.PyObjectHashTable.get_item\u001b[1;34m()\u001b[0m\n",
      "\u001b[1;31mKeyError\u001b[0m: 'day'",
      "\nDuring handling of the above exception, another exception occurred:\n",
      "\u001b[1;31mKeyError\u001b[0m                                  Traceback (most recent call last)",
      "\u001b[1;32m<ipython-input-7-1bff9f915513>\u001b[0m in \u001b[0;36m<module>\u001b[1;34m\u001b[0m\n\u001b[0;32m      1\u001b[0m \u001b[1;31m# Step 3- calculate monthly means and medians from gridMET data\u001b[0m\u001b[1;33m\u001b[0m\u001b[1;33m\u001b[0m\u001b[1;33m\u001b[0m\u001b[0m\n\u001b[1;32m----> 2\u001b[1;33m \u001b[0mGM_data\u001b[0m\u001b[1;33m[\u001b[0m\u001b[1;34m'YEAR'\u001b[0m\u001b[1;33m]\u001b[0m \u001b[1;33m=\u001b[0m \u001b[0mGM_data\u001b[0m\u001b[1;33m[\u001b[0m\u001b[1;34m'day'\u001b[0m\u001b[1;33m]\u001b[0m\u001b[1;33m.\u001b[0m\u001b[0mastype\u001b[0m\u001b[1;33m(\u001b[0m\u001b[0mstr\u001b[0m\u001b[1;33m)\u001b[0m\u001b[1;33m.\u001b[0m\u001b[0mstr\u001b[0m\u001b[1;33m[\u001b[0m\u001b[1;36m0\u001b[0m\u001b[1;33m:\u001b[0m\u001b[1;36m4\u001b[0m\u001b[1;33m]\u001b[0m\u001b[1;33m\u001b[0m\u001b[1;33m\u001b[0m\u001b[0m\n\u001b[0m\u001b[0;32m      3\u001b[0m \u001b[0mGM_data\u001b[0m\u001b[1;33m[\u001b[0m\u001b[1;34m'MONTH'\u001b[0m\u001b[1;33m]\u001b[0m \u001b[1;33m=\u001b[0m \u001b[0mGM_data\u001b[0m\u001b[1;33m[\u001b[0m\u001b[1;34m'day'\u001b[0m\u001b[1;33m]\u001b[0m\u001b[1;33m.\u001b[0m\u001b[0mastype\u001b[0m\u001b[1;33m(\u001b[0m\u001b[0mstr\u001b[0m\u001b[1;33m)\u001b[0m\u001b[1;33m.\u001b[0m\u001b[0mstr\u001b[0m\u001b[1;33m[\u001b[0m\u001b[1;36m5\u001b[0m\u001b[1;33m:\u001b[0m\u001b[1;36m7\u001b[0m\u001b[1;33m]\u001b[0m\u001b[1;33m\u001b[0m\u001b[1;33m\u001b[0m\u001b[0m\n",
      "\u001b[1;32m~\\AppData\\Local\\Continuum\\anaconda3\\envs\\ofp_for_te2\\lib\\site-packages\\pandas\\core\\frame.py\u001b[0m in \u001b[0;36m__getitem__\u001b[1;34m(self, key)\u001b[0m\n\u001b[0;32m   2978\u001b[0m             \u001b[1;32mif\u001b[0m \u001b[0mself\u001b[0m\u001b[1;33m.\u001b[0m\u001b[0mcolumns\u001b[0m\u001b[1;33m.\u001b[0m\u001b[0mnlevels\u001b[0m \u001b[1;33m>\u001b[0m \u001b[1;36m1\u001b[0m\u001b[1;33m:\u001b[0m\u001b[1;33m\u001b[0m\u001b[1;33m\u001b[0m\u001b[0m\n\u001b[0;32m   2979\u001b[0m                 \u001b[1;32mreturn\u001b[0m \u001b[0mself\u001b[0m\u001b[1;33m.\u001b[0m\u001b[0m_getitem_multilevel\u001b[0m\u001b[1;33m(\u001b[0m\u001b[0mkey\u001b[0m\u001b[1;33m)\u001b[0m\u001b[1;33m\u001b[0m\u001b[1;33m\u001b[0m\u001b[0m\n\u001b[1;32m-> 2980\u001b[1;33m             \u001b[0mindexer\u001b[0m \u001b[1;33m=\u001b[0m \u001b[0mself\u001b[0m\u001b[1;33m.\u001b[0m\u001b[0mcolumns\u001b[0m\u001b[1;33m.\u001b[0m\u001b[0mget_loc\u001b[0m\u001b[1;33m(\u001b[0m\u001b[0mkey\u001b[0m\u001b[1;33m)\u001b[0m\u001b[1;33m\u001b[0m\u001b[1;33m\u001b[0m\u001b[0m\n\u001b[0m\u001b[0;32m   2981\u001b[0m             \u001b[1;32mif\u001b[0m \u001b[0mis_integer\u001b[0m\u001b[1;33m(\u001b[0m\u001b[0mindexer\u001b[0m\u001b[1;33m)\u001b[0m\u001b[1;33m:\u001b[0m\u001b[1;33m\u001b[0m\u001b[1;33m\u001b[0m\u001b[0m\n\u001b[0;32m   2982\u001b[0m                 \u001b[0mindexer\u001b[0m \u001b[1;33m=\u001b[0m \u001b[1;33m[\u001b[0m\u001b[0mindexer\u001b[0m\u001b[1;33m]\u001b[0m\u001b[1;33m\u001b[0m\u001b[1;33m\u001b[0m\u001b[0m\n",
      "\u001b[1;32m~\\AppData\\Local\\Continuum\\anaconda3\\envs\\ofp_for_te2\\lib\\site-packages\\pandas\\core\\indexes\\base.py\u001b[0m in \u001b[0;36mget_loc\u001b[1;34m(self, key, method, tolerance)\u001b[0m\n\u001b[0;32m   2897\u001b[0m                 \u001b[1;32mreturn\u001b[0m \u001b[0mself\u001b[0m\u001b[1;33m.\u001b[0m\u001b[0m_engine\u001b[0m\u001b[1;33m.\u001b[0m\u001b[0mget_loc\u001b[0m\u001b[1;33m(\u001b[0m\u001b[0mkey\u001b[0m\u001b[1;33m)\u001b[0m\u001b[1;33m\u001b[0m\u001b[1;33m\u001b[0m\u001b[0m\n\u001b[0;32m   2898\u001b[0m             \u001b[1;32mexcept\u001b[0m \u001b[0mKeyError\u001b[0m\u001b[1;33m:\u001b[0m\u001b[1;33m\u001b[0m\u001b[1;33m\u001b[0m\u001b[0m\n\u001b[1;32m-> 2899\u001b[1;33m                 \u001b[1;32mreturn\u001b[0m \u001b[0mself\u001b[0m\u001b[1;33m.\u001b[0m\u001b[0m_engine\u001b[0m\u001b[1;33m.\u001b[0m\u001b[0mget_loc\u001b[0m\u001b[1;33m(\u001b[0m\u001b[0mself\u001b[0m\u001b[1;33m.\u001b[0m\u001b[0m_maybe_cast_indexer\u001b[0m\u001b[1;33m(\u001b[0m\u001b[0mkey\u001b[0m\u001b[1;33m)\u001b[0m\u001b[1;33m)\u001b[0m\u001b[1;33m\u001b[0m\u001b[1;33m\u001b[0m\u001b[0m\n\u001b[0m\u001b[0;32m   2900\u001b[0m         \u001b[0mindexer\u001b[0m \u001b[1;33m=\u001b[0m \u001b[0mself\u001b[0m\u001b[1;33m.\u001b[0m\u001b[0mget_indexer\u001b[0m\u001b[1;33m(\u001b[0m\u001b[1;33m[\u001b[0m\u001b[0mkey\u001b[0m\u001b[1;33m]\u001b[0m\u001b[1;33m,\u001b[0m \u001b[0mmethod\u001b[0m\u001b[1;33m=\u001b[0m\u001b[0mmethod\u001b[0m\u001b[1;33m,\u001b[0m \u001b[0mtolerance\u001b[0m\u001b[1;33m=\u001b[0m\u001b[0mtolerance\u001b[0m\u001b[1;33m)\u001b[0m\u001b[1;33m\u001b[0m\u001b[1;33m\u001b[0m\u001b[0m\n\u001b[0;32m   2901\u001b[0m         \u001b[1;32mif\u001b[0m \u001b[0mindexer\u001b[0m\u001b[1;33m.\u001b[0m\u001b[0mndim\u001b[0m \u001b[1;33m>\u001b[0m \u001b[1;36m1\u001b[0m \u001b[1;32mor\u001b[0m \u001b[0mindexer\u001b[0m\u001b[1;33m.\u001b[0m\u001b[0msize\u001b[0m \u001b[1;33m>\u001b[0m \u001b[1;36m1\u001b[0m\u001b[1;33m:\u001b[0m\u001b[1;33m\u001b[0m\u001b[1;33m\u001b[0m\u001b[0m\n",
      "\u001b[1;32mpandas\\_libs\\index.pyx\u001b[0m in \u001b[0;36mpandas._libs.index.IndexEngine.get_loc\u001b[1;34m()\u001b[0m\n",
      "\u001b[1;32mpandas\\_libs\\index.pyx\u001b[0m in \u001b[0;36mpandas._libs.index.IndexEngine.get_loc\u001b[1;34m()\u001b[0m\n",
      "\u001b[1;32mpandas\\_libs\\hashtable_class_helper.pxi\u001b[0m in \u001b[0;36mpandas._libs.hashtable.PyObjectHashTable.get_item\u001b[1;34m()\u001b[0m\n",
      "\u001b[1;32mpandas\\_libs\\hashtable_class_helper.pxi\u001b[0m in \u001b[0;36mpandas._libs.hashtable.PyObjectHashTable.get_item\u001b[1;34m()\u001b[0m\n",
      "\u001b[1;31mKeyError\u001b[0m: 'day'"
     ]
    }
   ],
   "source": [
    "# Step 3- calculate monthly means and medians from gridMET data, with the previous structure\n",
    "#GM_data['YEAR'] = GM_data['day'].astype(str).str[0:4]\n",
    "#GM_data['MONTH'] = GM_data['day'].astype(str).str[5:7]"
   ]
  },
  {
   "cell_type": "code",
   "execution_count": 19,
   "metadata": {},
   "outputs": [],
   "source": [
    "GM_data.drop(columns = ['Unnamed: 0'], inplace=True) # also drops HI and AK plants, no gridMET data there to compare, so 1106 \n",
    "#plants instead of 1122"
   ]
  },
  {
   "cell_type": "code",
   "execution_count": 26,
   "metadata": {},
   "outputs": [
    {
     "data": {
      "text/plain": [
       "Index(['EIA_P_DATE', 'air_tmp_avg_C', 'open_wtr_et_mm', 'wb_tmp_C',\n",
       "       'wnd_spd_m_s', 'YEAR', 'MONTH', 'EIA_PLANT_'],\n",
       "      dtype='object')"
      ]
     },
     "execution_count": 26,
     "metadata": {},
     "output_type": "execute_result"
    }
   ],
   "source": [
    "GM_data.columns"
   ]
  },
  {
   "cell_type": "code",
   "execution_count": 27,
   "metadata": {},
   "outputs": [],
   "source": [
    "# Step 3- calculate monthly means and medians from gridMET data\n",
    "#GM_data['YEAR'] = GM_data['day'].astype(str).str[0:4]\n",
    "#GM_data['MONTH'] = GM_data['day'].astype(str).str[5:7]\n",
    "\n",
    "month_means = pd.pivot_table(GM_data, index = ['EIA_PLANT_','MONTH'], aggfunc=np.mean)\n",
    "month_medians = pd.pivot_table(GM_data, index = ['EIA_PLANT_','MONTH'], aggfunc=np.median)\n",
    "month_means.reset_index(inplace=True)\n",
    "month_medians.reset_index(inplace=True)\n",
    "#GM_data.drop(columns = ['Unnamed: 0'], inplace=True) ##not sure why I cant do this before the aggfunc, but if I do\n",
    "# the number of plants reduces to 1106. Maybe there are some plants that are getting aggregated wrong. for now this is the \n",
    "# work aroudn to drop that column after\n"
   ]
  },
  {
   "cell_type": "code",
   "execution_count": 28,
   "metadata": {},
   "outputs": [
    {
     "data": {
      "text/html": [
       "<div>\n",
       "<style scoped>\n",
       "    .dataframe tbody tr th:only-of-type {\n",
       "        vertical-align: middle;\n",
       "    }\n",
       "\n",
       "    .dataframe tbody tr th {\n",
       "        vertical-align: top;\n",
       "    }\n",
       "\n",
       "    .dataframe thead th {\n",
       "        text-align: right;\n",
       "    }\n",
       "</style>\n",
       "<table border=\"1\" class=\"dataframe\">\n",
       "  <thead>\n",
       "    <tr style=\"text-align: right;\">\n",
       "      <th></th>\n",
       "      <th>EIA_PLANT_</th>\n",
       "      <th>MONTH</th>\n",
       "      <th>air_tmp_avg_C</th>\n",
       "      <th>open_wtr_et_mm</th>\n",
       "      <th>wb_tmp_C</th>\n",
       "      <th>wnd_spd_m_s</th>\n",
       "    </tr>\n",
       "  </thead>\n",
       "  <tbody>\n",
       "    <tr>\n",
       "      <td>0</td>\n",
       "      <td>10003_</td>\n",
       "      <td>01</td>\n",
       "      <td>1.554030</td>\n",
       "      <td>1.824691</td>\n",
       "      <td>-2.117635</td>\n",
       "      <td>3.258204</td>\n",
       "    </tr>\n",
       "    <tr>\n",
       "      <td>1</td>\n",
       "      <td>10003_</td>\n",
       "      <td>02</td>\n",
       "      <td>1.662579</td>\n",
       "      <td>2.094096</td>\n",
       "      <td>-2.350227</td>\n",
       "      <td>3.155320</td>\n",
       "    </tr>\n",
       "    <tr>\n",
       "      <td>2</td>\n",
       "      <td>10003_</td>\n",
       "      <td>03</td>\n",
       "      <td>6.458788</td>\n",
       "      <td>3.233599</td>\n",
       "      <td>1.337418</td>\n",
       "      <td>3.067248</td>\n",
       "    </tr>\n",
       "    <tr>\n",
       "      <td>3</td>\n",
       "      <td>10003_</td>\n",
       "      <td>04</td>\n",
       "      <td>8.167818</td>\n",
       "      <td>3.638044</td>\n",
       "      <td>3.103975</td>\n",
       "      <td>3.084779</td>\n",
       "    </tr>\n",
       "    <tr>\n",
       "      <td>4</td>\n",
       "      <td>10003_</td>\n",
       "      <td>05</td>\n",
       "      <td>10.306291</td>\n",
       "      <td>3.678281</td>\n",
       "      <td>6.718504</td>\n",
       "      <td>2.672344</td>\n",
       "    </tr>\n",
       "  </tbody>\n",
       "</table>\n",
       "</div>"
      ],
      "text/plain": [
       "  EIA_PLANT_ MONTH  air_tmp_avg_C  open_wtr_et_mm  wb_tmp_C  wnd_spd_m_s\n",
       "0     10003_    01       1.554030        1.824691 -2.117635     3.258204\n",
       "1     10003_    02       1.662579        2.094096 -2.350227     3.155320\n",
       "2     10003_    03       6.458788        3.233599  1.337418     3.067248\n",
       "3     10003_    04       8.167818        3.638044  3.103975     3.084779\n",
       "4     10003_    05      10.306291        3.678281  6.718504     2.672344"
      ]
     },
     "execution_count": 28,
     "metadata": {},
     "output_type": "execute_result"
    }
   ],
   "source": [
    "month_means.head()"
   ]
  },
  {
   "cell_type": "code",
   "execution_count": 29,
   "metadata": {},
   "outputs": [],
   "source": [
    "# Step 4: combine data for comparison\n",
    "# Adding a column called \"EIA_P_DATE\" which combines EIA PLANT and DATE \n",
    "month_means['EIA_P_DATE'] = month_means.apply(lambda row: str(row.EIA_PLANT_) + \"_2015-\" + str(row.MONTH), axis = 1)\n",
    "month_medians['EIA_P_DATE'] = month_medians.apply(lambda row: str(row.EIA_PLANT_) + \"_2015-\" + str(row.MONTH), axis = 1)\n",
    "p_mod_input['EIA_P_DATE'] = p_mod_input.apply(lambda row: str(row.EIA_PLANT_) + \"_2015-\" + str(row.MONTH), axis = 1)\n"
   ]
  },
  {
   "cell_type": "code",
   "execution_count": 30,
   "metadata": {},
   "outputs": [
    {
     "data": {
      "text/plain": [
       "(13272, 7)"
      ]
     },
     "execution_count": 30,
     "metadata": {},
     "output_type": "execute_result"
    }
   ],
   "source": [
    "month_means.shape"
   ]
  },
  {
   "cell_type": "code",
   "execution_count": 31,
   "metadata": {},
   "outputs": [
    {
     "data": {
      "text/plain": [
       "12.0"
      ]
     },
     "execution_count": 31,
     "metadata": {},
     "output_type": "execute_result"
    }
   ],
   "source": [
    "13272/1106"
   ]
  },
  {
   "cell_type": "code",
   "execution_count": 32,
   "metadata": {},
   "outputs": [],
   "source": [
    "#rename cols\n",
    "cols_mean =['EIA_PLANT_','MONTH','gm_DB_mean', 'gm_EV_mean', 'gm_WB_mean','gm_WS_mean','EIA_P_DATE']\n",
    "month_means.columns = cols_mean\n",
    "cols_median =['EIA_PLANT_','MONTH','gm_DB_med', 'gm_EV_med', 'gm_WB_med','gm_WS_med','EIA_P_DATE']\n",
    "month_medians.columns = cols_median\n",
    "\n",
    "#reorder cols\n",
    "month_means = month_means[['EIA_P_DATE','EIA_PLANT_','MONTH','gm_DB_mean', 'gm_WB_mean', 'gm_WS_mean', 'gm_EV_mean']]\n",
    "month_medians = month_medians[['EIA_P_DATE','EIA_PLANT_','MONTH','gm_DB_med', 'gm_WB_med', 'gm_WS_med', 'gm_EV_med']]\n",
    "p_mod_input = p_mod_input[['EIA_P_DATE','EIA_PLANT_','MONTH', 'DB_C','WB_C','WS_ms','EV_mm']]\n"
   ]
  },
  {
   "cell_type": "code",
   "execution_count": 33,
   "metadata": {},
   "outputs": [
    {
     "data": {
      "text/plain": [
       "True"
      ]
     },
     "execution_count": 33,
     "metadata": {},
     "output_type": "execute_result"
    }
   ],
   "source": [
    "len(month_means) == 1106*12\n",
    "len(month_medians) == 1106*12\n"
   ]
  },
  {
   "cell_type": "code",
   "execution_count": 34,
   "metadata": {},
   "outputs": [],
   "source": [
    "#merge the dfs on EIA_P_DATE\n",
    "mean_stats = pd.merge(month_means, p_mod_input, on = 'EIA_P_DATE')"
   ]
  },
  {
   "cell_type": "code",
   "execution_count": 55,
   "metadata": {},
   "outputs": [
    {
     "data": {
      "text/html": [
       "<div>\n",
       "<style scoped>\n",
       "    .dataframe tbody tr th:only-of-type {\n",
       "        vertical-align: middle;\n",
       "    }\n",
       "\n",
       "    .dataframe tbody tr th {\n",
       "        vertical-align: top;\n",
       "    }\n",
       "\n",
       "    .dataframe thead th {\n",
       "        text-align: right;\n",
       "    }\n",
       "</style>\n",
       "<table border=\"1\" class=\"dataframe\">\n",
       "  <thead>\n",
       "    <tr style=\"text-align: right;\">\n",
       "      <th></th>\n",
       "      <th>EIA_P_DATE</th>\n",
       "      <th>EIA_PLANT_</th>\n",
       "      <th>MONTH</th>\n",
       "      <th>DB_C</th>\n",
       "      <th>WB_C</th>\n",
       "      <th>WS_ms</th>\n",
       "      <th>EV_mm</th>\n",
       "    </tr>\n",
       "  </thead>\n",
       "  <tbody>\n",
       "    <tr>\n",
       "      <td>0</td>\n",
       "      <td>3_2015-01</td>\n",
       "      <td>3</td>\n",
       "      <td>01</td>\n",
       "      <td>9.7</td>\n",
       "      <td>7.1</td>\n",
       "      <td>3.442199</td>\n",
       "      <td>NaN</td>\n",
       "    </tr>\n",
       "    <tr>\n",
       "      <td>1</td>\n",
       "      <td>3_2015-02</td>\n",
       "      <td>3</td>\n",
       "      <td>02</td>\n",
       "      <td>9.1</td>\n",
       "      <td>6.5</td>\n",
       "      <td>3.889238</td>\n",
       "      <td>NaN</td>\n",
       "    </tr>\n",
       "    <tr>\n",
       "      <td>2</td>\n",
       "      <td>3_2015-03</td>\n",
       "      <td>3</td>\n",
       "      <td>03</td>\n",
       "      <td>18.0</td>\n",
       "      <td>15.3</td>\n",
       "      <td>3.218680</td>\n",
       "      <td>NaN</td>\n",
       "    </tr>\n",
       "    <tr>\n",
       "      <td>3</td>\n",
       "      <td>3_2015-04</td>\n",
       "      <td>3</td>\n",
       "      <td>04</td>\n",
       "      <td>21.5</td>\n",
       "      <td>19.1</td>\n",
       "      <td>2.950457</td>\n",
       "      <td>NaN</td>\n",
       "    </tr>\n",
       "    <tr>\n",
       "      <td>4</td>\n",
       "      <td>3_2015-05</td>\n",
       "      <td>3</td>\n",
       "      <td>05</td>\n",
       "      <td>24.0</td>\n",
       "      <td>20.8</td>\n",
       "      <td>2.861049</td>\n",
       "      <td>NaN</td>\n",
       "    </tr>\n",
       "    <tr>\n",
       "      <td>...</td>\n",
       "      <td>...</td>\n",
       "      <td>...</td>\n",
       "      <td>...</td>\n",
       "      <td>...</td>\n",
       "      <td>...</td>\n",
       "      <td>...</td>\n",
       "      <td>...</td>\n",
       "    </tr>\n",
       "    <tr>\n",
       "      <td>7</td>\n",
       "      <td>60100_2015-08</td>\n",
       "      <td>60100</td>\n",
       "      <td>08</td>\n",
       "      <td>27.7</td>\n",
       "      <td>17.5</td>\n",
       "      <td>3.397496</td>\n",
       "      <td>NaN</td>\n",
       "    </tr>\n",
       "    <tr>\n",
       "      <td>8</td>\n",
       "      <td>60100_2015-09</td>\n",
       "      <td>60100</td>\n",
       "      <td>09</td>\n",
       "      <td>25.7</td>\n",
       "      <td>15.6</td>\n",
       "      <td>2.726937</td>\n",
       "      <td>NaN</td>\n",
       "    </tr>\n",
       "    <tr>\n",
       "      <td>9</td>\n",
       "      <td>60100_2015-10</td>\n",
       "      <td>60100</td>\n",
       "      <td>10</td>\n",
       "      <td>21.7</td>\n",
       "      <td>15.3</td>\n",
       "      <td>2.190491</td>\n",
       "      <td>NaN</td>\n",
       "    </tr>\n",
       "    <tr>\n",
       "      <td>10</td>\n",
       "      <td>60100_2015-11</td>\n",
       "      <td>60100</td>\n",
       "      <td>11</td>\n",
       "      <td>11.0</td>\n",
       "      <td>7.9</td>\n",
       "      <td>1.832859</td>\n",
       "      <td>NaN</td>\n",
       "    </tr>\n",
       "    <tr>\n",
       "      <td>11</td>\n",
       "      <td>60100_2015-12</td>\n",
       "      <td>60100</td>\n",
       "      <td>12</td>\n",
       "      <td>7.8</td>\n",
       "      <td>5.9</td>\n",
       "      <td>2.011675</td>\n",
       "      <td>NaN</td>\n",
       "    </tr>\n",
       "  </tbody>\n",
       "</table>\n",
       "<p>13464 rows × 7 columns</p>\n",
       "</div>"
      ],
      "text/plain": [
       "       EIA_P_DATE  EIA_PLANT_ MONTH  DB_C  WB_C     WS_ms  EV_mm\n",
       "0       3_2015-01           3    01   9.7   7.1  3.442199    NaN\n",
       "1       3_2015-02           3    02   9.1   6.5  3.889238    NaN\n",
       "2       3_2015-03           3    03  18.0  15.3  3.218680    NaN\n",
       "3       3_2015-04           3    04  21.5  19.1  2.950457    NaN\n",
       "4       3_2015-05           3    05  24.0  20.8  2.861049    NaN\n",
       "..            ...         ...   ...   ...   ...       ...    ...\n",
       "7   60100_2015-08       60100    08  27.7  17.5  3.397496    NaN\n",
       "8   60100_2015-09       60100    09  25.7  15.6  2.726937    NaN\n",
       "9   60100_2015-10       60100    10  21.7  15.3  2.190491    NaN\n",
       "10  60100_2015-11       60100    11  11.0   7.9  1.832859    NaN\n",
       "11  60100_2015-12       60100    12   7.8   5.9  2.011675    NaN\n",
       "\n",
       "[13464 rows x 7 columns]"
      ]
     },
     "execution_count": 55,
     "metadata": {},
     "output_type": "execute_result"
    }
   ],
   "source": [
    "p_mod_input"
   ]
  },
  {
   "cell_type": "code",
   "execution_count": 56,
   "metadata": {},
   "outputs": [],
   "source": [
    "# Calculate the RMSE between monthly values\n",
    "# future- use sklearn mean_squared_error, for now not messing with the env, just using numpy\n",
    "def rmse(predictions, targets):\n",
    "    return np.sqrt(((predictions - targets)**2).mean())"
   ]
  },
  {
   "cell_type": "code",
   "execution_count": 36,
   "metadata": {},
   "outputs": [],
   "source": [
    "mean_stats['RMSE_DB'] = ''\n",
    "mean_stats['RMSE_WB'] = ''\n",
    "mean_stats['RMSE_WS'] = ''\n",
    "mean_stats['RMSE_EV'] = ''"
   ]
  },
  {
   "cell_type": "code",
   "execution_count": 37,
   "metadata": {},
   "outputs": [],
   "source": [
    "# calculate the rmse between predictions (gridMET data) and targets (climate station corrected data).\n",
    "for i in range(len(mean_stats)):\n",
    "    mean_stats.loc[i, 'RMSE_DB'] = rmse(mean_stats.loc[i,'gm_DB_mean'], mean_stats.loc[i,'DB_C'])\n",
    "    mean_stats.loc[i, 'RMSE_WB'] = rmse(mean_stats.loc[i,'gm_WB_mean'], mean_stats.loc[i,'WB_C'])\n",
    "    mean_stats.loc[i, 'RMSE_WS'] = rmse(mean_stats.loc[i,'gm_WS_mean'], mean_stats.loc[i,'WS_ms'])\n",
    "    mean_stats.loc[i, 'RMSE_EV'] = rmse(mean_stats.loc[i,'gm_EV_mean'], mean_stats.loc[i,'EV_mm'])\n"
   ]
  },
  {
   "cell_type": "code",
   "execution_count": 38,
   "metadata": {},
   "outputs": [],
   "source": [
    "#compute the obs-sim column\n",
    "mean_stats['OBS_SIM_DB'] = mean_stats['DB_C'] - mean_stats['gm_DB_mean']\n",
    "mean_stats['OBS_SIM_WB'] = mean_stats['WB_C'] - mean_stats['gm_WB_mean']\n",
    "mean_stats['OBS_SIM_WS'] = mean_stats['WS_ms'] - mean_stats['gm_WS_mean']\n",
    "mean_stats['OBS_SIM_EV'] = mean_stats['EV_mm'] - mean_stats['gm_EV_mean']"
   ]
  },
  {
   "cell_type": "code",
   "execution_count": 39,
   "metadata": {},
   "outputs": [],
   "source": [
    "# fix up the df \n",
    "mean_stats.drop(columns= ['EIA_PLANT__y', 'MONTH_y'], inplace = True)"
   ]
  },
  {
   "cell_type": "code",
   "execution_count": 40,
   "metadata": {},
   "outputs": [
    {
     "data": {
      "text/plain": [
       "Index(['EIA_P_DATE', 'EIA_PLANT__x', 'MONTH_x', 'gm_DB_mean', 'gm_WB_mean',\n",
       "       'gm_WS_mean', 'gm_EV_mean', 'DB_C', 'WB_C', 'WS_ms', 'EV_mm', 'RMSE_DB',\n",
       "       'RMSE_WB', 'RMSE_WS', 'RMSE_EV', 'OBS_SIM_DB', 'OBS_SIM_WB',\n",
       "       'OBS_SIM_WS', 'OBS_SIM_EV'],\n",
       "      dtype='object')"
      ]
     },
     "execution_count": 40,
     "metadata": {},
     "output_type": "execute_result"
    }
   ],
   "source": [
    "mean_stats.columns"
   ]
  },
  {
   "cell_type": "code",
   "execution_count": 41,
   "metadata": {},
   "outputs": [],
   "source": [
    "cols = ['EIA_P_DATE', 'EIA_PLANT_', 'MONTH', 'gm_DB_mean', 'gm_WB_mean',\n",
    "       'gm_WS_mean', 'gm_EV_mean', 'DB_C', 'WB_C',\n",
    "       'WS_ms', 'EV_mm', 'RMSE_DB', 'RMSE_WB', 'RMSE_WS', 'RMSE_EV', 'OBS_SIM_DB', 'OBS_SIM_WB',\n",
    "       'OBS_SIM_WS', 'OBS_SIM_EV']\n",
    "mean_stats.columns = cols"
   ]
  },
  {
   "cell_type": "code",
   "execution_count": 42,
   "metadata": {},
   "outputs": [],
   "source": [
    "# and add lat long for plotting\n",
    "mean_plot = pd.merge(mean_stats, TE_shp, on = 'EIA_PLANT_')"
   ]
  },
  {
   "cell_type": "code",
   "execution_count": 43,
   "metadata": {},
   "outputs": [
    {
     "data": {
      "text/html": [
       "<div>\n",
       "<style scoped>\n",
       "    .dataframe tbody tr th:only-of-type {\n",
       "        vertical-align: middle;\n",
       "    }\n",
       "\n",
       "    .dataframe tbody tr th {\n",
       "        vertical-align: top;\n",
       "    }\n",
       "\n",
       "    .dataframe thead th {\n",
       "        text-align: right;\n",
       "    }\n",
       "</style>\n",
       "<table border=\"1\" class=\"dataframe\">\n",
       "  <thead>\n",
       "    <tr style=\"text-align: right;\">\n",
       "      <th></th>\n",
       "      <th>EIA_P_DATE</th>\n",
       "      <th>MONTH</th>\n",
       "      <th>gm_DB_mean</th>\n",
       "      <th>gm_WB_mean</th>\n",
       "      <th>gm_WS_mean</th>\n",
       "      <th>gm_EV_mean</th>\n",
       "      <th>DB_C</th>\n",
       "      <th>WB_C</th>\n",
       "      <th>WS_ms</th>\n",
       "      <th>EV_mm</th>\n",
       "      <th>...</th>\n",
       "      <th>WATER_TYPE</th>\n",
       "      <th>WITHDRAWAL</th>\n",
       "      <th>CONSUMPTIO</th>\n",
       "      <th>MIN_WITHDR</th>\n",
       "      <th>MAX_WITHDR</th>\n",
       "      <th>MIN_CONSUM</th>\n",
       "      <th>MAX_CONSUM</th>\n",
       "      <th>NET_GENERA</th>\n",
       "      <th>why_no_CID</th>\n",
       "      <th>geometry</th>\n",
       "    </tr>\n",
       "  </thead>\n",
       "  <tbody>\n",
       "  </tbody>\n",
       "</table>\n",
       "<p>0 rows × 39 columns</p>\n",
       "</div>"
      ],
      "text/plain": [
       "Empty DataFrame\n",
       "Columns: [EIA_P_DATE, MONTH, gm_DB_mean, gm_WB_mean, gm_WS_mean, gm_EV_mean, DB_C, WB_C, WS_ms, EV_mm, RMSE_DB, RMSE_WB, RMSE_WS, RMSE_EV, OBS_SIM_DB, OBS_SIM_WB, OBS_SIM_WS, OBS_SIM_EV, EIA_PLANT_, PLANT_NAME, COUNTY, STATE, NAME_OF_WA, LATITUDE, LONGITUDE, COMID, COOLING_TY, GENERATION, WATER_SOUR, WATER_TYPE, WITHDRAWAL, CONSUMPTIO, MIN_WITHDR, MAX_WITHDR, MIN_CONSUM, MAX_CONSUM, NET_GENERA, why_no_CID, geometry]\n",
       "Index: []\n",
       "\n",
       "[0 rows x 39 columns]"
      ]
     },
     "execution_count": 43,
     "metadata": {},
     "output_type": "execute_result"
    }
   ],
   "source": [
    "mean_plot.head()\n",
    "#mean_plot.fillna(-999)\n",
    "#maybe dont need this\n"
   ]
  },
  {
   "cell_type": "code",
   "execution_count": 44,
   "metadata": {},
   "outputs": [],
   "source": [
    "mean_plot.drop(columns = ['NAME_OF_WA','COMID', 'COOLING_TY','GENERATION', 'WATER_SOUR', 'WATER_TYPE', \n",
    "                         'WITHDRAWAL', 'CONSUMPTIO','MIN_WITHDR', 'MAX_WITHDR', 'MIN_CONSUM', 'MAX_CONSUM', \n",
    "                         'NET_GENERA','geometry'], inplace =True)"
   ]
  },
  {
   "cell_type": "code",
   "execution_count": 45,
   "metadata": {},
   "outputs": [
    {
     "data": {
      "text/plain": [
       "Index(['EIA_P_DATE', 'MONTH', 'gm_DB_mean', 'gm_WB_mean', 'gm_WS_mean',\n",
       "       'gm_EV_mean', 'DB_C', 'WB_C', 'WS_ms', 'EV_mm', 'RMSE_DB', 'RMSE_WB',\n",
       "       'RMSE_WS', 'RMSE_EV', 'OBS_SIM_DB', 'OBS_SIM_WB', 'OBS_SIM_WS',\n",
       "       'OBS_SIM_EV', 'EIA_PLANT_', 'PLANT_NAME', 'COUNTY', 'STATE', 'LATITUDE',\n",
       "       'LONGITUDE', 'why_no_CID'],\n",
       "      dtype='object')"
      ]
     },
     "execution_count": 45,
     "metadata": {},
     "output_type": "execute_result"
    }
   ],
   "source": [
    "mean_plot.columns"
   ]
  },
  {
   "cell_type": "code",
   "execution_count": 46,
   "metadata": {},
   "outputs": [
    {
     "data": {
      "text/plain": [
       "[]"
      ]
     },
     "execution_count": 46,
     "metadata": {},
     "output_type": "execute_result"
    }
   ],
   "source": [
    "geometry = [Point(xy) for xy in zip(mean_plot['LONGITUDE'],mean_plot['LATITUDE'])]\n",
    "geometry[:3]\n",
    "\n"
   ]
  },
  {
   "cell_type": "code",
   "execution_count": 47,
   "metadata": {},
   "outputs": [],
   "source": [
    "crs = {'init': 'epsg:4326'}"
   ]
  },
  {
   "cell_type": "code",
   "execution_count": 48,
   "metadata": {},
   "outputs": [],
   "source": [
    "#turn it into a pandas geodataframe\n",
    "mean_df = gpd.GeoDataFrame(mean_plot, crs = crs, geometry= geometry)"
   ]
  },
  {
   "cell_type": "code",
   "execution_count": 49,
   "metadata": {},
   "outputs": [
    {
     "data": {
      "text/plain": [
       "Index(['EIA_P_DATE', 'MONTH', 'gm_DB_mean', 'gm_WB_mean', 'gm_WS_mean',\n",
       "       'gm_EV_mean', 'DB_C', 'WB_C', 'WS_ms', 'EV_mm', 'RMSE_DB', 'RMSE_WB',\n",
       "       'RMSE_WS', 'RMSE_EV', 'OBS_SIM_DB', 'OBS_SIM_WB', 'OBS_SIM_WS',\n",
       "       'OBS_SIM_EV', 'EIA_PLANT_', 'PLANT_NAME', 'COUNTY', 'STATE', 'LATITUDE',\n",
       "       'LONGITUDE', 'why_no_CID', 'geometry'],\n",
       "      dtype='object')"
      ]
     },
     "execution_count": 49,
     "metadata": {},
     "output_type": "execute_result"
    }
   ],
   "source": [
    "mean_df.columns"
   ]
  },
  {
   "cell_type": "code",
   "execution_count": 50,
   "metadata": {},
   "outputs": [
    {
     "data": {
      "text/html": [
       "<div>\n",
       "<style scoped>\n",
       "    .dataframe tbody tr th:only-of-type {\n",
       "        vertical-align: middle;\n",
       "    }\n",
       "\n",
       "    .dataframe tbody tr th {\n",
       "        vertical-align: top;\n",
       "    }\n",
       "\n",
       "    .dataframe thead th {\n",
       "        text-align: right;\n",
       "    }\n",
       "</style>\n",
       "<table border=\"1\" class=\"dataframe\">\n",
       "  <thead>\n",
       "    <tr style=\"text-align: right;\">\n",
       "      <th></th>\n",
       "      <th>EIA_P_DATE</th>\n",
       "      <th>MONTH</th>\n",
       "      <th>gm_DB_mean</th>\n",
       "      <th>gm_WB_mean</th>\n",
       "      <th>gm_WS_mean</th>\n",
       "      <th>gm_EV_mean</th>\n",
       "      <th>DB_C</th>\n",
       "      <th>WB_C</th>\n",
       "      <th>WS_ms</th>\n",
       "      <th>EV_mm</th>\n",
       "      <th>...</th>\n",
       "      <th>OBS_SIM_WS</th>\n",
       "      <th>OBS_SIM_EV</th>\n",
       "      <th>EIA_PLANT_</th>\n",
       "      <th>PLANT_NAME</th>\n",
       "      <th>COUNTY</th>\n",
       "      <th>STATE</th>\n",
       "      <th>LATITUDE</th>\n",
       "      <th>LONGITUDE</th>\n",
       "      <th>why_no_CID</th>\n",
       "      <th>geometry</th>\n",
       "    </tr>\n",
       "  </thead>\n",
       "  <tbody>\n",
       "  </tbody>\n",
       "</table>\n",
       "<p>0 rows × 26 columns</p>\n",
       "</div>"
      ],
      "text/plain": [
       "Empty GeoDataFrame\n",
       "Columns: [EIA_P_DATE, MONTH, gm_DB_mean, gm_WB_mean, gm_WS_mean, gm_EV_mean, DB_C, WB_C, WS_ms, EV_mm, RMSE_DB, RMSE_WB, RMSE_WS, RMSE_EV, OBS_SIM_DB, OBS_SIM_WB, OBS_SIM_WS, OBS_SIM_EV, EIA_PLANT_, PLANT_NAME, COUNTY, STATE, LATITUDE, LONGITUDE, why_no_CID, geometry]\n",
       "Index: []\n",
       "\n",
       "[0 rows x 26 columns]"
      ]
     },
     "execution_count": 50,
     "metadata": {},
     "output_type": "execute_result"
    }
   ],
   "source": [
    "mean_df\n"
   ]
  },
  {
   "cell_type": "code",
   "execution_count": 51,
   "metadata": {},
   "outputs": [
    {
     "name": "stderr",
     "output_type": "stream",
     "text": [
      "C:\\Users\\galanter\\AppData\\Local\\Continuum\\anaconda3\\envs\\ofp_for_te2\\lib\\site-packages\\geopandas\\plotting.py:405: UserWarning: The GeoDataFrame you are attempting to plot is empty. Nothing has been displayed.\n",
      "  \"empty. Nothing has been displayed.\", UserWarning)\n",
      "C:\\Users\\galanter\\AppData\\Local\\Continuum\\anaconda3\\envs\\ofp_for_te2\\lib\\site-packages\\ipykernel_launcher.py:21: RuntimeWarning: More than 20 figures have been opened. Figures created through the pyplot interface (`matplotlib.pyplot.figure`) are retained until explicitly closed and may consume too much memory. (To control this warning, see the rcParam `figure.max_open_warning`).\n",
      "C:\\Users\\galanter\\AppData\\Local\\Continuum\\anaconda3\\envs\\ofp_for_te2\\lib\\site-packages\\ipykernel_launcher.py:36: RuntimeWarning: More than 20 figures have been opened. Figures created through the pyplot interface (`matplotlib.pyplot.figure`) are retained until explicitly closed and may consume too much memory. (To control this warning, see the rcParam `figure.max_open_warning`).\n"
     ]
    },
    {
     "data": {
      "text/plain": [
       "<Figure size 576x576 with 0 Axes>"
      ]
     },
     "metadata": {},
     "output_type": "display_data"
    },
    {
     "data": {
      "text/plain": [
       "<Figure size 576x576 with 0 Axes>"
      ]
     },
     "metadata": {},
     "output_type": "display_data"
    },
    {
     "data": {
      "text/plain": [
       "<Figure size 576x576 with 0 Axes>"
      ]
     },
     "metadata": {},
     "output_type": "display_data"
    },
    {
     "data": {
      "text/plain": [
       "<Figure size 576x576 with 0 Axes>"
      ]
     },
     "metadata": {},
     "output_type": "display_data"
    },
    {
     "data": {
      "text/plain": [
       "<Figure size 576x576 with 0 Axes>"
      ]
     },
     "metadata": {},
     "output_type": "display_data"
    },
    {
     "data": {
      "text/plain": [
       "<Figure size 576x576 with 0 Axes>"
      ]
     },
     "metadata": {},
     "output_type": "display_data"
    },
    {
     "data": {
      "text/plain": [
       "<Figure size 576x576 with 0 Axes>"
      ]
     },
     "metadata": {},
     "output_type": "display_data"
    },
    {
     "data": {
      "text/plain": [
       "<Figure size 576x576 with 0 Axes>"
      ]
     },
     "metadata": {},
     "output_type": "display_data"
    },
    {
     "data": {
      "text/plain": [
       "<Figure size 576x576 with 0 Axes>"
      ]
     },
     "metadata": {},
     "output_type": "display_data"
    },
    {
     "data": {
      "text/plain": [
       "<Figure size 576x576 with 0 Axes>"
      ]
     },
     "metadata": {},
     "output_type": "display_data"
    },
    {
     "data": {
      "text/plain": [
       "<Figure size 576x576 with 0 Axes>"
      ]
     },
     "metadata": {},
     "output_type": "display_data"
    },
    {
     "data": {
      "text/plain": [
       "<Figure size 576x576 with 0 Axes>"
      ]
     },
     "metadata": {},
     "output_type": "display_data"
    },
    {
     "data": {
      "text/plain": [
       "<Figure size 576x576 with 0 Axes>"
      ]
     },
     "metadata": {},
     "output_type": "display_data"
    },
    {
     "data": {
      "text/plain": [
       "<Figure size 576x576 with 0 Axes>"
      ]
     },
     "metadata": {},
     "output_type": "display_data"
    },
    {
     "data": {
      "text/plain": [
       "<Figure size 576x576 with 0 Axes>"
      ]
     },
     "metadata": {},
     "output_type": "display_data"
    },
    {
     "data": {
      "text/plain": [
       "<Figure size 576x576 with 0 Axes>"
      ]
     },
     "metadata": {},
     "output_type": "display_data"
    },
    {
     "data": {
      "text/plain": [
       "<Figure size 576x576 with 0 Axes>"
      ]
     },
     "metadata": {},
     "output_type": "display_data"
    },
    {
     "data": {
      "text/plain": [
       "<Figure size 576x576 with 0 Axes>"
      ]
     },
     "metadata": {},
     "output_type": "display_data"
    },
    {
     "data": {
      "text/plain": [
       "<Figure size 576x576 with 0 Axes>"
      ]
     },
     "metadata": {},
     "output_type": "display_data"
    },
    {
     "data": {
      "text/plain": [
       "<Figure size 576x576 with 0 Axes>"
      ]
     },
     "metadata": {},
     "output_type": "display_data"
    },
    {
     "data": {
      "text/plain": [
       "<Figure size 576x576 with 0 Axes>"
      ]
     },
     "metadata": {},
     "output_type": "display_data"
    },
    {
     "data": {
      "text/plain": [
       "<Figure size 576x576 with 0 Axes>"
      ]
     },
     "metadata": {},
     "output_type": "display_data"
    },
    {
     "data": {
      "text/plain": [
       "<Figure size 576x576 with 0 Axes>"
      ]
     },
     "metadata": {},
     "output_type": "display_data"
    },
    {
     "data": {
      "text/plain": [
       "<Figure size 576x576 with 0 Axes>"
      ]
     },
     "metadata": {},
     "output_type": "display_data"
    }
   ],
   "source": [
    "## for testing\n",
    "#months = ['01']\n",
    "params = ['DB']\n",
    "units = ['deg_C']\n",
    "# not enough memory to get through all of them, need to separate and do EV separate\n",
    "\n",
    "months = ['01','02','03','04', '05', '06', '07', '08', '09', '10', '11', '12']\n",
    "#params = ['DB','WB','WS','EV']\n",
    "\n",
    "#units = ['deg_C','deg_C','m_s','mm']\n",
    "\n",
    "for p, param in enumerate(params):\n",
    "    with PdfPages(param + units[p] +'.pdf') as pdf:\n",
    "        for i, val in enumerate(months):\n",
    "            if param == 'EV':\n",
    "                monthly_df = mean_df[mean_df['MONTH']==val]\n",
    "                monthly_df = monthly_df.dropna()\n",
    "            else:\n",
    "                monthly_df = mean_df[mean_df['MONTH']==val]\n",
    "\n",
    "            fig, (ax1, ax2) = plt.subplots(nrows = 2, figsize = (8,8), sharex = True, sharey= True)\n",
    "            ax1.set_title('RMSE_'+ val + '_' + param + '_'+ units[p])\n",
    "            col_0 = 'RMSE_'+ param\n",
    "#            mn = np.min(col_0)\n",
    "#            mx = np.max(col_0)\n",
    "            monthly_df.plot(ax = ax1, column = col_0, legend = True, cmap = 'gist_rainbow')\n",
    "            ctx.add_basemap(ax1, crs = crs, source = ctx.providers.OpenTopoMap)\n",
    "            \n",
    "            ax2.set_title('OBS-SIM_'+ val +'_' + param +'_'+ units[p])\n",
    "            col_1 = 'OBS_SIM_'+ param\n",
    "            monthly_df.plot(ax = ax2, column = col_1, legend = True, cmap = 'gist_rainbow')\n",
    "            ctx.add_basemap(ax2, crs = crs, source = ctx.providers.OpenTopoMap)\n",
    "            pdf.savefig()\n",
    "            plt.clf()\n",
    "            \n",
    "            fig1, (ax1, ax2) = plt.subplots(nrows = 2, figsize = (8,8), sharey=True)\n",
    "            ax1.set_title('RMSE_' + val + '_' + param +'_'+ units[p])\n",
    "            ax1.hist(monthly_df[col_0])\n",
    "            ax2.set_title('OBS-SIM'+ '_' + val+ '_'+ param + '_'+units[p])\n",
    "            ax2.hist(monthly_df[col_1])\n",
    "\n",
    "            pdf.savefig()\n",
    "            plt.clf()"
   ]
  },
  {
   "cell_type": "code",
   "execution_count": null,
   "metadata": {},
   "outputs": [],
   "source": [
    "fig, (ax1, ax2) = plt.subplots(nrows = 2, figsize = (8,8), sharex = True, sharey= True)\n",
    "ax1.set_title('RMSE_'+ val + '_' + param + '_'+ units[p])\n",
    "col_0 = 'RMSE_'+ param\n",
    "monthly_df.plot(ax = ax1, column = col_0, legend = True)\n",
    "ctx.add_basemap(ax1, crs = crs, source = ctx.providers.OpenTopoMap)\n",
    "ax2.set_title('OBS-SIM_'+ val +'_' + param +'_'+ units[p])\n",
    "col_1 = 'OBS_SIM_'+ param\n",
    "monthly_df.plot(ax = ax2, column = col_1, legend = True)\n",
    "ctx.add_basemap(ax2, crs = crs, source = ctx.providers.OpenTopoMap)"
   ]
  },
  {
   "cell_type": "code",
   "execution_count": null,
   "metadata": {},
   "outputs": [],
   "source": [
    "ctx.providers.keys()"
   ]
  },
  {
   "cell_type": "code",
   "execution_count": null,
   "metadata": {},
   "outputs": [],
   "source": [
    "monthly_df = monthly_df.dropna(inplace =True)"
   ]
  },
  {
   "cell_type": "code",
   "execution_count": null,
   "metadata": {},
   "outputs": [],
   "source": [
    "with PdfPages('January.pdf') as pdf:\n",
    "    fig, (ax1, ax2) = plt.subplots(nrows = 2, sharex = True, sharey= True)\n",
    "    ax1.set_title('RMSE')\n",
    "    monthly_df.plot(ax = ax1, column = 'RMSE_DB', legend = True)\n",
    "    ax2.set_title('OBS-SIM')\n",
    "    monthly_df.plot(ax = ax2, column = 'OBS_SIM_DB', legend = True)\n",
    "\n",
    "    pdf.savefig()"
   ]
  },
  {
   "cell_type": "code",
   "execution_count": null,
   "metadata": {},
   "outputs": [],
   "source": [
    "fig, (ax1, ax2) = plt.subplots(nrows = 2)\n",
    "ax1.set_title('RMSE')\n",
    "ax1.hist(jan_df['RMSE_DB'])\n",
    "ax2.set_title('OBS-SIM')\n",
    "ax2.hist(jan_df['OBS_SIM'])\n"
   ]
  },
  {
   "cell_type": "code",
   "execution_count": null,
   "metadata": {},
   "outputs": [],
   "source": [
    "for_plot_jan.to_csv('RMSE_Jan.csv')"
   ]
  },
  {
   "cell_type": "code",
   "execution_count": null,
   "metadata": {},
   "outputs": [],
   "source": [
    "for_plot_feb = for_plot[for_plot['MONTH']=='02']"
   ]
  },
  {
   "cell_type": "code",
   "execution_count": null,
   "metadata": {},
   "outputs": [],
   "source": [
    "for_plot_jan.to_csv('RMSE_Jan.csv')"
   ]
  },
  {
   "cell_type": "code",
   "execution_count": null,
   "metadata": {},
   "outputs": [],
   "source": [
    "range_pm = np.max(for_plot_jan['DB_C'])-np.min(for_plot_jan['DB_C'])\n",
    "range_gm = np.max(for_plot_jan['gm_DB_mean'])-np.min(for_plot_jan['gm_DB_mean'])"
   ]
  },
  {
   "cell_type": "code",
   "execution_count": null,
   "metadata": {},
   "outputs": [],
   "source": [
    "range_gm"
   ]
  },
  {
   "cell_type": "code",
   "execution_count": null,
   "metadata": {},
   "outputs": [],
   "source": [
    "# Identify and analyze these fits. Are the trends regional? correlations with elevation? "
   ]
  },
  {
   "cell_type": "code",
   "execution_count": null,
   "metadata": {},
   "outputs": [],
   "source": [
    "# Calculate a bias correction for the gridMET data\n",
    "# underlying assumption is that the 2015 input data is \"true\". Any caveats here? Although 2015 input data was rigorously\n",
    "# examined, there are more temporal data with gridMET, for which there might be some value. "
   ]
  },
  {
   "cell_type": "code",
   "execution_count": null,
   "metadata": {},
   "outputs": [],
   "source": []
  }
 ],
 "metadata": {
  "kernelspec": {
   "display_name": "Python 3",
   "language": "python",
   "name": "python3"
  },
  "language_info": {
   "codemirror_mode": {
    "name": "ipython",
    "version": 3
   },
   "file_extension": ".py",
   "mimetype": "text/x-python",
   "name": "python",
   "nbconvert_exporter": "python",
   "pygments_lexer": "ipython3",
   "version": "3.6.9"
  }
 },
 "nbformat": 4,
 "nbformat_minor": 2
}
